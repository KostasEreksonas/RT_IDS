{
 "cells": [
  {
   "cell_type": "markdown",
   "id": "2e3801b2",
   "metadata": {
    "execution": {
     "iopub.execute_input": "2023-01-28T09:47:08.491192Z",
     "iopub.status.busy": "2023-01-28T09:47:08.490800Z",
     "iopub.status.idle": "2023-01-28T09:47:08.501154Z",
     "shell.execute_reply": "2023-01-28T09:47:08.499926Z",
     "shell.execute_reply.started": "2023-01-28T09:47:08.491116Z"
    },
    "papermill": {
     "duration": 0.022312,
     "end_time": "2023-01-30T17:17:20.314210",
     "exception": false,
     "start_time": "2023-01-30T17:17:20.291898",
     "status": "completed"
    },
    "tags": []
   },
   "source": [
    "# Exploratory Data Analysis: CIC-Bell-DNS-EXF-2021"
   ]
  },
  {
   "cell_type": "code",
   "execution_count": 1,
   "id": "9c5d56bc",
   "metadata": {
    "execution": {
     "iopub.execute_input": "2023-01-30T17:17:20.357770Z",
     "iopub.status.busy": "2023-01-30T17:17:20.357340Z",
     "iopub.status.idle": "2023-01-30T17:17:20.363625Z",
     "shell.execute_reply": "2023-01-30T17:17:20.362535Z"
    },
    "papermill": {
     "duration": 0.030852,
     "end_time": "2023-01-30T17:17:20.366069",
     "exception": false,
     "start_time": "2023-01-30T17:17:20.335217",
     "status": "completed"
    },
    "tags": []
   },
   "outputs": [],
   "source": [
    "#-----------\n",
    "# REFERENCE\n",
    "#-----------\n",
    "\n",
    "# https://www.unb.ca/cic/datasets/dns-exf-2021.html\n",
    "\n",
    "# Samaneh Mahdavifar, Amgad Hanafy Salem, Princy Victor, Miguel Garzon, Amir H. Razavi, Natasha Hellberg, Arash Habibi Lashkari, “Lightweight Hybrid Detection of Data Exfiltration using DNS based on Machine Learning”, The 11th IEEE International Conference on Communication and Network Security (ICCNS), Dec. 3-5, 2021, Beijing Jiaotong University, Weihai, China."
   ]
  },
  {
   "cell_type": "code",
   "execution_count": 2,
   "id": "47833af2",
   "metadata": {
    "execution": {
     "iopub.execute_input": "2023-01-30T17:17:20.409768Z",
     "iopub.status.busy": "2023-01-30T17:17:20.408724Z",
     "iopub.status.idle": "2023-01-30T17:17:20.417741Z",
     "shell.execute_reply": "2023-01-30T17:17:20.417052Z"
    },
    "papermill": {
     "duration": 0.032778,
     "end_time": "2023-01-30T17:17:20.419810",
     "exception": false,
     "start_time": "2023-01-30T17:17:20.387032",
     "status": "completed"
    },
    "tags": []
   },
   "outputs": [],
   "source": [
    "import numpy as np\n",
    "import pandas as pd\n",
    "\n",
    "pd.set_option('display.max_columns', None)\n",
    "pd.set_option('display.max_rows', None)"
   ]
  },
  {
   "cell_type": "markdown",
   "id": "99cdd5f1",
   "metadata": {
    "papermill": {
     "duration": 0.020644,
     "end_time": "2023-01-30T17:17:20.460580",
     "exception": false,
     "start_time": "2023-01-30T17:17:20.439936",
     "status": "completed"
    },
    "tags": []
   },
   "source": [
    "## Stateful Heavy Attack"
   ]
  },
  {
   "cell_type": "code",
   "execution_count": 3,
   "id": "cae4a90b",
   "metadata": {
    "execution": {
     "iopub.execute_input": "2023-01-30T17:17:20.504398Z",
     "iopub.status.busy": "2023-01-30T17:17:20.503648Z",
     "iopub.status.idle": "2023-01-30T17:17:20.951463Z",
     "shell.execute_reply": "2023-01-30T17:17:20.950696Z"
    },
    "papermill": {
     "duration": 0.472604,
     "end_time": "2023-01-30T17:17:20.954166",
     "exception": false,
     "start_time": "2023-01-30T17:17:20.481562",
     "status": "completed"
    },
    "tags": []
   },
   "outputs": [
    {
     "name": "stdout",
     "output_type": "stream",
     "text": [
      "Total Stateful Heavy Attacks: 72028\n"
     ]
    }
   ],
   "source": [
    "# ----------------------\n",
    "# stateful_heavy_attack\n",
    "# ----------------------\n",
    "\n",
    "\n",
    "PATH = '/kaggle/input/cicbelldnsexf2021/Attack_heavy_Benign/Attacks/'\n",
    "\n",
    "stateful_heavy_attack_audio = pd.read_csv(PATH+'stateful_features-heavy_audio.pcap.csv')\n",
    "stateful_heavy_attack_compressed = pd.read_csv(PATH+'stateful_features-heavy_compressed.pcap.csv')\n",
    "stateful_heavy_attack_exe = pd.read_csv(PATH+'stateful_features-heavy_exe.pcap.csv')\n",
    "stateful_heavy_attack_image = pd.read_csv(PATH+'stateful_features-heavy_image.pcap.csv')\n",
    "stateful_heavy_attack_text = pd.read_csv(PATH+'stateful_features-heavy_text.pcap.csv')\n",
    "stateful_heavy_attack_video = pd.read_csv(PATH+'stateful_features-heavy_video.pcap.csv')\n",
    "\n",
    "number_of_records = len(stateful_heavy_attack_audio)+len(stateful_heavy_attack_compressed)+\\\n",
    "                        len(stateful_heavy_attack_exe)+len(stateful_heavy_attack_image)+\\\n",
    "                        len(stateful_heavy_attack_text)+len(stateful_heavy_attack_video)\n",
    "\n",
    "# verifying number of stateful heavy attack records\n",
    "# https://www.unb.ca/cic/datasets/dns-exf-2021.html\n",
    "print('Total Stateful Heavy Attacks:', number_of_records)"
   ]
  },
  {
   "cell_type": "code",
   "execution_count": 4,
   "id": "06e3bd92",
   "metadata": {
    "execution": {
     "iopub.execute_input": "2023-01-30T17:17:21.000242Z",
     "iopub.status.busy": "2023-01-30T17:17:20.999590Z",
     "iopub.status.idle": "2023-01-30T17:17:21.013269Z",
     "shell.execute_reply": "2023-01-30T17:17:21.012076Z"
    },
    "papermill": {
     "duration": 0.04157,
     "end_time": "2023-01-30T17:17:21.016280",
     "exception": false,
     "start_time": "2023-01-30T17:17:20.974710",
     "status": "completed"
    },
    "tags": []
   },
   "outputs": [
    {
     "name": "stdout",
     "output_type": "stream",
     "text": [
      " True\n",
      " True\n",
      " True\n",
      " True\n",
      " True\n"
     ]
    }
   ],
   "source": [
    "# ----------------------\n",
    "# stateful_heavy_attack\n",
    "# ----------------------\n",
    "\n",
    "dfs = [stateful_heavy_attack_audio, stateful_heavy_attack_compressed, \n",
    "      stateful_heavy_attack_exe, stateful_heavy_attack_image, \n",
    "      stateful_heavy_attack_text, stateful_heavy_attack_video]\n",
    "\n",
    "columns = stateful_heavy_attack_audio.columns\n",
    "\n",
    "# checking if all dataframes, of stateful heavy attack type, have same column names\n",
    "columns_stateful_heavy_attack_audio = stateful_heavy_attack_audio.columns\n",
    "columns_stateful_heavy_attack_compressed = stateful_heavy_attack_compressed.columns\n",
    "columns_stateful_heavy_attack_exe = stateful_heavy_attack_exe.columns\n",
    "columns_stateful_heavy_attack_image = stateful_heavy_attack_image.columns\n",
    "columns_stateful_heavy_attack_text = stateful_heavy_attack_text.columns\n",
    "columns_stateful_heavy_attack_video = stateful_heavy_attack_video.columns\n",
    "\n",
    "dfs_columns = [ columns_stateful_heavy_attack_compressed,\n",
    "            columns_stateful_heavy_attack_exe,\n",
    "            columns_stateful_heavy_attack_image,\n",
    "            columns_stateful_heavy_attack_text,\n",
    "            columns_stateful_heavy_attack_video ]\n",
    "\n",
    "for cols in dfs_columns:\n",
    "    print('', columns_stateful_heavy_attack_audio.isin(cols).all())"
   ]
  },
  {
   "cell_type": "code",
   "execution_count": 5,
   "id": "8c773276",
   "metadata": {
    "execution": {
     "iopub.execute_input": "2023-01-30T17:17:21.059939Z",
     "iopub.status.busy": "2023-01-30T17:17:21.059204Z",
     "iopub.status.idle": "2023-01-30T17:17:21.098691Z",
     "shell.execute_reply": "2023-01-30T17:17:21.097400Z"
    },
    "papermill": {
     "duration": 0.063378,
     "end_time": "2023-01-30T17:17:21.101107",
     "exception": false,
     "start_time": "2023-01-30T17:17:21.037729",
     "status": "completed"
    },
    "tags": []
   },
   "outputs": [
    {
     "data": {
      "text/plain": [
       "72028"
      ]
     },
     "execution_count": 5,
     "metadata": {},
     "output_type": "execute_result"
    }
   ],
   "source": [
    "# ----------------------\n",
    "# stateful_heavy_attack\n",
    "# ----------------------\n",
    "\n",
    "# merging dataframes \n",
    "\n",
    "stateful_heavy_attack = pd.concat([stateful_heavy_attack_audio, \n",
    "                                   stateful_heavy_attack_compressed,\n",
    "                                   stateful_heavy_attack_exe,\n",
    "                                   stateful_heavy_attack_image,\n",
    "                                   stateful_heavy_attack_text,\n",
    "                                   stateful_heavy_attack_video])\n",
    "\n",
    "# verifying number of stateful heavy attack records after concatenation\n",
    "# https://www.unb.ca/cic/datasets/dns-exf-2021.html\n",
    "len(stateful_heavy_attack)"
   ]
  },
  {
   "cell_type": "code",
   "execution_count": 6,
   "id": "75f3a4a3",
   "metadata": {
    "execution": {
     "iopub.execute_input": "2023-01-30T17:17:21.143093Z",
     "iopub.status.busy": "2023-01-30T17:17:21.142528Z",
     "iopub.status.idle": "2023-01-30T17:17:21.168542Z",
     "shell.execute_reply": "2023-01-30T17:17:21.167451Z"
    },
    "papermill": {
     "duration": 0.049174,
     "end_time": "2023-01-30T17:17:21.170810",
     "exception": false,
     "start_time": "2023-01-30T17:17:21.121636",
     "status": "completed"
    },
    "tags": []
   },
   "outputs": [
    {
     "data": {
      "text/html": [
       "<div>\n",
       "<style scoped>\n",
       "    .dataframe tbody tr th:only-of-type {\n",
       "        vertical-align: middle;\n",
       "    }\n",
       "\n",
       "    .dataframe tbody tr th {\n",
       "        vertical-align: top;\n",
       "    }\n",
       "\n",
       "    .dataframe thead th {\n",
       "        text-align: right;\n",
       "    }\n",
       "</style>\n",
       "<table border=\"1\" class=\"dataframe\">\n",
       "  <thead>\n",
       "    <tr style=\"text-align: right;\">\n",
       "      <th></th>\n",
       "      <th>rr</th>\n",
       "      <th>A_frequency</th>\n",
       "      <th>NS_frequency</th>\n",
       "      <th>CNAME_frequency</th>\n",
       "      <th>SOA_frequency</th>\n",
       "      <th>NULL_frequency</th>\n",
       "      <th>PTR_frequency</th>\n",
       "      <th>HINFO_frequency</th>\n",
       "      <th>MX_frequency</th>\n",
       "      <th>TXT_frequency</th>\n",
       "      <th>AAAA_frequency</th>\n",
       "      <th>SRV_frequency</th>\n",
       "      <th>OPT_frequency</th>\n",
       "      <th>rr_type</th>\n",
       "      <th>rr_count</th>\n",
       "      <th>rr_name_entropy</th>\n",
       "      <th>rr_name_length</th>\n",
       "      <th>distinct_ns</th>\n",
       "      <th>distinct_ip</th>\n",
       "      <th>unique_country</th>\n",
       "      <th>unique_asn</th>\n",
       "      <th>distinct_domains</th>\n",
       "      <th>reverse_dns</th>\n",
       "      <th>a_records</th>\n",
       "      <th>unique_ttl</th>\n",
       "      <th>ttl_mean</th>\n",
       "      <th>ttl_variance</th>\n",
       "    </tr>\n",
       "  </thead>\n",
       "  <tbody>\n",
       "    <tr>\n",
       "      <th>0</th>\n",
       "      <td>0.0</td>\n",
       "      <td>0</td>\n",
       "      <td>0</td>\n",
       "      <td>0</td>\n",
       "      <td>0</td>\n",
       "      <td>0</td>\n",
       "      <td>2</td>\n",
       "      <td>0</td>\n",
       "      <td>0</td>\n",
       "      <td>0</td>\n",
       "      <td>0</td>\n",
       "      <td>0</td>\n",
       "      <td>0</td>\n",
       "      <td>{'PTR'}</td>\n",
       "      <td>0</td>\n",
       "      <td>3.146084</td>\n",
       "      <td>25</td>\n",
       "      <td>0</td>\n",
       "      <td>set()</td>\n",
       "      <td>set()</td>\n",
       "      <td>set()</td>\n",
       "      <td>{}</td>\n",
       "      <td>unknown</td>\n",
       "      <td>0</td>\n",
       "      <td>[1, 1]</td>\n",
       "      <td>1.0</td>\n",
       "      <td>0.0</td>\n",
       "    </tr>\n",
       "    <tr>\n",
       "      <th>1</th>\n",
       "      <td>0.0</td>\n",
       "      <td>0</td>\n",
       "      <td>0</td>\n",
       "      <td>0</td>\n",
       "      <td>0</td>\n",
       "      <td>0</td>\n",
       "      <td>0</td>\n",
       "      <td>0</td>\n",
       "      <td>0</td>\n",
       "      <td>0</td>\n",
       "      <td>0</td>\n",
       "      <td>0</td>\n",
       "      <td>0</td>\n",
       "      <td>set()</td>\n",
       "      <td>0</td>\n",
       "      <td>2.689019</td>\n",
       "      <td>15</td>\n",
       "      <td>0</td>\n",
       "      <td>set()</td>\n",
       "      <td>set()</td>\n",
       "      <td>set()</td>\n",
       "      <td>{}</td>\n",
       "      <td>unknown</td>\n",
       "      <td>0</td>\n",
       "      <td>[1]</td>\n",
       "      <td>1.0</td>\n",
       "      <td>0.0</td>\n",
       "    </tr>\n",
       "    <tr>\n",
       "      <th>2</th>\n",
       "      <td>0.0</td>\n",
       "      <td>0</td>\n",
       "      <td>0</td>\n",
       "      <td>0</td>\n",
       "      <td>0</td>\n",
       "      <td>0</td>\n",
       "      <td>7</td>\n",
       "      <td>0</td>\n",
       "      <td>0</td>\n",
       "      <td>0</td>\n",
       "      <td>0</td>\n",
       "      <td>0</td>\n",
       "      <td>0</td>\n",
       "      <td>{'PTR'}</td>\n",
       "      <td>0</td>\n",
       "      <td>3.102731</td>\n",
       "      <td>24</td>\n",
       "      <td>0</td>\n",
       "      <td>set()</td>\n",
       "      <td>set()</td>\n",
       "      <td>set()</td>\n",
       "      <td>{}</td>\n",
       "      <td>unknown</td>\n",
       "      <td>0</td>\n",
       "      <td>[1, 1, 1, 1, 1, 1, 1]</td>\n",
       "      <td>1.0</td>\n",
       "      <td>0.0</td>\n",
       "    </tr>\n",
       "    <tr>\n",
       "      <th>3</th>\n",
       "      <td>0.0</td>\n",
       "      <td>0</td>\n",
       "      <td>0</td>\n",
       "      <td>0</td>\n",
       "      <td>0</td>\n",
       "      <td>0</td>\n",
       "      <td>1</td>\n",
       "      <td>0</td>\n",
       "      <td>0</td>\n",
       "      <td>0</td>\n",
       "      <td>0</td>\n",
       "      <td>0</td>\n",
       "      <td>0</td>\n",
       "      <td>{'PTR'}</td>\n",
       "      <td>0</td>\n",
       "      <td>2.745694</td>\n",
       "      <td>16</td>\n",
       "      <td>0</td>\n",
       "      <td>set()</td>\n",
       "      <td>set()</td>\n",
       "      <td>set()</td>\n",
       "      <td>{}</td>\n",
       "      <td>unknown</td>\n",
       "      <td>0</td>\n",
       "      <td>[255]</td>\n",
       "      <td>255.0</td>\n",
       "      <td>0.0</td>\n",
       "    </tr>\n",
       "    <tr>\n",
       "      <th>4</th>\n",
       "      <td>0.0</td>\n",
       "      <td>0</td>\n",
       "      <td>0</td>\n",
       "      <td>0</td>\n",
       "      <td>0</td>\n",
       "      <td>0</td>\n",
       "      <td>2</td>\n",
       "      <td>0</td>\n",
       "      <td>0</td>\n",
       "      <td>0</td>\n",
       "      <td>0</td>\n",
       "      <td>0</td>\n",
       "      <td>0</td>\n",
       "      <td>{'PTR'}</td>\n",
       "      <td>0</td>\n",
       "      <td>3.146319</td>\n",
       "      <td>25</td>\n",
       "      <td>0</td>\n",
       "      <td>set()</td>\n",
       "      <td>set()</td>\n",
       "      <td>set()</td>\n",
       "      <td>{}</td>\n",
       "      <td>unknown</td>\n",
       "      <td>0</td>\n",
       "      <td>[1, 1]</td>\n",
       "      <td>1.0</td>\n",
       "      <td>0.0</td>\n",
       "    </tr>\n",
       "  </tbody>\n",
       "</table>\n",
       "</div>"
      ],
      "text/plain": [
       "    rr  A_frequency  NS_frequency  CNAME_frequency  SOA_frequency  \\\n",
       "0  0.0            0             0                0              0   \n",
       "1  0.0            0             0                0              0   \n",
       "2  0.0            0             0                0              0   \n",
       "3  0.0            0             0                0              0   \n",
       "4  0.0            0             0                0              0   \n",
       "\n",
       "   NULL_frequency  PTR_frequency  HINFO_frequency  MX_frequency  \\\n",
       "0               0              2                0             0   \n",
       "1               0              0                0             0   \n",
       "2               0              7                0             0   \n",
       "3               0              1                0             0   \n",
       "4               0              2                0             0   \n",
       "\n",
       "   TXT_frequency  AAAA_frequency  SRV_frequency  OPT_frequency  rr_type  \\\n",
       "0              0               0              0              0  {'PTR'}   \n",
       "1              0               0              0              0    set()   \n",
       "2              0               0              0              0  {'PTR'}   \n",
       "3              0               0              0              0  {'PTR'}   \n",
       "4              0               0              0              0  {'PTR'}   \n",
       "\n",
       "   rr_count  rr_name_entropy  rr_name_length  distinct_ns distinct_ip  \\\n",
       "0         0         3.146084              25            0       set()   \n",
       "1         0         2.689019              15            0       set()   \n",
       "2         0         3.102731              24            0       set()   \n",
       "3         0         2.745694              16            0       set()   \n",
       "4         0         3.146319              25            0       set()   \n",
       "\n",
       "  unique_country unique_asn distinct_domains reverse_dns  a_records  \\\n",
       "0          set()      set()               {}     unknown          0   \n",
       "1          set()      set()               {}     unknown          0   \n",
       "2          set()      set()               {}     unknown          0   \n",
       "3          set()      set()               {}     unknown          0   \n",
       "4          set()      set()               {}     unknown          0   \n",
       "\n",
       "              unique_ttl  ttl_mean  ttl_variance  \n",
       "0                 [1, 1]       1.0           0.0  \n",
       "1                    [1]       1.0           0.0  \n",
       "2  [1, 1, 1, 1, 1, 1, 1]       1.0           0.0  \n",
       "3                  [255]     255.0           0.0  \n",
       "4                 [1, 1]       1.0           0.0  "
      ]
     },
     "execution_count": 6,
     "metadata": {},
     "output_type": "execute_result"
    }
   ],
   "source": [
    "stateful_heavy_attack.head()"
   ]
  },
  {
   "cell_type": "code",
   "execution_count": 7,
   "id": "7b6f6453",
   "metadata": {
    "execution": {
     "iopub.execute_input": "2023-01-30T17:17:21.215128Z",
     "iopub.status.busy": "2023-01-30T17:17:21.214426Z",
     "iopub.status.idle": "2023-01-30T17:17:21.259763Z",
     "shell.execute_reply": "2023-01-30T17:17:21.258678Z"
    },
    "papermill": {
     "duration": 0.070694,
     "end_time": "2023-01-30T17:17:21.262730",
     "exception": false,
     "start_time": "2023-01-30T17:17:21.192036",
     "status": "completed"
    },
    "tags": []
   },
   "outputs": [
    {
     "name": "stdout",
     "output_type": "stream",
     "text": [
      "<class 'pandas.core.frame.DataFrame'>\n",
      "Int64Index: 72028 entries, 0 to 10896\n",
      "Data columns (total 27 columns):\n",
      " #   Column            Non-Null Count  Dtype  \n",
      "---  ------            --------------  -----  \n",
      " 0   rr                72028 non-null  float64\n",
      " 1   A_frequency       72028 non-null  int64  \n",
      " 2   NS_frequency      72028 non-null  int64  \n",
      " 3   CNAME_frequency   72028 non-null  int64  \n",
      " 4   SOA_frequency     72028 non-null  int64  \n",
      " 5   NULL_frequency    72028 non-null  int64  \n",
      " 6   PTR_frequency     72028 non-null  int64  \n",
      " 7   HINFO_frequency   72028 non-null  int64  \n",
      " 8   MX_frequency      72028 non-null  int64  \n",
      " 9   TXT_frequency     72028 non-null  int64  \n",
      " 10  AAAA_frequency    72028 non-null  int64  \n",
      " 11  SRV_frequency     72028 non-null  int64  \n",
      " 12  OPT_frequency     72028 non-null  int64  \n",
      " 13  rr_type           72028 non-null  object \n",
      " 14  rr_count          72028 non-null  int64  \n",
      " 15  rr_name_entropy   72028 non-null  float64\n",
      " 16  rr_name_length    72028 non-null  int64  \n",
      " 17  distinct_ns       72028 non-null  int64  \n",
      " 18  distinct_ip       72028 non-null  object \n",
      " 19  unique_country    72028 non-null  object \n",
      " 20  unique_asn        72028 non-null  object \n",
      " 21  distinct_domains  72028 non-null  object \n",
      " 22  reverse_dns       72028 non-null  object \n",
      " 23  a_records         72028 non-null  int64  \n",
      " 24  unique_ttl        72028 non-null  object \n",
      " 25  ttl_mean          72028 non-null  float64\n",
      " 26  ttl_variance      72028 non-null  float64\n",
      "dtypes: float64(4), int64(16), object(7)\n",
      "memory usage: 15.4+ MB\n"
     ]
    }
   ],
   "source": [
    "stateful_heavy_attack.info()"
   ]
  },
  {
   "cell_type": "code",
   "execution_count": 8,
   "id": "73d0f24b",
   "metadata": {
    "execution": {
     "iopub.execute_input": "2023-01-30T17:17:21.307936Z",
     "iopub.status.busy": "2023-01-30T17:17:21.307564Z",
     "iopub.status.idle": "2023-01-30T17:17:21.360034Z",
     "shell.execute_reply": "2023-01-30T17:17:21.358722Z"
    },
    "papermill": {
     "duration": 0.077973,
     "end_time": "2023-01-30T17:17:21.362597",
     "exception": false,
     "start_time": "2023-01-30T17:17:21.284624",
     "status": "completed"
    },
    "tags": []
   },
   "outputs": [
    {
     "name": "stdout",
     "output_type": "stream",
     "text": [
      "rr :  [ True]\n",
      "A_frequency :  [ True]\n",
      "NS_frequency :  [ True]\n",
      "CNAME_frequency :  [ True]\n",
      "SOA_frequency :  [ True]\n",
      "NULL_frequency :  [ True]\n",
      "PTR_frequency :  [ True]\n",
      "HINFO_frequency :  [ True]\n",
      "MX_frequency :  [ True]\n",
      "TXT_frequency :  [ True]\n",
      "AAAA_frequency :  [ True]\n",
      "SRV_frequency :  [ True]\n",
      "OPT_frequency :  [ True]\n",
      "rr_type :  [ True]\n",
      "rr_count :  [ True]\n",
      "rr_name_entropy :  [ True]\n",
      "rr_name_length :  [ True]\n",
      "distinct_ns :  [ True]\n",
      "distinct_ip :  [ True]\n",
      "unique_country :  [ True]\n",
      "unique_asn :  [ True]\n",
      "distinct_domains :  [ True]\n",
      "reverse_dns :  [ True]\n",
      "a_records :  [ True]\n",
      "unique_ttl :  [ True]\n",
      "ttl_mean :  [ True]\n",
      "ttl_variance :  [ True]\n"
     ]
    }
   ],
   "source": [
    "for column in columns:\n",
    "    print(column, ': ', stateful_heavy_attack[column].notnull().unique())"
   ]
  },
  {
   "cell_type": "code",
   "execution_count": 9,
   "id": "7d593ab8",
   "metadata": {
    "execution": {
     "iopub.execute_input": "2023-01-30T17:17:21.409698Z",
     "iopub.status.busy": "2023-01-30T17:17:21.408879Z",
     "iopub.status.idle": "2023-01-30T17:17:21.456781Z",
     "shell.execute_reply": "2023-01-30T17:17:21.455760Z"
    },
    "papermill": {
     "duration": 0.074009,
     "end_time": "2023-01-30T17:17:21.459396",
     "exception": false,
     "start_time": "2023-01-30T17:17:21.385387",
     "status": "completed"
    },
    "tags": []
   },
   "outputs": [],
   "source": [
    "numeric_columns = stateful_heavy_attack.select_dtypes(exclude=[object]).columns\n",
    "object_columns =  stateful_heavy_attack.select_dtypes(include=[object]).columns"
   ]
  },
  {
   "cell_type": "code",
   "execution_count": 10,
   "id": "70a3bf40",
   "metadata": {
    "execution": {
     "iopub.execute_input": "2023-01-30T17:17:21.511769Z",
     "iopub.status.busy": "2023-01-30T17:17:21.510742Z",
     "iopub.status.idle": "2023-01-30T17:17:21.534801Z",
     "shell.execute_reply": "2023-01-30T17:17:21.532964Z"
    },
    "papermill": {
     "duration": 0.052686,
     "end_time": "2023-01-30T17:17:21.537408",
     "exception": false,
     "start_time": "2023-01-30T17:17:21.484722",
     "status": "completed"
    },
    "tags": []
   },
   "outputs": [
    {
     "name": "stdout",
     "output_type": "stream",
     "text": [
      "<class 'pandas.core.frame.DataFrame'>\n",
      "Int64Index: 72028 entries, 0 to 10896\n",
      "Data columns (total 20 columns):\n",
      " #   Column           Non-Null Count  Dtype  \n",
      "---  ------           --------------  -----  \n",
      " 0   rr               72028 non-null  float64\n",
      " 1   A_frequency      72028 non-null  int64  \n",
      " 2   NS_frequency     72028 non-null  int64  \n",
      " 3   CNAME_frequency  72028 non-null  int64  \n",
      " 4   SOA_frequency    72028 non-null  int64  \n",
      " 5   NULL_frequency   72028 non-null  int64  \n",
      " 6   PTR_frequency    72028 non-null  int64  \n",
      " 7   HINFO_frequency  72028 non-null  int64  \n",
      " 8   MX_frequency     72028 non-null  int64  \n",
      " 9   TXT_frequency    72028 non-null  int64  \n",
      " 10  AAAA_frequency   72028 non-null  int64  \n",
      " 11  SRV_frequency    72028 non-null  int64  \n",
      " 12  OPT_frequency    72028 non-null  int64  \n",
      " 13  rr_count         72028 non-null  int64  \n",
      " 14  rr_name_entropy  72028 non-null  float64\n",
      " 15  rr_name_length   72028 non-null  int64  \n",
      " 16  distinct_ns      72028 non-null  int64  \n",
      " 17  a_records        72028 non-null  int64  \n",
      " 18  ttl_mean         72028 non-null  float64\n",
      " 19  ttl_variance     72028 non-null  float64\n",
      "dtypes: float64(4), int64(16)\n",
      "memory usage: 11.5 MB\n"
     ]
    }
   ],
   "source": [
    "stateful_heavy_attack[numeric_columns].info()"
   ]
  },
  {
   "cell_type": "code",
   "execution_count": 11,
   "id": "a90242cd",
   "metadata": {
    "execution": {
     "iopub.execute_input": "2023-01-30T17:17:21.584392Z",
     "iopub.status.busy": "2023-01-30T17:17:21.583729Z",
     "iopub.status.idle": "2023-01-30T17:17:21.622278Z",
     "shell.execute_reply": "2023-01-30T17:17:21.620885Z"
    },
    "papermill": {
     "duration": 0.065107,
     "end_time": "2023-01-30T17:17:21.625102",
     "exception": false,
     "start_time": "2023-01-30T17:17:21.559995",
     "status": "completed"
    },
    "tags": []
   },
   "outputs": [
    {
     "name": "stdout",
     "output_type": "stream",
     "text": [
      "<class 'pandas.core.frame.DataFrame'>\n",
      "Int64Index: 72028 entries, 0 to 10896\n",
      "Data columns (total 7 columns):\n",
      " #   Column            Non-Null Count  Dtype \n",
      "---  ------            --------------  ----- \n",
      " 0   rr_type           72028 non-null  object\n",
      " 1   distinct_ip       72028 non-null  object\n",
      " 2   unique_country    72028 non-null  object\n",
      " 3   unique_asn        72028 non-null  object\n",
      " 4   distinct_domains  72028 non-null  object\n",
      " 5   reverse_dns       72028 non-null  object\n",
      " 6   unique_ttl        72028 non-null  object\n",
      "dtypes: object(7)\n",
      "memory usage: 4.4+ MB\n"
     ]
    }
   ],
   "source": [
    "stateful_heavy_attack[object_columns].info()"
   ]
  },
  {
   "cell_type": "code",
   "execution_count": 12,
   "id": "d6d901f6",
   "metadata": {
    "execution": {
     "iopub.execute_input": "2023-01-30T17:17:21.671610Z",
     "iopub.status.busy": "2023-01-30T17:17:21.671231Z",
     "iopub.status.idle": "2023-01-30T17:17:21.699547Z",
     "shell.execute_reply": "2023-01-30T17:17:21.698463Z"
    },
    "papermill": {
     "duration": 0.053319,
     "end_time": "2023-01-30T17:17:21.701914",
     "exception": false,
     "start_time": "2023-01-30T17:17:21.648595",
     "status": "completed"
    },
    "tags": []
   },
   "outputs": [
    {
     "data": {
      "text/plain": [
       "rr                    0.039157\n",
       "A_frequency           0.039125\n",
       "NS_frequency          0.000000\n",
       "CNAME_frequency       0.000000\n",
       "SOA_frequency         0.000000\n",
       "NULL_frequency        0.000000\n",
       "PTR_frequency         5.544608\n",
       "HINFO_frequency       0.000000\n",
       "MX_frequency          0.000000\n",
       "TXT_frequency         0.000028\n",
       "AAAA_frequency        0.000056\n",
       "SRV_frequency         0.000000\n",
       "OPT_frequency         0.000000\n",
       "rr_count              0.000333\n",
       "rr_name_entropy       0.053900\n",
       "rr_name_length       12.222764\n",
       "distinct_ns           0.000097\n",
       "a_records             0.000000\n",
       "ttl_mean           2120.546396\n",
       "ttl_variance          0.016393\n",
       "dtype: float64"
      ]
     },
     "execution_count": 12,
     "metadata": {},
     "output_type": "execute_result"
    }
   ],
   "source": [
    "stateful_heavy_attack[numeric_columns].var()"
   ]
  },
  {
   "cell_type": "code",
   "execution_count": 13,
   "id": "1dcaf5c9",
   "metadata": {
    "execution": {
     "iopub.execute_input": "2023-01-30T17:17:21.748297Z",
     "iopub.status.busy": "2023-01-30T17:17:21.747892Z",
     "iopub.status.idle": "2023-01-30T17:17:21.788469Z",
     "shell.execute_reply": "2023-01-30T17:17:21.787265Z"
    },
    "papermill": {
     "duration": 0.066448,
     "end_time": "2023-01-30T17:17:21.790864",
     "exception": false,
     "start_time": "2023-01-30T17:17:21.724416",
     "status": "completed"
    },
    "tags": []
   },
   "outputs": [
    {
     "name": "stdout",
     "output_type": "stream",
     "text": [
      "rr_type : \n",
      " [\"{'PTR'}\" 'set()' \"{'A'}\" '{None}' \"{'TXT'}\" \"{'AAAA', 'A'}\"] \n",
      "\n",
      "\n",
      "\n",
      "distinct_ip : \n",
      " ['set()'] \n",
      "\n",
      "\n",
      "\n",
      "unique_country : \n",
      " ['set()' \"{'US'}\"] \n",
      "\n",
      "\n",
      "\n",
      "unique_asn : \n",
      " ['set()' \"{'AS15169'}\" \"{'AS3598'}\"] \n",
      "\n",
      "\n",
      "\n",
      "distinct_domains : \n",
      " ['{}' \"{'172.217.164.227': {'ssl.gstatic.com'}}\"\n",
      " \"{'131.107.255.255': {'dns.msftncsi.com'}}\"\n",
      " \"{'172.217.164.238': {'play.google.com'}}\"\n",
      " \"{'172.217.164.238': {'redirector.gvt1.com'}}\"] \n",
      "\n",
      "\n",
      "\n",
      "reverse_dns : \n",
      " ['unknown' 'yyz12s05-in-f3.1e100.net' 'dns.msftncsi.com'\n",
      " 'yyz12s05-in-f14.1e100.net'] \n",
      "\n",
      "\n",
      "\n",
      "unique_ttl : \n",
      " ['[1, 1]' '[1]' '[1, 1, 1, 1, 1, 1, 1]' '[255]' '[128]'\n",
      " '[1, 1, 1, 1, 1, 1]' '[1, 1, 1, 1]' '[128, 128, 128]'\n",
      " '[1, 1, 1, 1, 1, 1, 1, 1]' '[1, 1, 1, 1, 1]' '[1, 1, 1]'\n",
      " '[1, 1, 1, 1, 1, 1, 1, 1, 1, 1]'\n",
      " '[64, 64, 64, 64, 64, 64, 64, 64, 64, 64, 64, 64]'\n",
      " '[1, 1, 1, 1, 1, 1, 1, 1, 1, 1, 1]' '[128, 128, 128, 128, 128, 128]'\n",
      " '[1, 1, 1, 1, 1, 1, 1, 1, 1]' '[64, 64, 64]'\n",
      " '[64, 64, 64, 64, 64, 64, 64, 64, 64]' '[128, 128]' '[128, 122]'\n",
      " '[64, 64, 64, 64, 64, 64, 64]' '[64, 64, 64, 64, 64]'\n",
      " '[128, 128, 128, 128, 128, 128, 128, 128, 128]'\n",
      " '[128, 128, 128, 128, 128, 128, 128]'\n",
      " '[128, 128, 128, 128, 128, 128, 128, 128]' '[64, 64, 64, 64, 64, 64]'\n",
      " '[64]' '[64, 64, 64, 64, 64, 64, 64, 64, 64, 64, 64]'\n",
      " '[64, 64, 64, 64, 64, 64, 64, 64, 64, 64]' '[64, 64]'\n",
      " '[128, 128, 128, 128]' '[128, 128, 128, 128, 128]'\n",
      " '[64, 64, 64, 64, 64, 64, 64, 64]' '[64, 64, 64, 64]'\n",
      " '[1, 1, 1, 1, 1, 1, 1, 1, 1, 1, 1, 1, 1, 1]'\n",
      " '[1, 1, 1, 1, 1, 1, 1, 1, 1, 1, 1, 1, 1, 1, 1, 1]'\n",
      " '[1, 1, 1, 1, 1, 1, 1, 1, 1, 1, 1, 1]' '[255, 255]' '[255, 255, 255]'\n",
      " '[1, 1, 1, 1, 1, 1, 1, 1, 1, 1, 1, 1, 1]'\n",
      " '[1, 1, 1, 1, 1, 1, 1, 1, 1, 1, 1, 1, 1, 1, 1]' '[128, 128, 122, 122]'\n",
      " '[128, 128, 122]' '[1, 1, 1, 1, 1, 1, 1, 1, 1, 1, 1, 1, 1, 1, 1, 1, 1]'\n",
      " '[1, 1, 1, 1, 1, 1, 1, 1, 1, 1, 1, 1, 1, 1, 1, 1, 1, 1]'] \n",
      "\n",
      "\n",
      "\n"
     ]
    }
   ],
   "source": [
    "for obj_col in object_columns:\n",
    "    print(obj_col, ':', '\\n', stateful_heavy_attack[obj_col].unique(), '\\n\\n\\n')"
   ]
  },
  {
   "cell_type": "markdown",
   "id": "95e42c63",
   "metadata": {
    "papermill": {
     "duration": 0.022165,
     "end_time": "2023-01-30T17:17:21.835329",
     "exception": false,
     "start_time": "2023-01-30T17:17:21.813164",
     "status": "completed"
    },
    "tags": []
   },
   "source": [
    "## Stateful Heavy Benign"
   ]
  },
  {
   "cell_type": "code",
   "execution_count": 14,
   "id": "fe40695f",
   "metadata": {
    "execution": {
     "iopub.execute_input": "2023-01-30T17:17:21.881746Z",
     "iopub.status.busy": "2023-01-30T17:17:21.880925Z",
     "iopub.status.idle": "2023-01-30T17:17:22.820941Z",
     "shell.execute_reply": "2023-01-30T17:17:22.819701Z"
    },
    "papermill": {
     "duration": 0.966953,
     "end_time": "2023-01-30T17:17:22.824823",
     "exception": false,
     "start_time": "2023-01-30T17:17:21.857870",
     "status": "completed"
    },
    "tags": []
   },
   "outputs": [
    {
     "name": "stdout",
     "output_type": "stream",
     "text": [
      "Total Stateful Heavy Benign: 156014\n"
     ]
    }
   ],
   "source": [
    "# ---------------------\n",
    "# stateful_heavy_benign\n",
    "# ---------------------\n",
    "\n",
    "PATH = '/kaggle/input/cicbelldnsexf2021/Attack_heavy_Benign/Benign/'\n",
    "stateful_heavy_benign1 = pd.read_csv(PATH+'stateful_features-benign_heavy_1.pcap.csv')\n",
    "stateful_heavy_benign2 = pd.read_csv(PATH+'stateful_features-benign_heavy_2.pcap.csv')\n",
    "stateful_heavy_benign3 = pd.read_csv(PATH+'stateful_features-benign_heavy_3.pcap.csv')\n",
    "\n",
    "PATH = '/kaggle/input/cicbelldnsexf2021/Benign/'\n",
    "stateful_benign1 = pd.read_csv(PATH+'stateful_features-benign_1.pcap.csv')\n",
    "stateful_benign2 = pd.read_csv(PATH+'stateful_features-benign_2.pcap.csv')\n",
    "\n",
    "number_of_records = len(stateful_heavy_benign1)+len(stateful_heavy_benign2)+\\\n",
    "                        len(stateful_heavy_benign3)+\\\n",
    "                        len(stateful_benign1)+len(stateful_benign2)\n",
    "\n",
    "# verifying number of stateful heavy benign records\n",
    "# https://www.unb.ca/cic/datasets/dns-exf-2021.html\n",
    "print('Total Stateful Heavy Benign:', number_of_records)"
   ]
  },
  {
   "cell_type": "code",
   "execution_count": 15,
   "id": "c18950e3",
   "metadata": {
    "execution": {
     "iopub.execute_input": "2023-01-30T17:17:22.872285Z",
     "iopub.status.busy": "2023-01-30T17:17:22.871368Z",
     "iopub.status.idle": "2023-01-30T17:17:22.880523Z",
     "shell.execute_reply": "2023-01-30T17:17:22.879115Z"
    },
    "papermill": {
     "duration": 0.036004,
     "end_time": "2023-01-30T17:17:22.884085",
     "exception": false,
     "start_time": "2023-01-30T17:17:22.848081",
     "status": "completed"
    },
    "tags": []
   },
   "outputs": [
    {
     "name": "stdout",
     "output_type": "stream",
     "text": [
      " True\n",
      " True\n",
      " True\n",
      " True\n"
     ]
    }
   ],
   "source": [
    "# ---------------------\n",
    "# stateful_heavy_benign\n",
    "# ---------------------\n",
    "\n",
    "dfs = [stateful_heavy_benign1, stateful_heavy_benign2, stateful_heavy_benign3,\n",
    "               stateful_benign1, stateful_benign2]\n",
    "\n",
    "columns = stateful_heavy_benign1.columns\n",
    "\n",
    "# checking if all dataframes, of stateful heavy benign type, have same column names\n",
    "columns_stateful_heavy_benign1 = stateful_heavy_benign1.columns\n",
    "columns_stateful_heavy_benign2 = stateful_heavy_benign2.columns\n",
    "columns_stateful_heavy_benign3 = stateful_heavy_benign3.columns\n",
    "columns_stateful_benign1 = stateful_benign1.columns\n",
    "columns_stateful_benign2 = stateful_benign2.columns\n",
    "\n",
    "\n",
    "dfs_columns = [ columns_stateful_heavy_benign2,\n",
    "                columns_stateful_heavy_benign3, \n",
    "                columns_stateful_benign1,\n",
    "                columns_stateful_benign2]\n",
    "\n",
    "for cols in dfs_columns:\n",
    "    print('', columns_stateful_heavy_benign1.isin(cols).all())"
   ]
  },
  {
   "cell_type": "code",
   "execution_count": 16,
   "id": "dd59a63c",
   "metadata": {
    "execution": {
     "iopub.execute_input": "2023-01-30T17:17:22.931147Z",
     "iopub.status.busy": "2023-01-30T17:17:22.930228Z",
     "iopub.status.idle": "2023-01-30T17:17:22.977764Z",
     "shell.execute_reply": "2023-01-30T17:17:22.976776Z"
    },
    "papermill": {
     "duration": 0.072834,
     "end_time": "2023-01-30T17:17:22.979967",
     "exception": false,
     "start_time": "2023-01-30T17:17:22.907133",
     "status": "completed"
    },
    "tags": []
   },
   "outputs": [
    {
     "data": {
      "text/plain": [
       "156014"
      ]
     },
     "execution_count": 16,
     "metadata": {},
     "output_type": "execute_result"
    }
   ],
   "source": [
    "# ----------------------\n",
    "# stateful_heavy_benign\n",
    "# ----------------------\n",
    "\n",
    "# merging dataframes \n",
    "\n",
    "stateful_heavy_benign = pd.concat([stateful_heavy_benign1, \n",
    "                                   stateful_heavy_benign2,\n",
    "                                   stateful_heavy_benign3,\n",
    "                                   stateful_benign1,\n",
    "                                   stateful_benign2\n",
    "                                   ])\n",
    "\n",
    "# verifying number of stateful heavy benign records after concatenation\n",
    "# https://www.unb.ca/cic/datasets/dns-exf-2021.html\n",
    "len(stateful_heavy_benign)"
   ]
  },
  {
   "cell_type": "code",
   "execution_count": 17,
   "id": "0ab30f15",
   "metadata": {
    "execution": {
     "iopub.execute_input": "2023-01-30T17:17:23.026751Z",
     "iopub.status.busy": "2023-01-30T17:17:23.026391Z",
     "iopub.status.idle": "2023-01-30T17:17:23.119285Z",
     "shell.execute_reply": "2023-01-30T17:17:23.117576Z"
    },
    "papermill": {
     "duration": 0.119235,
     "end_time": "2023-01-30T17:17:23.121948",
     "exception": false,
     "start_time": "2023-01-30T17:17:23.002713",
     "status": "completed"
    },
    "tags": []
   },
   "outputs": [
    {
     "name": "stdout",
     "output_type": "stream",
     "text": [
      "rr :  [ True]\n",
      "A_frequency :  [ True]\n",
      "NS_frequency :  [ True]\n",
      "CNAME_frequency :  [ True]\n",
      "SOA_frequency :  [ True]\n",
      "NULL_frequency :  [ True]\n",
      "PTR_frequency :  [ True]\n",
      "HINFO_frequency :  [ True]\n",
      "MX_frequency :  [ True]\n",
      "TXT_frequency :  [ True]\n",
      "AAAA_frequency :  [ True]\n",
      "SRV_frequency :  [ True]\n",
      "OPT_frequency :  [ True]\n",
      "rr_type :  [ True]\n",
      "rr_count :  [ True]\n",
      "rr_name_entropy :  [ True]\n",
      "rr_name_length :  [ True]\n",
      "distinct_ns :  [ True]\n",
      "distinct_ip :  [ True]\n",
      "unique_country :  [ True]\n",
      "unique_asn :  [ True]\n",
      "distinct_domains :  [ True]\n",
      "reverse_dns :  [ True]\n",
      "a_records :  [ True]\n",
      "unique_ttl :  [ True]\n",
      "ttl_mean :  [ True]\n",
      "ttl_variance :  [ True]\n"
     ]
    }
   ],
   "source": [
    "for column in columns:\n",
    "    print(column, ': ', stateful_heavy_benign[column].notnull().unique())"
   ]
  },
  {
   "cell_type": "code",
   "execution_count": 18,
   "id": "3cf65a3e",
   "metadata": {
    "execution": {
     "iopub.execute_input": "2023-01-30T17:17:23.168306Z",
     "iopub.status.busy": "2023-01-30T17:17:23.167881Z",
     "iopub.status.idle": "2023-01-30T17:17:23.193736Z",
     "shell.execute_reply": "2023-01-30T17:17:23.192789Z"
    },
    "papermill": {
     "duration": 0.051525,
     "end_time": "2023-01-30T17:17:23.195926",
     "exception": false,
     "start_time": "2023-01-30T17:17:23.144401",
     "status": "completed"
    },
    "tags": []
   },
   "outputs": [
    {
     "data": {
      "text/html": [
       "<div>\n",
       "<style scoped>\n",
       "    .dataframe tbody tr th:only-of-type {\n",
       "        vertical-align: middle;\n",
       "    }\n",
       "\n",
       "    .dataframe tbody tr th {\n",
       "        vertical-align: top;\n",
       "    }\n",
       "\n",
       "    .dataframe thead th {\n",
       "        text-align: right;\n",
       "    }\n",
       "</style>\n",
       "<table border=\"1\" class=\"dataframe\">\n",
       "  <thead>\n",
       "    <tr style=\"text-align: right;\">\n",
       "      <th></th>\n",
       "      <th>rr</th>\n",
       "      <th>A_frequency</th>\n",
       "      <th>NS_frequency</th>\n",
       "      <th>CNAME_frequency</th>\n",
       "      <th>SOA_frequency</th>\n",
       "      <th>NULL_frequency</th>\n",
       "      <th>PTR_frequency</th>\n",
       "      <th>HINFO_frequency</th>\n",
       "      <th>MX_frequency</th>\n",
       "      <th>TXT_frequency</th>\n",
       "      <th>AAAA_frequency</th>\n",
       "      <th>SRV_frequency</th>\n",
       "      <th>OPT_frequency</th>\n",
       "      <th>rr_type</th>\n",
       "      <th>rr_count</th>\n",
       "      <th>rr_name_entropy</th>\n",
       "      <th>rr_name_length</th>\n",
       "      <th>distinct_ns</th>\n",
       "      <th>distinct_ip</th>\n",
       "      <th>unique_country</th>\n",
       "      <th>unique_asn</th>\n",
       "      <th>distinct_domains</th>\n",
       "      <th>reverse_dns</th>\n",
       "      <th>a_records</th>\n",
       "      <th>unique_ttl</th>\n",
       "      <th>ttl_mean</th>\n",
       "      <th>ttl_variance</th>\n",
       "    </tr>\n",
       "  </thead>\n",
       "  <tbody>\n",
       "    <tr>\n",
       "      <th>0</th>\n",
       "      <td>0.0</td>\n",
       "      <td>0</td>\n",
       "      <td>0</td>\n",
       "      <td>0</td>\n",
       "      <td>0</td>\n",
       "      <td>0</td>\n",
       "      <td>3</td>\n",
       "      <td>0</td>\n",
       "      <td>0</td>\n",
       "      <td>0</td>\n",
       "      <td>0</td>\n",
       "      <td>0</td>\n",
       "      <td>0</td>\n",
       "      <td>{'PTR'}</td>\n",
       "      <td>0</td>\n",
       "      <td>3.222463</td>\n",
       "      <td>27</td>\n",
       "      <td>0</td>\n",
       "      <td>set()</td>\n",
       "      <td>set()</td>\n",
       "      <td>set()</td>\n",
       "      <td>{}</td>\n",
       "      <td>unknown</td>\n",
       "      <td>0</td>\n",
       "      <td>[1, 1, 1]</td>\n",
       "      <td>1.0</td>\n",
       "      <td>0.0</td>\n",
       "    </tr>\n",
       "    <tr>\n",
       "      <th>1</th>\n",
       "      <td>0.0</td>\n",
       "      <td>0</td>\n",
       "      <td>0</td>\n",
       "      <td>0</td>\n",
       "      <td>0</td>\n",
       "      <td>0</td>\n",
       "      <td>2</td>\n",
       "      <td>0</td>\n",
       "      <td>0</td>\n",
       "      <td>0</td>\n",
       "      <td>0</td>\n",
       "      <td>0</td>\n",
       "      <td>0</td>\n",
       "      <td>{'PTR'}</td>\n",
       "      <td>0</td>\n",
       "      <td>3.223147</td>\n",
       "      <td>27</td>\n",
       "      <td>0</td>\n",
       "      <td>set()</td>\n",
       "      <td>set()</td>\n",
       "      <td>set()</td>\n",
       "      <td>{}</td>\n",
       "      <td>unknown</td>\n",
       "      <td>0</td>\n",
       "      <td>[1, 1]</td>\n",
       "      <td>1.0</td>\n",
       "      <td>0.0</td>\n",
       "    </tr>\n",
       "    <tr>\n",
       "      <th>2</th>\n",
       "      <td>0.0</td>\n",
       "      <td>0</td>\n",
       "      <td>0</td>\n",
       "      <td>0</td>\n",
       "      <td>0</td>\n",
       "      <td>0</td>\n",
       "      <td>10</td>\n",
       "      <td>0</td>\n",
       "      <td>0</td>\n",
       "      <td>0</td>\n",
       "      <td>0</td>\n",
       "      <td>0</td>\n",
       "      <td>0</td>\n",
       "      <td>{'PTR'}</td>\n",
       "      <td>0</td>\n",
       "      <td>3.102731</td>\n",
       "      <td>24</td>\n",
       "      <td>0</td>\n",
       "      <td>set()</td>\n",
       "      <td>set()</td>\n",
       "      <td>set()</td>\n",
       "      <td>{}</td>\n",
       "      <td>unknown</td>\n",
       "      <td>0</td>\n",
       "      <td>[1, 1, 1, 1, 1, 1, 1, 1, 1, 1]</td>\n",
       "      <td>1.0</td>\n",
       "      <td>0.0</td>\n",
       "    </tr>\n",
       "    <tr>\n",
       "      <th>3</th>\n",
       "      <td>0.0</td>\n",
       "      <td>0</td>\n",
       "      <td>0</td>\n",
       "      <td>0</td>\n",
       "      <td>0</td>\n",
       "      <td>0</td>\n",
       "      <td>0</td>\n",
       "      <td>0</td>\n",
       "      <td>0</td>\n",
       "      <td>0</td>\n",
       "      <td>0</td>\n",
       "      <td>0</td>\n",
       "      <td>0</td>\n",
       "      <td>{None}</td>\n",
       "      <td>0</td>\n",
       "      <td>3.463985</td>\n",
       "      <td>32</td>\n",
       "      <td>0</td>\n",
       "      <td>set()</td>\n",
       "      <td>set()</td>\n",
       "      <td>set()</td>\n",
       "      <td>{}</td>\n",
       "      <td>unknown</td>\n",
       "      <td>0</td>\n",
       "      <td>[64, 64, 64]</td>\n",
       "      <td>64.0</td>\n",
       "      <td>0.0</td>\n",
       "    </tr>\n",
       "    <tr>\n",
       "      <th>4</th>\n",
       "      <td>0.0</td>\n",
       "      <td>0</td>\n",
       "      <td>0</td>\n",
       "      <td>0</td>\n",
       "      <td>0</td>\n",
       "      <td>0</td>\n",
       "      <td>2</td>\n",
       "      <td>0</td>\n",
       "      <td>0</td>\n",
       "      <td>0</td>\n",
       "      <td>0</td>\n",
       "      <td>0</td>\n",
       "      <td>0</td>\n",
       "      <td>{'PTR'}</td>\n",
       "      <td>0</td>\n",
       "      <td>3.222243</td>\n",
       "      <td>27</td>\n",
       "      <td>0</td>\n",
       "      <td>set()</td>\n",
       "      <td>set()</td>\n",
       "      <td>set()</td>\n",
       "      <td>{}</td>\n",
       "      <td>unknown</td>\n",
       "      <td>0</td>\n",
       "      <td>[1, 1]</td>\n",
       "      <td>1.0</td>\n",
       "      <td>0.0</td>\n",
       "    </tr>\n",
       "  </tbody>\n",
       "</table>\n",
       "</div>"
      ],
      "text/plain": [
       "    rr  A_frequency  NS_frequency  CNAME_frequency  SOA_frequency  \\\n",
       "0  0.0            0             0                0              0   \n",
       "1  0.0            0             0                0              0   \n",
       "2  0.0            0             0                0              0   \n",
       "3  0.0            0             0                0              0   \n",
       "4  0.0            0             0                0              0   \n",
       "\n",
       "   NULL_frequency  PTR_frequency  HINFO_frequency  MX_frequency  \\\n",
       "0               0              3                0             0   \n",
       "1               0              2                0             0   \n",
       "2               0             10                0             0   \n",
       "3               0              0                0             0   \n",
       "4               0              2                0             0   \n",
       "\n",
       "   TXT_frequency  AAAA_frequency  SRV_frequency  OPT_frequency  rr_type  \\\n",
       "0              0               0              0              0  {'PTR'}   \n",
       "1              0               0              0              0  {'PTR'}   \n",
       "2              0               0              0              0  {'PTR'}   \n",
       "3              0               0              0              0   {None}   \n",
       "4              0               0              0              0  {'PTR'}   \n",
       "\n",
       "   rr_count  rr_name_entropy  rr_name_length  distinct_ns distinct_ip  \\\n",
       "0         0         3.222463              27            0       set()   \n",
       "1         0         3.223147              27            0       set()   \n",
       "2         0         3.102731              24            0       set()   \n",
       "3         0         3.463985              32            0       set()   \n",
       "4         0         3.222243              27            0       set()   \n",
       "\n",
       "  unique_country unique_asn distinct_domains reverse_dns  a_records  \\\n",
       "0          set()      set()               {}     unknown          0   \n",
       "1          set()      set()               {}     unknown          0   \n",
       "2          set()      set()               {}     unknown          0   \n",
       "3          set()      set()               {}     unknown          0   \n",
       "4          set()      set()               {}     unknown          0   \n",
       "\n",
       "                       unique_ttl  ttl_mean  ttl_variance  \n",
       "0                       [1, 1, 1]       1.0           0.0  \n",
       "1                          [1, 1]       1.0           0.0  \n",
       "2  [1, 1, 1, 1, 1, 1, 1, 1, 1, 1]       1.0           0.0  \n",
       "3                    [64, 64, 64]      64.0           0.0  \n",
       "4                          [1, 1]       1.0           0.0  "
      ]
     },
     "execution_count": 18,
     "metadata": {},
     "output_type": "execute_result"
    }
   ],
   "source": [
    "stateful_heavy_benign.head()"
   ]
  },
  {
   "cell_type": "code",
   "execution_count": 19,
   "id": "e24bd36c",
   "metadata": {
    "execution": {
     "iopub.execute_input": "2023-01-30T17:17:23.243971Z",
     "iopub.status.busy": "2023-01-30T17:17:23.243166Z",
     "iopub.status.idle": "2023-01-30T17:17:23.307210Z",
     "shell.execute_reply": "2023-01-30T17:17:23.306119Z"
    },
    "papermill": {
     "duration": 0.090967,
     "end_time": "2023-01-30T17:17:23.310052",
     "exception": false,
     "start_time": "2023-01-30T17:17:23.219085",
     "status": "completed"
    },
    "tags": []
   },
   "outputs": [
    {
     "name": "stdout",
     "output_type": "stream",
     "text": [
      "<class 'pandas.core.frame.DataFrame'>\n",
      "Int64Index: 156014 entries, 0 to 34559\n",
      "Data columns (total 27 columns):\n",
      " #   Column            Non-Null Count   Dtype  \n",
      "---  ------            --------------   -----  \n",
      " 0   rr                156014 non-null  float64\n",
      " 1   A_frequency       156014 non-null  int64  \n",
      " 2   NS_frequency      156014 non-null  int64  \n",
      " 3   CNAME_frequency   156014 non-null  int64  \n",
      " 4   SOA_frequency     156014 non-null  int64  \n",
      " 5   NULL_frequency    156014 non-null  int64  \n",
      " 6   PTR_frequency     156014 non-null  int64  \n",
      " 7   HINFO_frequency   156014 non-null  int64  \n",
      " 8   MX_frequency      156014 non-null  int64  \n",
      " 9   TXT_frequency     156014 non-null  int64  \n",
      " 10  AAAA_frequency    156014 non-null  int64  \n",
      " 11  SRV_frequency     156014 non-null  int64  \n",
      " 12  OPT_frequency     156014 non-null  int64  \n",
      " 13  rr_type           156014 non-null  object \n",
      " 14  rr_count          156014 non-null  int64  \n",
      " 15  rr_name_entropy   156014 non-null  float64\n",
      " 16  rr_name_length    156014 non-null  int64  \n",
      " 17  distinct_ns       156014 non-null  int64  \n",
      " 18  distinct_ip       156014 non-null  object \n",
      " 19  unique_country    156014 non-null  object \n",
      " 20  unique_asn        156014 non-null  object \n",
      " 21  distinct_domains  156014 non-null  object \n",
      " 22  reverse_dns       156014 non-null  object \n",
      " 23  a_records         156014 non-null  int64  \n",
      " 24  unique_ttl        156014 non-null  object \n",
      " 25  ttl_mean          156014 non-null  float64\n",
      " 26  ttl_variance      156014 non-null  float64\n",
      "dtypes: float64(4), int64(16), object(7)\n",
      "memory usage: 33.3+ MB\n"
     ]
    }
   ],
   "source": [
    "stateful_heavy_benign.info()"
   ]
  },
  {
   "cell_type": "code",
   "execution_count": 20,
   "id": "f4766bbc",
   "metadata": {
    "execution": {
     "iopub.execute_input": "2023-01-30T17:17:23.357827Z",
     "iopub.status.busy": "2023-01-30T17:17:23.357211Z",
     "iopub.status.idle": "2023-01-30T17:17:23.446946Z",
     "shell.execute_reply": "2023-01-30T17:17:23.445956Z"
    },
    "papermill": {
     "duration": 0.116589,
     "end_time": "2023-01-30T17:17:23.449498",
     "exception": false,
     "start_time": "2023-01-30T17:17:23.332909",
     "status": "completed"
    },
    "tags": []
   },
   "outputs": [],
   "source": [
    "numeric_columns = stateful_heavy_benign.select_dtypes(exclude=[object]).columns\n",
    "object_columns =  stateful_heavy_benign.select_dtypes(include=[object]).columns"
   ]
  },
  {
   "cell_type": "code",
   "execution_count": 21,
   "id": "ba6a6d10",
   "metadata": {
    "execution": {
     "iopub.execute_input": "2023-01-30T17:17:23.503262Z",
     "iopub.status.busy": "2023-01-30T17:17:23.502652Z",
     "iopub.status.idle": "2023-01-30T17:17:23.532868Z",
     "shell.execute_reply": "2023-01-30T17:17:23.531490Z"
    },
    "papermill": {
     "duration": 0.063534,
     "end_time": "2023-01-30T17:17:23.536245",
     "exception": false,
     "start_time": "2023-01-30T17:17:23.472711",
     "status": "completed"
    },
    "tags": []
   },
   "outputs": [
    {
     "name": "stdout",
     "output_type": "stream",
     "text": [
      "<class 'pandas.core.frame.DataFrame'>\n",
      "Int64Index: 156014 entries, 0 to 34559\n",
      "Data columns (total 20 columns):\n",
      " #   Column           Non-Null Count   Dtype  \n",
      "---  ------           --------------   -----  \n",
      " 0   rr               156014 non-null  float64\n",
      " 1   A_frequency      156014 non-null  int64  \n",
      " 2   NS_frequency     156014 non-null  int64  \n",
      " 3   CNAME_frequency  156014 non-null  int64  \n",
      " 4   SOA_frequency    156014 non-null  int64  \n",
      " 5   NULL_frequency   156014 non-null  int64  \n",
      " 6   PTR_frequency    156014 non-null  int64  \n",
      " 7   HINFO_frequency  156014 non-null  int64  \n",
      " 8   MX_frequency     156014 non-null  int64  \n",
      " 9   TXT_frequency    156014 non-null  int64  \n",
      " 10  AAAA_frequency   156014 non-null  int64  \n",
      " 11  SRV_frequency    156014 non-null  int64  \n",
      " 12  OPT_frequency    156014 non-null  int64  \n",
      " 13  rr_count         156014 non-null  int64  \n",
      " 14  rr_name_entropy  156014 non-null  float64\n",
      " 15  rr_name_length   156014 non-null  int64  \n",
      " 16  distinct_ns      156014 non-null  int64  \n",
      " 17  a_records        156014 non-null  int64  \n",
      " 18  ttl_mean         156014 non-null  float64\n",
      " 19  ttl_variance     156014 non-null  float64\n",
      "dtypes: float64(4), int64(16)\n",
      "memory usage: 25.0 MB\n"
     ]
    }
   ],
   "source": [
    "stateful_heavy_benign[numeric_columns].info()"
   ]
  },
  {
   "cell_type": "code",
   "execution_count": 22,
   "id": "8b9110c6",
   "metadata": {
    "execution": {
     "iopub.execute_input": "2023-01-30T17:17:23.595708Z",
     "iopub.status.busy": "2023-01-30T17:17:23.594694Z",
     "iopub.status.idle": "2023-01-30T17:17:23.665349Z",
     "shell.execute_reply": "2023-01-30T17:17:23.664071Z"
    },
    "papermill": {
     "duration": 0.102353,
     "end_time": "2023-01-30T17:17:23.668335",
     "exception": false,
     "start_time": "2023-01-30T17:17:23.565982",
     "status": "completed"
    },
    "tags": []
   },
   "outputs": [
    {
     "name": "stdout",
     "output_type": "stream",
     "text": [
      "<class 'pandas.core.frame.DataFrame'>\n",
      "Int64Index: 156014 entries, 0 to 34559\n",
      "Data columns (total 7 columns):\n",
      " #   Column            Non-Null Count   Dtype \n",
      "---  ------            --------------   ----- \n",
      " 0   rr_type           156014 non-null  object\n",
      " 1   distinct_ip       156014 non-null  object\n",
      " 2   unique_country    156014 non-null  object\n",
      " 3   unique_asn        156014 non-null  object\n",
      " 4   distinct_domains  156014 non-null  object\n",
      " 5   reverse_dns       156014 non-null  object\n",
      " 6   unique_ttl        156014 non-null  object\n",
      "dtypes: object(7)\n",
      "memory usage: 9.5+ MB\n"
     ]
    }
   ],
   "source": [
    "stateful_heavy_benign[object_columns].info()"
   ]
  },
  {
   "cell_type": "code",
   "execution_count": 23,
   "id": "54e378ae",
   "metadata": {
    "execution": {
     "iopub.execute_input": "2023-01-30T17:17:23.715963Z",
     "iopub.status.busy": "2023-01-30T17:17:23.715572Z",
     "iopub.status.idle": "2023-01-30T17:17:23.759864Z",
     "shell.execute_reply": "2023-01-30T17:17:23.758789Z"
    },
    "papermill": {
     "duration": 0.070953,
     "end_time": "2023-01-30T17:17:23.762192",
     "exception": false,
     "start_time": "2023-01-30T17:17:23.691239",
     "status": "completed"
    },
    "tags": []
   },
   "outputs": [
    {
     "data": {
      "text/plain": [
       "rr                    1.904849\n",
       "A_frequency           1.904840\n",
       "NS_frequency          0.000000\n",
       "CNAME_frequency       0.000000\n",
       "SOA_frequency         0.000000\n",
       "NULL_frequency        0.000000\n",
       "PTR_frequency         4.147252\n",
       "HINFO_frequency       0.000000\n",
       "MX_frequency          0.000000\n",
       "TXT_frequency         0.000013\n",
       "AAAA_frequency        0.000051\n",
       "SRV_frequency         0.000000\n",
       "OPT_frequency         0.000000\n",
       "rr_count              0.630726\n",
       "rr_name_entropy       0.150845\n",
       "rr_name_length       42.540177\n",
       "distinct_ns           0.243661\n",
       "a_records             0.000000\n",
       "ttl_mean           3367.752697\n",
       "ttl_variance         19.063997\n",
       "dtype: float64"
      ]
     },
     "execution_count": 23,
     "metadata": {},
     "output_type": "execute_result"
    }
   ],
   "source": [
    "stateful_heavy_benign[numeric_columns].var()"
   ]
  },
  {
   "cell_type": "code",
   "execution_count": 24,
   "id": "18376419",
   "metadata": {
    "execution": {
     "iopub.execute_input": "2023-01-30T17:17:23.811541Z",
     "iopub.status.busy": "2023-01-30T17:17:23.810686Z",
     "iopub.status.idle": "2023-01-30T17:17:23.911525Z",
     "shell.execute_reply": "2023-01-30T17:17:23.910187Z"
    },
    "papermill": {
     "duration": 0.12763,
     "end_time": "2023-01-30T17:17:23.913934",
     "exception": false,
     "start_time": "2023-01-30T17:17:23.786304",
     "status": "completed"
    },
    "tags": []
   },
   "outputs": [
    {
     "name": "stdout",
     "output_type": "stream",
     "text": [
      "rr_type : \n",
      " [\"{'PTR'}\" '{None}' \"{'A'}\" 'set()' \"{'TXT'}\" \"{'AAAA', 'A'}\"] \n",
      "\n",
      "\n",
      "\n",
      "distinct_ip : \n",
      " ['set()'] \n",
      "\n",
      "\n",
      "\n",
      "unique_country : \n",
      " ['set()' \"{'DE'}\" \"{'US'}\" \"{'CH'}\" \"{'NL'}\" \"{'FR'}\" \"{'RU'}\" \"{'TR'}\"\n",
      " \"{'CY'}\" \"{'RO'}\" \"{'BY'}\" \"{'AT'}\" \"{'BE'}\" \"{'CZ'}\" \"{'UZ'}\" \"{'EE'}\"\n",
      " \"{'PL'}\" \"{'GB'}\" \"{'CA'}\" \"{'HU'}\" \"{'MK'}\" \"{'SE'}\" \"{'KZ'}\" \"{'UA'}\"\n",
      " \"{'AU'}\" \"{'AE'}\" \"{'IN'}\" \"{'IR'}\" \"{'CN'}\" \"{'ES'}\" \"{'MX'}\" \"{'PE'}\"\n",
      " \"{'LT'}\" \"{'TW'}\" \"{'IT'}\" \"{'MY'}\" \"{'KE'}\" \"{'GR'}\" \"{'BG'}\" \"{'VN'}\"\n",
      " \"{'IL'}\" \"{'KW'}\" \"{'BZ'}\" \"{'HK'}\" \"{'RS'}\" \"{'JP'}\" \"{'SC'}\" \"{'ID'}\"\n",
      " \"{'ZA'}\" \"{'TH'}\" \"{'AR'}\" \"{'NZ'}\" \"{'MD'}\" \"{'SG'}\" \"{'MZ'}\" \"{'NO'}\"\n",
      " \"{'CO'}\" \"{'NI'}\" \"{'EG'}\" \"{'PT'}\" \"{'DZ'}\" \"{'DK'}\" \"{'PR'}\" \"{'IE'}\"\n",
      " \"{'AZ'}\" \"{'VE'}\" \"{'OM'}\" \"{'CL'}\" \"{'SK'}\" \"{'BF'}\" \"{'GE'}\" \"{'ET'}\"\n",
      " \"{'EU'}\" \"{'KR'}\" \"{'TZ'}\" \"{'TJ'}\" \"{'FI'}\" \"{'AI'}\" \"{'MA'}\" \"{'PA'}\"\n",
      " \"{''}\" \"{'BA'}\" \"{'SA'}\" \"{'AM'}\" \"{'PK'}\" \"{'SI'}\" \"{'MT'}\" \"{'CW'}\"\n",
      " \"{'VG'}\" \"{'MN'}\" \"{'EC'}\" \"{'IM'}\" \"{'BD'}\" \"{'NL', 'US'}\" \"{'QA'}\"\n",
      " \"{'LV'}\" \"{'TN'}\" \"{'MM'}\" \"{'NG'}\" \"{'SV'}\" \"{'CR'}\" \"{'JO'}\" \"{'LY'}\"\n",
      " \"{'LU'}\" \"{'PS'}\" \"{'CU'}\" \"{'KG'}\" \"{'TL'}\" \"{'HR'}\" \"{'MU'}\" \"{'PH'}\"\n",
      " \"{'BN'}\" \"{'GH'}\" \"{'SY'}\" \"{'AF'}\" \"{'NP'}\" \"{'LB'}\" \"{'BR'}\" \"{'ZW'}\"\n",
      " \"{'LK'}\" \"{'PY'}\" \"{'SD'}\" \"{'HN'}\" \"{'MG'}\" \"{'UY'}\" \"{'BW'}\" \"{'HT'}\"\n",
      " \"{'ME'}\" \"{'BH'}\" \"{'CV'}\" \"{'KH'}\" \"{'ZM'}\" \"{'IS'}\" \"{'BM'}\" \"{'UG'}\"\n",
      " \"{'DO'}\" \"{'ZA', 'US'}\" \"{'MY', 'US'}\" \"{'AO'}\" \"{'SC', 'RU'}\"\n",
      " \"{'CA', 'US'}\" \"{'DE', 'FR'}\" \"{'NA'}\" \"{'KP'}\" \"{'GB', 'US'}\" \"{'TM'}\"\n",
      " \"{'US', 'NL'}\" \"{'CN', 'US'}\" \"{'JM'}\" \"{'GT'}\" \"{'VA'}\" \"{'PG'}\"\n",
      " \"{'AZ', 'US'}\" \"{'YE'}\" \"{'GI'}\" \"{'BO'}\" \"{'IR', 'DE'}\" \"{'SM'}\"\n",
      " \"{'SG', 'KR'}\" \"{'RW'}\" \"{'IQ'}\" \"{'KY'}\"] \n",
      "\n",
      "\n",
      "\n",
      "unique_asn : \n",
      " ['set()' \"{'AS24940'}\" \"{'AS26496'}\" ... \"{'AS25058'}\" \"{'AS205496'}\"\n",
      " \"{'AS208508'}\"] \n",
      "\n",
      "\n",
      "\n",
      "distinct_domains : \n",
      " ['{}' \"{'88.198.28.40': {'dvg-gestalt.de'}}\"\n",
      " \"{'88.198.28.40': {'www.dvg-gestalt.de'}}\" ...\n",
      " \"{'172.64.95.174': {'www.pornoente.tv'}}\"\n",
      " \"{'172.64.95.254': {'premiumhentai.site'}}\"\n",
      " \"{'172.64.92.139': {'putlocker5movies.me'}}\"] \n",
      "\n",
      "\n",
      "\n",
      "reverse_dns : \n",
      " ['unknown' 'www299.your-server.de' 'ip-50-62-6-133.ip.secureserver.net'\n",
      " ... 'relaunch2018-en.hamburg-tourism.de'\n",
      " 'ec2-54-171-94-77.eu-west-1.compute.amazonaws.com'\n",
      " 'seavusprojectsolutions.com'] \n",
      "\n",
      "\n",
      "\n",
      "unique_ttl : \n",
      " ['[1, 1, 1]' '[1, 1]' '[1, 1, 1, 1, 1, 1, 1, 1, 1, 1]' '[64, 64, 64]'\n",
      " '[1, 1, 1, 1]' '[255]' '[128, 128, 122, 122]' '[128, 122]' '[128, 128]'\n",
      " '[128]' '[1, 1, 1, 1, 1]' '[1, 1, 1, 1, 1, 1]' '[122, 122]' '[1]'\n",
      " '[1, 1, 1, 1, 1, 1, 1, 1]' '[128, 128, 122]' '[122]'\n",
      " '[1, 1, 1, 1, 1, 1, 1]' '[1, 1, 1, 1, 1, 1, 1, 1, 1, 1, 1]'\n",
      " '[128, 128, 128, 128, 128]' '[128, 128, 128, 128]' '[128, 122, 122]'\n",
      " '[1, 1, 1, 1, 1, 1, 1, 1, 1]'\n",
      " '[64, 64, 64, 64, 64, 64, 64, 64, 64, 64, 64, 64]'\n",
      " '[128, 128, 128, 122, 122, 122]' '[64]'\n",
      " '[64, 64, 64, 64, 64, 64, 64, 64, 64, 64, 64]'\n",
      " '[128, 128, 128, 128, 128, 128, 128]'\n",
      " '[1, 1, 1, 1, 1, 1, 1, 1, 1, 1, 1, 1]' '[128, 128, 128]'\n",
      " '[64, 64, 64, 64, 64, 64, 64, 64, 64]' '[128, 122, 128, 122]'\n",
      " '[122, 128, 122]' '[64, 64, 64, 64, 64, 64]'\n",
      " '[128, 128, 128, 128, 128, 128]'\n",
      " '[128, 128, 122, 122, 128, 128, 122, 122]' '[255, 255]'\n",
      " '[128, 128, 128, 122]' '[64, 64, 64, 64, 64, 64, 64, 64]'\n",
      " '[64, 64, 64, 64]' '[128, 128, 128, 128, 122, 122, 122]'\n",
      " '[122, 122, 122, 122]' '[128, 128, 128, 128, 128, 128, 128, 128, 128]'\n",
      " '[128, 128, 122, 128, 122, 122]' '[64, 64]'\n",
      " '[64, 64, 64, 64, 64, 64, 64, 64, 64, 64]'\n",
      " '[1, 1, 1, 1, 1, 1, 1, 1, 1, 1, 1, 1, 1, 1]'\n",
      " '[128, 128, 128, 128, 122, 122, 122, 122]'\n",
      " '[128, 122, 128, 128, 122, 122]' '[128, 128, 122, 122, 128, 122]'\n",
      " '[128, 122, 122, 122]' '[128, 128, 122, 122, 128, 128]'\n",
      " '[1, 1, 1, 1, 1, 1, 1, 1, 1, 1, 1, 1, 1]' '[122, 122, 122]'\n",
      " '[128, 128, 128, 128, 122, 122]' '[128, 128, 122, 122, 122, 122]'\n",
      " '[64, 64, 64, 64, 64, 64, 64]' '[64, 64, 64, 64, 64]'\n",
      " '[128, 128, 128, 122, 122, 122, 122]'\n",
      " '[128, 128, 122, 122, 128, 128, 122, 122, 128, 128, 128, 122]'\n",
      " '[122, 122, 128, 122]' '[128, 128, 128, 122, 122]' '[128, 122, 128]'\n",
      " '[128, 128, 128, 128, 128, 128, 128, 128]'\n",
      " '[128, 128, 128, 122, 122, 128, 122, 122]'\n",
      " '[128, 128, 122, 128, 122, 128, 122]' '[128, 128, 122, 122, 122]'\n",
      " '[128, 122, 128, 122, 122]'\n",
      " '[1, 1, 1, 1, 1, 1, 1, 1, 1, 1, 1, 1, 1, 1, 1, 1]'\n",
      " '[1, 1, 1, 1, 1, 1, 1, 1, 1, 1, 1, 1, 1, 1, 1]'\n",
      " '[1, 1, 1, 1, 1, 1, 1, 1, 1, 1, 1, 1, 1, 1, 1, 1, 1]'\n",
      " '[128, 128, 128, 128, 122]' '[255, 255, 255]'\n",
      " '[128, 128, 128, 128, 128, 122]' '[128, 122, 122, 122, 122]'\n",
      " '[128, 128, 122, 128, 122, 128, 122, 122]'\n",
      " '[122, 122, 128, 128, 122, 122]'\n",
      " '[1, 1, 1, 1, 1, 1, 1, 1, 1, 1, 1, 1, 1, 1, 1, 1, 1, 1]'\n",
      " '[128, 122, 128, 128, 122]'] \n",
      "\n",
      "\n",
      "\n"
     ]
    }
   ],
   "source": [
    "for obj_col in object_columns:\n",
    "    print(obj_col, ':', '\\n', stateful_heavy_benign[obj_col].unique(), '\\n\\n\\n')"
   ]
  },
  {
   "cell_type": "markdown",
   "id": "b92699ac",
   "metadata": {
    "papermill": {
     "duration": 0.022511,
     "end_time": "2023-01-30T17:17:23.960323",
     "exception": false,
     "start_time": "2023-01-30T17:17:23.937812",
     "status": "completed"
    },
    "tags": []
   },
   "source": [
    "## Stateful Light Attack"
   ]
  },
  {
   "cell_type": "code",
   "execution_count": 25,
   "id": "ce102c5a",
   "metadata": {
    "execution": {
     "iopub.execute_input": "2023-01-30T17:17:24.008885Z",
     "iopub.status.busy": "2023-01-30T17:17:24.008276Z",
     "iopub.status.idle": "2023-01-30T17:17:24.179212Z",
     "shell.execute_reply": "2023-01-30T17:17:24.178108Z"
    },
    "papermill": {
     "duration": 0.197796,
     "end_time": "2023-01-30T17:17:24.181838",
     "exception": false,
     "start_time": "2023-01-30T17:17:23.984042",
     "status": "completed"
    },
    "tags": []
   },
   "outputs": [
    {
     "name": "stdout",
     "output_type": "stream",
     "text": [
      "Total Stateful Light Attack: 11295\n"
     ]
    }
   ],
   "source": [
    "# ---------------------\n",
    "# stateful_light_attack\n",
    "# ---------------------\n",
    "\n",
    "PATH = '/kaggle/input/cicbelldnsexf2021/Attack_Light_Benign/Attacks/'\n",
    "stateful_light_attack_audio = pd.read_csv(PATH+'stateful_features-light_audio.pcap.csv')\n",
    "stateful_light_attack_compressed = pd.read_csv(PATH+'stateful_features-light_compressed.pcap.csv')\n",
    "stateful_light_attack_exe = pd.read_csv(PATH+'stateful_features-light_exe.pcap.csv')\n",
    "stateful_light_attack_image = pd.read_csv(PATH+'stateful_features-light_image.pcap.csv')\n",
    "stateful_light_attack_text = pd.read_csv(PATH+'stateful_features-light_text.pcap.csv')\n",
    "stateful_light_attack_video = pd.read_csv(PATH+'stateful_features-light_video.pcap.csv')\n",
    "\n",
    "number_of_records = len(stateful_light_attack_audio)+len(stateful_light_attack_compressed)+\\\n",
    "                        len(stateful_light_attack_exe)+len(stateful_light_attack_image)+\\\n",
    "                        len(stateful_light_attack_text)+len(stateful_light_attack_video)\n",
    "        \n",
    "# verifying number of stateful light attack records\n",
    "# https://www.unb.ca/cic/datasets/dns-exf-2021.html\n",
    "print('Total Stateful Light Attack:', number_of_records)"
   ]
  },
  {
   "cell_type": "code",
   "execution_count": 26,
   "id": "eabff604",
   "metadata": {
    "execution": {
     "iopub.execute_input": "2023-01-30T17:17:24.231249Z",
     "iopub.status.busy": "2023-01-30T17:17:24.230622Z",
     "iopub.status.idle": "2023-01-30T17:17:24.240492Z",
     "shell.execute_reply": "2023-01-30T17:17:24.239605Z"
    },
    "papermill": {
     "duration": 0.0371,
     "end_time": "2023-01-30T17:17:24.243081",
     "exception": false,
     "start_time": "2023-01-30T17:17:24.205981",
     "status": "completed"
    },
    "tags": []
   },
   "outputs": [
    {
     "name": "stdout",
     "output_type": "stream",
     "text": [
      " True\n",
      " True\n",
      " True\n",
      " True\n",
      " True\n"
     ]
    }
   ],
   "source": [
    "# ---------------------\n",
    "# stateful_light_attack\n",
    "# ---------------------\n",
    "\n",
    "dfs = [stateful_light_attack_audio, stateful_light_attack_compressed, \n",
    "      stateful_light_attack_exe, stateful_light_attack_image, \n",
    "      stateful_light_attack_text, stateful_light_attack_video]\n",
    "\n",
    "columns = stateful_light_attack_audio.columns\n",
    "\n",
    "# checking if all dataframes, of stateful light attack type, have same column names\n",
    "columns_stateful_light_attack_audio = stateful_light_attack_audio.columns\n",
    "columns_stateful_light_attack_compressed = stateful_light_attack_compressed.columns\n",
    "columns_stateful_light_attack_exe = stateful_light_attack_exe.columns\n",
    "columns_stateful_light_attack_image = stateful_light_attack_image.columns\n",
    "columns_stateful_light_attack_text = stateful_light_attack_text.columns\n",
    "columns_stateful_light_attack_video = stateful_light_attack_video.columns\n",
    "\n",
    "dfs_columns = [ columns_stateful_light_attack_compressed,\n",
    "            columns_stateful_light_attack_exe,\n",
    "            columns_stateful_light_attack_image,\n",
    "            columns_stateful_light_attack_text,\n",
    "            columns_stateful_light_attack_video ]\n",
    "\n",
    "for cols in dfs_columns:\n",
    "    print('', columns_stateful_light_attack_audio.isin(cols).all())"
   ]
  },
  {
   "cell_type": "code",
   "execution_count": 27,
   "id": "a4d59dd7",
   "metadata": {
    "execution": {
     "iopub.execute_input": "2023-01-30T17:17:24.292205Z",
     "iopub.status.busy": "2023-01-30T17:17:24.291774Z",
     "iopub.status.idle": "2023-01-30T17:17:24.307750Z",
     "shell.execute_reply": "2023-01-30T17:17:24.306749Z"
    },
    "papermill": {
     "duration": 0.043153,
     "end_time": "2023-01-30T17:17:24.309816",
     "exception": false,
     "start_time": "2023-01-30T17:17:24.266663",
     "status": "completed"
    },
    "tags": []
   },
   "outputs": [
    {
     "data": {
      "text/plain": [
       "11295"
      ]
     },
     "execution_count": 27,
     "metadata": {},
     "output_type": "execute_result"
    }
   ],
   "source": [
    "# ----------------------\n",
    "# stateful_light_attack\n",
    "# ----------------------\n",
    "\n",
    "# merging dataframes \n",
    "\n",
    "stateful_light_attack = pd.concat([stateful_light_attack_audio, \n",
    "                                   stateful_light_attack_compressed,\n",
    "                                   stateful_light_attack_exe,\n",
    "                                   stateful_light_attack_image,\n",
    "                                   stateful_light_attack_text,\n",
    "                                   stateful_light_attack_video])\n",
    "\n",
    "# verifying number of stateful light attack records after concatenation\n",
    "# https://www.unb.ca/cic/datasets/dns-exf-2021.html\n",
    "len(stateful_light_attack)"
   ]
  },
  {
   "cell_type": "code",
   "execution_count": 28,
   "id": "7c295f6f",
   "metadata": {
    "execution": {
     "iopub.execute_input": "2023-01-30T17:17:24.358432Z",
     "iopub.status.busy": "2023-01-30T17:17:24.358022Z",
     "iopub.status.idle": "2023-01-30T17:17:24.379661Z",
     "shell.execute_reply": "2023-01-30T17:17:24.378057Z"
    },
    "papermill": {
     "duration": 0.049502,
     "end_time": "2023-01-30T17:17:24.382913",
     "exception": false,
     "start_time": "2023-01-30T17:17:24.333411",
     "status": "completed"
    },
    "tags": []
   },
   "outputs": [
    {
     "name": "stdout",
     "output_type": "stream",
     "text": [
      "rr :  [ True]\n",
      "A_frequency :  [ True]\n",
      "NS_frequency :  [ True]\n",
      "CNAME_frequency :  [ True]\n",
      "SOA_frequency :  [ True]\n",
      "NULL_frequency :  [ True]\n",
      "PTR_frequency :  [ True]\n",
      "HINFO_frequency :  [ True]\n",
      "MX_frequency :  [ True]\n",
      "TXT_frequency :  [ True]\n",
      "AAAA_frequency :  [ True]\n",
      "SRV_frequency :  [ True]\n",
      "OPT_frequency :  [ True]\n",
      "rr_type :  [ True]\n",
      "rr_count :  [ True]\n",
      "rr_name_entropy :  [ True]\n",
      "rr_name_length :  [ True]\n",
      "distinct_ns :  [ True]\n",
      "distinct_ip :  [ True]\n",
      "unique_country :  [ True]\n",
      "unique_asn :  [ True]\n",
      "distinct_domains :  [ True]\n",
      "reverse_dns :  [ True]\n",
      "a_records :  [ True]\n",
      "unique_ttl :  [ True]\n",
      "ttl_mean :  [ True]\n",
      "ttl_variance :  [ True]\n"
     ]
    }
   ],
   "source": [
    "for column in columns:\n",
    "    print(column, ': ', stateful_light_attack[column].notnull().unique())"
   ]
  },
  {
   "cell_type": "code",
   "execution_count": 29,
   "id": "acfc3b51",
   "metadata": {
    "execution": {
     "iopub.execute_input": "2023-01-30T17:17:24.433167Z",
     "iopub.status.busy": "2023-01-30T17:17:24.432047Z",
     "iopub.status.idle": "2023-01-30T17:17:24.455768Z",
     "shell.execute_reply": "2023-01-30T17:17:24.454997Z"
    },
    "papermill": {
     "duration": 0.05064,
     "end_time": "2023-01-30T17:17:24.457783",
     "exception": false,
     "start_time": "2023-01-30T17:17:24.407143",
     "status": "completed"
    },
    "tags": []
   },
   "outputs": [
    {
     "data": {
      "text/html": [
       "<div>\n",
       "<style scoped>\n",
       "    .dataframe tbody tr th:only-of-type {\n",
       "        vertical-align: middle;\n",
       "    }\n",
       "\n",
       "    .dataframe tbody tr th {\n",
       "        vertical-align: top;\n",
       "    }\n",
       "\n",
       "    .dataframe thead th {\n",
       "        text-align: right;\n",
       "    }\n",
       "</style>\n",
       "<table border=\"1\" class=\"dataframe\">\n",
       "  <thead>\n",
       "    <tr style=\"text-align: right;\">\n",
       "      <th></th>\n",
       "      <th>rr</th>\n",
       "      <th>A_frequency</th>\n",
       "      <th>NS_frequency</th>\n",
       "      <th>CNAME_frequency</th>\n",
       "      <th>SOA_frequency</th>\n",
       "      <th>NULL_frequency</th>\n",
       "      <th>PTR_frequency</th>\n",
       "      <th>HINFO_frequency</th>\n",
       "      <th>MX_frequency</th>\n",
       "      <th>TXT_frequency</th>\n",
       "      <th>AAAA_frequency</th>\n",
       "      <th>SRV_frequency</th>\n",
       "      <th>OPT_frequency</th>\n",
       "      <th>rr_type</th>\n",
       "      <th>rr_count</th>\n",
       "      <th>rr_name_entropy</th>\n",
       "      <th>rr_name_length</th>\n",
       "      <th>distinct_ns</th>\n",
       "      <th>distinct_ip</th>\n",
       "      <th>unique_country</th>\n",
       "      <th>unique_asn</th>\n",
       "      <th>distinct_domains</th>\n",
       "      <th>reverse_dns</th>\n",
       "      <th>a_records</th>\n",
       "      <th>unique_ttl</th>\n",
       "      <th>ttl_mean</th>\n",
       "      <th>ttl_variance</th>\n",
       "    </tr>\n",
       "  </thead>\n",
       "  <tbody>\n",
       "    <tr>\n",
       "      <th>0</th>\n",
       "      <td>0.0</td>\n",
       "      <td>0</td>\n",
       "      <td>0</td>\n",
       "      <td>0</td>\n",
       "      <td>0</td>\n",
       "      <td>0</td>\n",
       "      <td>2</td>\n",
       "      <td>0</td>\n",
       "      <td>0</td>\n",
       "      <td>0</td>\n",
       "      <td>0</td>\n",
       "      <td>0</td>\n",
       "      <td>0</td>\n",
       "      <td>{'PTR'}</td>\n",
       "      <td>0</td>\n",
       "      <td>3.222463</td>\n",
       "      <td>27</td>\n",
       "      <td>0</td>\n",
       "      <td>set()</td>\n",
       "      <td>set()</td>\n",
       "      <td>set()</td>\n",
       "      <td>{}</td>\n",
       "      <td>unknown</td>\n",
       "      <td>0</td>\n",
       "      <td>[1, 1]</td>\n",
       "      <td>1.0</td>\n",
       "      <td>0.0</td>\n",
       "    </tr>\n",
       "    <tr>\n",
       "      <th>1</th>\n",
       "      <td>0.0</td>\n",
       "      <td>0</td>\n",
       "      <td>0</td>\n",
       "      <td>0</td>\n",
       "      <td>0</td>\n",
       "      <td>0</td>\n",
       "      <td>10</td>\n",
       "      <td>0</td>\n",
       "      <td>0</td>\n",
       "      <td>0</td>\n",
       "      <td>0</td>\n",
       "      <td>0</td>\n",
       "      <td>0</td>\n",
       "      <td>{'PTR'}</td>\n",
       "      <td>0</td>\n",
       "      <td>3.102731</td>\n",
       "      <td>24</td>\n",
       "      <td>0</td>\n",
       "      <td>set()</td>\n",
       "      <td>set()</td>\n",
       "      <td>set()</td>\n",
       "      <td>{}</td>\n",
       "      <td>unknown</td>\n",
       "      <td>0</td>\n",
       "      <td>[1, 1, 1, 1, 1, 1, 1, 1, 1, 1]</td>\n",
       "      <td>1.0</td>\n",
       "      <td>0.0</td>\n",
       "    </tr>\n",
       "    <tr>\n",
       "      <th>2</th>\n",
       "      <td>0.0</td>\n",
       "      <td>0</td>\n",
       "      <td>0</td>\n",
       "      <td>0</td>\n",
       "      <td>0</td>\n",
       "      <td>0</td>\n",
       "      <td>2</td>\n",
       "      <td>0</td>\n",
       "      <td>0</td>\n",
       "      <td>0</td>\n",
       "      <td>0</td>\n",
       "      <td>0</td>\n",
       "      <td>0</td>\n",
       "      <td>{'PTR'}</td>\n",
       "      <td>0</td>\n",
       "      <td>3.146084</td>\n",
       "      <td>25</td>\n",
       "      <td>0</td>\n",
       "      <td>set()</td>\n",
       "      <td>set()</td>\n",
       "      <td>set()</td>\n",
       "      <td>{}</td>\n",
       "      <td>unknown</td>\n",
       "      <td>0</td>\n",
       "      <td>[1, 1]</td>\n",
       "      <td>1.0</td>\n",
       "      <td>0.0</td>\n",
       "    </tr>\n",
       "    <tr>\n",
       "      <th>3</th>\n",
       "      <td>0.0</td>\n",
       "      <td>0</td>\n",
       "      <td>0</td>\n",
       "      <td>0</td>\n",
       "      <td>0</td>\n",
       "      <td>0</td>\n",
       "      <td>2</td>\n",
       "      <td>0</td>\n",
       "      <td>0</td>\n",
       "      <td>0</td>\n",
       "      <td>0</td>\n",
       "      <td>0</td>\n",
       "      <td>0</td>\n",
       "      <td>{'PTR'}</td>\n",
       "      <td>0</td>\n",
       "      <td>3.146319</td>\n",
       "      <td>25</td>\n",
       "      <td>0</td>\n",
       "      <td>set()</td>\n",
       "      <td>set()</td>\n",
       "      <td>set()</td>\n",
       "      <td>{}</td>\n",
       "      <td>unknown</td>\n",
       "      <td>0</td>\n",
       "      <td>[1, 1]</td>\n",
       "      <td>1.0</td>\n",
       "      <td>0.0</td>\n",
       "    </tr>\n",
       "    <tr>\n",
       "      <th>4</th>\n",
       "      <td>0.0</td>\n",
       "      <td>0</td>\n",
       "      <td>0</td>\n",
       "      <td>0</td>\n",
       "      <td>0</td>\n",
       "      <td>0</td>\n",
       "      <td>2</td>\n",
       "      <td>0</td>\n",
       "      <td>0</td>\n",
       "      <td>0</td>\n",
       "      <td>0</td>\n",
       "      <td>0</td>\n",
       "      <td>0</td>\n",
       "      <td>{'PTR'}</td>\n",
       "      <td>0</td>\n",
       "      <td>3.223294</td>\n",
       "      <td>27</td>\n",
       "      <td>0</td>\n",
       "      <td>set()</td>\n",
       "      <td>set()</td>\n",
       "      <td>set()</td>\n",
       "      <td>{}</td>\n",
       "      <td>unknown</td>\n",
       "      <td>0</td>\n",
       "      <td>[1, 1]</td>\n",
       "      <td>1.0</td>\n",
       "      <td>0.0</td>\n",
       "    </tr>\n",
       "  </tbody>\n",
       "</table>\n",
       "</div>"
      ],
      "text/plain": [
       "    rr  A_frequency  NS_frequency  CNAME_frequency  SOA_frequency  \\\n",
       "0  0.0            0             0                0              0   \n",
       "1  0.0            0             0                0              0   \n",
       "2  0.0            0             0                0              0   \n",
       "3  0.0            0             0                0              0   \n",
       "4  0.0            0             0                0              0   \n",
       "\n",
       "   NULL_frequency  PTR_frequency  HINFO_frequency  MX_frequency  \\\n",
       "0               0              2                0             0   \n",
       "1               0             10                0             0   \n",
       "2               0              2                0             0   \n",
       "3               0              2                0             0   \n",
       "4               0              2                0             0   \n",
       "\n",
       "   TXT_frequency  AAAA_frequency  SRV_frequency  OPT_frequency  rr_type  \\\n",
       "0              0               0              0              0  {'PTR'}   \n",
       "1              0               0              0              0  {'PTR'}   \n",
       "2              0               0              0              0  {'PTR'}   \n",
       "3              0               0              0              0  {'PTR'}   \n",
       "4              0               0              0              0  {'PTR'}   \n",
       "\n",
       "   rr_count  rr_name_entropy  rr_name_length  distinct_ns distinct_ip  \\\n",
       "0         0         3.222463              27            0       set()   \n",
       "1         0         3.102731              24            0       set()   \n",
       "2         0         3.146084              25            0       set()   \n",
       "3         0         3.146319              25            0       set()   \n",
       "4         0         3.223294              27            0       set()   \n",
       "\n",
       "  unique_country unique_asn distinct_domains reverse_dns  a_records  \\\n",
       "0          set()      set()               {}     unknown          0   \n",
       "1          set()      set()               {}     unknown          0   \n",
       "2          set()      set()               {}     unknown          0   \n",
       "3          set()      set()               {}     unknown          0   \n",
       "4          set()      set()               {}     unknown          0   \n",
       "\n",
       "                       unique_ttl  ttl_mean  ttl_variance  \n",
       "0                          [1, 1]       1.0           0.0  \n",
       "1  [1, 1, 1, 1, 1, 1, 1, 1, 1, 1]       1.0           0.0  \n",
       "2                          [1, 1]       1.0           0.0  \n",
       "3                          [1, 1]       1.0           0.0  \n",
       "4                          [1, 1]       1.0           0.0  "
      ]
     },
     "execution_count": 29,
     "metadata": {},
     "output_type": "execute_result"
    }
   ],
   "source": [
    "stateful_light_attack.head()"
   ]
  },
  {
   "cell_type": "code",
   "execution_count": 30,
   "id": "30c24773",
   "metadata": {
    "execution": {
     "iopub.execute_input": "2023-01-30T17:17:24.508617Z",
     "iopub.status.busy": "2023-01-30T17:17:24.507565Z",
     "iopub.status.idle": "2023-01-30T17:17:24.525236Z",
     "shell.execute_reply": "2023-01-30T17:17:24.523865Z"
    },
    "papermill": {
     "duration": 0.0454,
     "end_time": "2023-01-30T17:17:24.527550",
     "exception": false,
     "start_time": "2023-01-30T17:17:24.482150",
     "status": "completed"
    },
    "tags": []
   },
   "outputs": [
    {
     "name": "stdout",
     "output_type": "stream",
     "text": [
      "<class 'pandas.core.frame.DataFrame'>\n",
      "Int64Index: 11295 entries, 0 to 1244\n",
      "Data columns (total 27 columns):\n",
      " #   Column            Non-Null Count  Dtype  \n",
      "---  ------            --------------  -----  \n",
      " 0   rr                11295 non-null  float64\n",
      " 1   A_frequency       11295 non-null  int64  \n",
      " 2   NS_frequency      11295 non-null  int64  \n",
      " 3   CNAME_frequency   11295 non-null  int64  \n",
      " 4   SOA_frequency     11295 non-null  int64  \n",
      " 5   NULL_frequency    11295 non-null  int64  \n",
      " 6   PTR_frequency     11295 non-null  int64  \n",
      " 7   HINFO_frequency   11295 non-null  int64  \n",
      " 8   MX_frequency      11295 non-null  int64  \n",
      " 9   TXT_frequency     11295 non-null  int64  \n",
      " 10  AAAA_frequency    11295 non-null  int64  \n",
      " 11  SRV_frequency     11295 non-null  int64  \n",
      " 12  OPT_frequency     11295 non-null  int64  \n",
      " 13  rr_type           11295 non-null  object \n",
      " 14  rr_count          11295 non-null  int64  \n",
      " 15  rr_name_entropy   11295 non-null  float64\n",
      " 16  rr_name_length    11295 non-null  int64  \n",
      " 17  distinct_ns       11295 non-null  int64  \n",
      " 18  distinct_ip       11295 non-null  object \n",
      " 19  unique_country    11295 non-null  object \n",
      " 20  unique_asn        11295 non-null  object \n",
      " 21  distinct_domains  11295 non-null  object \n",
      " 22  reverse_dns       11295 non-null  object \n",
      " 23  a_records         11295 non-null  int64  \n",
      " 24  unique_ttl        11295 non-null  object \n",
      " 25  ttl_mean          11295 non-null  float64\n",
      " 26  ttl_variance      11295 non-null  float64\n",
      "dtypes: float64(4), int64(16), object(7)\n",
      "memory usage: 2.4+ MB\n"
     ]
    }
   ],
   "source": [
    "stateful_light_attack.info()"
   ]
  },
  {
   "cell_type": "code",
   "execution_count": 31,
   "id": "7e61bab4",
   "metadata": {
    "execution": {
     "iopub.execute_input": "2023-01-30T17:17:24.578314Z",
     "iopub.status.busy": "2023-01-30T17:17:24.577882Z",
     "iopub.status.idle": "2023-01-30T17:17:24.589810Z",
     "shell.execute_reply": "2023-01-30T17:17:24.588692Z"
    },
    "papermill": {
     "duration": 0.040714,
     "end_time": "2023-01-30T17:17:24.592203",
     "exception": false,
     "start_time": "2023-01-30T17:17:24.551489",
     "status": "completed"
    },
    "tags": []
   },
   "outputs": [],
   "source": [
    "numeric_columns = stateful_light_attack.select_dtypes(exclude=[object]).columns\n",
    "object_columns =  stateful_light_attack.select_dtypes(include=[object]).columns"
   ]
  },
  {
   "cell_type": "code",
   "execution_count": 32,
   "id": "e4a9ed34",
   "metadata": {
    "execution": {
     "iopub.execute_input": "2023-01-30T17:17:24.642661Z",
     "iopub.status.busy": "2023-01-30T17:17:24.641911Z",
     "iopub.status.idle": "2023-01-30T17:17:24.655761Z",
     "shell.execute_reply": "2023-01-30T17:17:24.654746Z"
    },
    "papermill": {
     "duration": 0.041537,
     "end_time": "2023-01-30T17:17:24.658187",
     "exception": false,
     "start_time": "2023-01-30T17:17:24.616650",
     "status": "completed"
    },
    "tags": []
   },
   "outputs": [
    {
     "name": "stdout",
     "output_type": "stream",
     "text": [
      "<class 'pandas.core.frame.DataFrame'>\n",
      "Int64Index: 11295 entries, 0 to 1244\n",
      "Data columns (total 20 columns):\n",
      " #   Column           Non-Null Count  Dtype  \n",
      "---  ------           --------------  -----  \n",
      " 0   rr               11295 non-null  float64\n",
      " 1   A_frequency      11295 non-null  int64  \n",
      " 2   NS_frequency     11295 non-null  int64  \n",
      " 3   CNAME_frequency  11295 non-null  int64  \n",
      " 4   SOA_frequency    11295 non-null  int64  \n",
      " 5   NULL_frequency   11295 non-null  int64  \n",
      " 6   PTR_frequency    11295 non-null  int64  \n",
      " 7   HINFO_frequency  11295 non-null  int64  \n",
      " 8   MX_frequency     11295 non-null  int64  \n",
      " 9   TXT_frequency    11295 non-null  int64  \n",
      " 10  AAAA_frequency   11295 non-null  int64  \n",
      " 11  SRV_frequency    11295 non-null  int64  \n",
      " 12  OPT_frequency    11295 non-null  int64  \n",
      " 13  rr_count         11295 non-null  int64  \n",
      " 14  rr_name_entropy  11295 non-null  float64\n",
      " 15  rr_name_length   11295 non-null  int64  \n",
      " 16  distinct_ns      11295 non-null  int64  \n",
      " 17  a_records        11295 non-null  int64  \n",
      " 18  ttl_mean         11295 non-null  float64\n",
      " 19  ttl_variance     11295 non-null  float64\n",
      "dtypes: float64(4), int64(16)\n",
      "memory usage: 1.8 MB\n"
     ]
    }
   ],
   "source": [
    "stateful_light_attack[numeric_columns].info()"
   ]
  },
  {
   "cell_type": "code",
   "execution_count": 33,
   "id": "ba06f597",
   "metadata": {
    "execution": {
     "iopub.execute_input": "2023-01-30T17:17:24.710579Z",
     "iopub.status.busy": "2023-01-30T17:17:24.709522Z",
     "iopub.status.idle": "2023-01-30T17:17:24.726025Z",
     "shell.execute_reply": "2023-01-30T17:17:24.724985Z"
    },
    "papermill": {
     "duration": 0.044551,
     "end_time": "2023-01-30T17:17:24.728258",
     "exception": false,
     "start_time": "2023-01-30T17:17:24.683707",
     "status": "completed"
    },
    "tags": []
   },
   "outputs": [
    {
     "name": "stdout",
     "output_type": "stream",
     "text": [
      "<class 'pandas.core.frame.DataFrame'>\n",
      "Int64Index: 11295 entries, 0 to 1244\n",
      "Data columns (total 7 columns):\n",
      " #   Column            Non-Null Count  Dtype \n",
      "---  ------            --------------  ----- \n",
      " 0   rr_type           11295 non-null  object\n",
      " 1   distinct_ip       11295 non-null  object\n",
      " 2   unique_country    11295 non-null  object\n",
      " 3   unique_asn        11295 non-null  object\n",
      " 4   distinct_domains  11295 non-null  object\n",
      " 5   reverse_dns       11295 non-null  object\n",
      " 6   unique_ttl        11295 non-null  object\n",
      "dtypes: object(7)\n",
      "memory usage: 705.9+ KB\n"
     ]
    }
   ],
   "source": [
    "stateful_light_attack[object_columns].info()"
   ]
  },
  {
   "cell_type": "code",
   "execution_count": 34,
   "id": "78a53d46",
   "metadata": {
    "execution": {
     "iopub.execute_input": "2023-01-30T17:17:24.779444Z",
     "iopub.status.busy": "2023-01-30T17:17:24.779073Z",
     "iopub.status.idle": "2023-01-30T17:17:24.790342Z",
     "shell.execute_reply": "2023-01-30T17:17:24.789264Z"
    },
    "papermill": {
     "duration": 0.039192,
     "end_time": "2023-01-30T17:17:24.792357",
     "exception": false,
     "start_time": "2023-01-30T17:17:24.753165",
     "status": "completed"
    },
    "tags": []
   },
   "outputs": [
    {
     "data": {
      "text/plain": [
       "rr                    0.034564\n",
       "A_frequency           0.034564\n",
       "NS_frequency          0.000000\n",
       "CNAME_frequency       0.000000\n",
       "SOA_frequency         0.000000\n",
       "NULL_frequency        0.000000\n",
       "PTR_frequency         7.910261\n",
       "HINFO_frequency       0.000000\n",
       "MX_frequency          0.000000\n",
       "TXT_frequency         0.000089\n",
       "AAAA_frequency        0.000000\n",
       "SRV_frequency         0.000000\n",
       "OPT_frequency         0.000000\n",
       "rr_count              0.000266\n",
       "rr_name_entropy       0.053946\n",
       "rr_name_length       12.438706\n",
       "distinct_ns           0.000177\n",
       "a_records             0.000000\n",
       "ttl_mean           2214.212320\n",
       "ttl_variance          0.021510\n",
       "dtype: float64"
      ]
     },
     "execution_count": 34,
     "metadata": {},
     "output_type": "execute_result"
    }
   ],
   "source": [
    "stateful_light_attack[numeric_columns].var()"
   ]
  },
  {
   "cell_type": "code",
   "execution_count": 35,
   "id": "1a5a1196",
   "metadata": {
    "execution": {
     "iopub.execute_input": "2023-01-30T17:17:24.844291Z",
     "iopub.status.busy": "2023-01-30T17:17:24.843403Z",
     "iopub.status.idle": "2023-01-30T17:17:24.856724Z",
     "shell.execute_reply": "2023-01-30T17:17:24.855564Z"
    },
    "papermill": {
     "duration": 0.042531,
     "end_time": "2023-01-30T17:17:24.859322",
     "exception": false,
     "start_time": "2023-01-30T17:17:24.816791",
     "status": "completed"
    },
    "tags": []
   },
   "outputs": [
    {
     "name": "stdout",
     "output_type": "stream",
     "text": [
      "rr_type : \n",
      " [\"{'PTR'}\" '{None}' 'set()' \"{'A'}\" \"{'TXT'}\"] \n",
      "\n",
      "\n",
      "\n",
      "distinct_ip : \n",
      " ['set()'] \n",
      "\n",
      "\n",
      "\n",
      "unique_country : \n",
      " ['set()' \"{'US'}\"] \n",
      "\n",
      "\n",
      "\n",
      "unique_asn : \n",
      " ['set()' \"{'AS3598'}\"] \n",
      "\n",
      "\n",
      "\n",
      "distinct_domains : \n",
      " ['{}' \"{'131.107.255.255': {'dns.msftncsi.com'}}\"] \n",
      "\n",
      "\n",
      "\n",
      "reverse_dns : \n",
      " ['unknown' 'dns.msftncsi.com'] \n",
      "\n",
      "\n",
      "\n",
      "unique_ttl : \n",
      " ['[1, 1]' '[1, 1, 1, 1, 1, 1, 1, 1, 1, 1]' '[1, 1, 1, 1, 1, 1]'\n",
      " '[1, 1, 1, 1, 1, 1, 1]' '[1, 1, 1, 1]' '[1, 1, 1, 1, 1]'\n",
      " '[1, 1, 1, 1, 1, 1, 1, 1]' '[255]' '[64, 64, 64, 64]' '[1]'\n",
      " '[128, 128, 128, 128, 128, 128]' '[128, 128, 128]' '[64]' '[64, 64, 64]'\n",
      " '[1, 1, 1, 1, 1, 1, 1, 1, 1, 1, 1, 1]' '[1, 1, 1]'\n",
      " '[1, 1, 1, 1, 1, 1, 1, 1, 1]' '[128]'\n",
      " '[128, 128, 128, 128, 128, 128, 128]' '[128, 128]'\n",
      " '[1, 1, 1, 1, 1, 1, 1, 1, 1, 1, 1, 1, 1]'\n",
      " '[1, 1, 1, 1, 1, 1, 1, 1, 1, 1, 1, 1, 1, 1, 1, 1, 1]'\n",
      " '[1, 1, 1, 1, 1, 1, 1, 1, 1, 1, 1, 1, 1, 1]' '[255, 255]'\n",
      " '[1, 1, 1, 1, 1, 1, 1, 1, 1, 1, 1]'\n",
      " '[1, 1, 1, 1, 1, 1, 1, 1, 1, 1, 1, 1, 1, 1, 1]'\n",
      " '[1, 1, 1, 1, 1, 1, 1, 1, 1, 1, 1, 1, 1, 1, 1, 1]'\n",
      " '[128, 128, 128, 128, 128, 128, 128, 128, 128]'\n",
      " '[128, 128, 128, 128, 128, 128, 128, 128]' '[128, 122]' '[64, 64]'\n",
      " '[128, 128, 128, 128, 128]' '[128, 128, 128, 128]'\n",
      " '[64, 64, 64, 64, 64, 64, 64, 64]' '[64, 64, 64, 64, 64, 64]'\n",
      " '[64, 64, 64, 64, 64, 64, 64]' '[64, 64, 64, 64, 64]'] \n",
      "\n",
      "\n",
      "\n"
     ]
    }
   ],
   "source": [
    "for obj_col in object_columns:\n",
    "    print(obj_col, ':', '\\n', stateful_light_attack[obj_col].unique(), '\\n\\n\\n')"
   ]
  },
  {
   "cell_type": "markdown",
   "id": "7816df1c",
   "metadata": {
    "papermill": {
     "duration": 0.023795,
     "end_time": "2023-01-30T17:17:24.907465",
     "exception": false,
     "start_time": "2023-01-30T17:17:24.883670",
     "status": "completed"
    },
    "tags": []
   },
   "source": [
    "## Stateful Light Benign"
   ]
  },
  {
   "cell_type": "code",
   "execution_count": 36,
   "id": "3e44ee20",
   "metadata": {
    "execution": {
     "iopub.execute_input": "2023-01-30T17:17:24.957680Z",
     "iopub.status.busy": "2023-01-30T17:17:24.956969Z",
     "iopub.status.idle": "2023-01-30T17:17:25.375196Z",
     "shell.execute_reply": "2023-01-30T17:17:25.374165Z"
    },
    "papermill": {
     "duration": 0.445559,
     "end_time": "2023-01-30T17:17:25.377467",
     "exception": false,
     "start_time": "2023-01-30T17:17:24.931908",
     "status": "completed"
    },
    "tags": []
   },
   "outputs": [
    {
     "name": "stdout",
     "output_type": "stream",
     "text": [
      "Total Stateful Light Benign: 109766\n"
     ]
    }
   ],
   "source": [
    "# ---------------------\n",
    "# stateful_light_benign\n",
    "# ---------------------\n",
    "\n",
    "PATH = '/kaggle/input/cicbelldnsexf2021/Attack_Light_Benign/Benign/'\n",
    "stateful_light_benign = pd.read_csv(PATH+'stateful_features-_light_benign.pcap.csv')\n",
    "\n",
    "PATH = '/kaggle/input/cicbelldnsexf2021/Benign/'\n",
    "stateful_benign1 = pd.read_csv(PATH+'stateful_features-benign_1.pcap.csv')\n",
    "stateful_benign2 = pd.read_csv(PATH+'stateful_features-benign_2.pcap.csv')\n",
    "\n",
    "number_of_records = len(stateful_light_benign)+len(stateful_benign1)+len(stateful_benign2)\n",
    "\n",
    "# verifying number of stateful light benign records\n",
    "# https://www.unb.ca/cic/datasets/dns-exf-2021.html\n",
    "print('Total Stateful Light Benign:', number_of_records)"
   ]
  },
  {
   "cell_type": "code",
   "execution_count": 37,
   "id": "5a239a4a",
   "metadata": {
    "execution": {
     "iopub.execute_input": "2023-01-30T17:17:25.431757Z",
     "iopub.status.busy": "2023-01-30T17:17:25.431108Z",
     "iopub.status.idle": "2023-01-30T17:17:25.438066Z",
     "shell.execute_reply": "2023-01-30T17:17:25.436895Z"
    },
    "papermill": {
     "duration": 0.038645,
     "end_time": "2023-01-30T17:17:25.440675",
     "exception": false,
     "start_time": "2023-01-30T17:17:25.402030",
     "status": "completed"
    },
    "tags": []
   },
   "outputs": [
    {
     "name": "stdout",
     "output_type": "stream",
     "text": [
      " True\n",
      " True\n"
     ]
    }
   ],
   "source": [
    "# ---------------------\n",
    "# stateful_light_benign\n",
    "# ---------------------\n",
    "\n",
    "dfs = [stateful_light_benign, stateful_benign1, stateful_benign2]\n",
    "\n",
    "columns = stateful_light_benign.columns\n",
    "\n",
    "# checking if all dataframes, of stateful light benign type, have same column names\n",
    "columns_stateful_light_benign = stateful_light_benign.columns\n",
    "columns_stateful_benign1 = stateful_benign1.columns\n",
    "columns_stateful_benign2 = stateful_benign2.columns\n",
    "\n",
    "\n",
    "dfs_columns = [ columns_stateful_benign1,\n",
    "                columns_stateful_benign2\n",
    "              ]\n",
    "\n",
    "for cols in dfs_columns:\n",
    "    print('', columns_stateful_light_benign.isin(cols).all())"
   ]
  },
  {
   "cell_type": "code",
   "execution_count": 38,
   "id": "60b5364d",
   "metadata": {
    "execution": {
     "iopub.execute_input": "2023-01-30T17:17:25.491031Z",
     "iopub.status.busy": "2023-01-30T17:17:25.490345Z",
     "iopub.status.idle": "2023-01-30T17:17:25.522380Z",
     "shell.execute_reply": "2023-01-30T17:17:25.521360Z"
    },
    "papermill": {
     "duration": 0.059654,
     "end_time": "2023-01-30T17:17:25.524696",
     "exception": false,
     "start_time": "2023-01-30T17:17:25.465042",
     "status": "completed"
    },
    "tags": []
   },
   "outputs": [
    {
     "data": {
      "text/plain": [
       "109766"
      ]
     },
     "execution_count": 38,
     "metadata": {},
     "output_type": "execute_result"
    }
   ],
   "source": [
    "# ----------------------\n",
    "# stateful_light_benign\n",
    "# ----------------------\n",
    "\n",
    "# merging dataframes \n",
    "\n",
    "stateful_light_benign = pd.concat([stateful_light_benign, \n",
    "                                   stateful_benign1, \n",
    "                                   stateful_benign2\n",
    "                                  ])\n",
    "\n",
    "# verifying number of stateful light benign records after concatenation\n",
    "# https://www.unb.ca/cic/datasets/dns-exf-2021.html\n",
    "len(stateful_light_benign)"
   ]
  },
  {
   "cell_type": "code",
   "execution_count": 39,
   "id": "ead6e479",
   "metadata": {
    "execution": {
     "iopub.execute_input": "2023-01-30T17:17:25.576094Z",
     "iopub.status.busy": "2023-01-30T17:17:25.575675Z",
     "iopub.status.idle": "2023-01-30T17:17:25.645149Z",
     "shell.execute_reply": "2023-01-30T17:17:25.643843Z"
    },
    "papermill": {
     "duration": 0.098706,
     "end_time": "2023-01-30T17:17:25.647975",
     "exception": false,
     "start_time": "2023-01-30T17:17:25.549269",
     "status": "completed"
    },
    "tags": []
   },
   "outputs": [
    {
     "name": "stdout",
     "output_type": "stream",
     "text": [
      "rr :  [ True]\n",
      "A_frequency :  [ True]\n",
      "NS_frequency :  [ True]\n",
      "CNAME_frequency :  [ True]\n",
      "SOA_frequency :  [ True]\n",
      "NULL_frequency :  [ True]\n",
      "PTR_frequency :  [ True]\n",
      "HINFO_frequency :  [ True]\n",
      "MX_frequency :  [ True]\n",
      "TXT_frequency :  [ True]\n",
      "AAAA_frequency :  [ True]\n",
      "SRV_frequency :  [ True]\n",
      "OPT_frequency :  [ True]\n",
      "rr_type :  [ True]\n",
      "rr_count :  [ True]\n",
      "rr_name_entropy :  [ True]\n",
      "rr_name_length :  [ True]\n",
      "distinct_ns :  [ True]\n",
      "distinct_ip :  [ True]\n",
      "unique_country :  [ True]\n",
      "unique_asn :  [ True]\n",
      "distinct_domains :  [ True]\n",
      "reverse_dns :  [ True]\n",
      "a_records :  [ True]\n",
      "unique_ttl :  [ True]\n",
      "ttl_mean :  [ True]\n",
      "ttl_variance :  [ True]\n"
     ]
    }
   ],
   "source": [
    "for column in columns:\n",
    "    print(column, ': ', stateful_light_benign[column].notnull().unique())"
   ]
  },
  {
   "cell_type": "code",
   "execution_count": 40,
   "id": "c8a79dbe",
   "metadata": {
    "execution": {
     "iopub.execute_input": "2023-01-30T17:17:25.701696Z",
     "iopub.status.busy": "2023-01-30T17:17:25.701310Z",
     "iopub.status.idle": "2023-01-30T17:17:25.726976Z",
     "shell.execute_reply": "2023-01-30T17:17:25.725705Z"
    },
    "papermill": {
     "duration": 0.056167,
     "end_time": "2023-01-30T17:17:25.729408",
     "exception": false,
     "start_time": "2023-01-30T17:17:25.673241",
     "status": "completed"
    },
    "tags": []
   },
   "outputs": [
    {
     "data": {
      "text/html": [
       "<div>\n",
       "<style scoped>\n",
       "    .dataframe tbody tr th:only-of-type {\n",
       "        vertical-align: middle;\n",
       "    }\n",
       "\n",
       "    .dataframe tbody tr th {\n",
       "        vertical-align: top;\n",
       "    }\n",
       "\n",
       "    .dataframe thead th {\n",
       "        text-align: right;\n",
       "    }\n",
       "</style>\n",
       "<table border=\"1\" class=\"dataframe\">\n",
       "  <thead>\n",
       "    <tr style=\"text-align: right;\">\n",
       "      <th></th>\n",
       "      <th>rr</th>\n",
       "      <th>A_frequency</th>\n",
       "      <th>NS_frequency</th>\n",
       "      <th>CNAME_frequency</th>\n",
       "      <th>SOA_frequency</th>\n",
       "      <th>NULL_frequency</th>\n",
       "      <th>PTR_frequency</th>\n",
       "      <th>HINFO_frequency</th>\n",
       "      <th>MX_frequency</th>\n",
       "      <th>TXT_frequency</th>\n",
       "      <th>AAAA_frequency</th>\n",
       "      <th>SRV_frequency</th>\n",
       "      <th>OPT_frequency</th>\n",
       "      <th>rr_type</th>\n",
       "      <th>rr_count</th>\n",
       "      <th>rr_name_entropy</th>\n",
       "      <th>rr_name_length</th>\n",
       "      <th>distinct_ns</th>\n",
       "      <th>distinct_ip</th>\n",
       "      <th>unique_country</th>\n",
       "      <th>unique_asn</th>\n",
       "      <th>distinct_domains</th>\n",
       "      <th>reverse_dns</th>\n",
       "      <th>a_records</th>\n",
       "      <th>unique_ttl</th>\n",
       "      <th>ttl_mean</th>\n",
       "      <th>ttl_variance</th>\n",
       "    </tr>\n",
       "  </thead>\n",
       "  <tbody>\n",
       "    <tr>\n",
       "      <th>0</th>\n",
       "      <td>0.0</td>\n",
       "      <td>0</td>\n",
       "      <td>0</td>\n",
       "      <td>0</td>\n",
       "      <td>0</td>\n",
       "      <td>0</td>\n",
       "      <td>1</td>\n",
       "      <td>0</td>\n",
       "      <td>0</td>\n",
       "      <td>0</td>\n",
       "      <td>0</td>\n",
       "      <td>0</td>\n",
       "      <td>0</td>\n",
       "      <td>{'PTR'}</td>\n",
       "      <td>0</td>\n",
       "      <td>3.222243</td>\n",
       "      <td>27</td>\n",
       "      <td>0</td>\n",
       "      <td>set()</td>\n",
       "      <td>set()</td>\n",
       "      <td>set()</td>\n",
       "      <td>{}</td>\n",
       "      <td>unknown</td>\n",
       "      <td>0</td>\n",
       "      <td>[1]</td>\n",
       "      <td>1.0</td>\n",
       "      <td>0.0</td>\n",
       "    </tr>\n",
       "    <tr>\n",
       "      <th>1</th>\n",
       "      <td>0.0</td>\n",
       "      <td>0</td>\n",
       "      <td>0</td>\n",
       "      <td>0</td>\n",
       "      <td>0</td>\n",
       "      <td>0</td>\n",
       "      <td>6</td>\n",
       "      <td>0</td>\n",
       "      <td>0</td>\n",
       "      <td>0</td>\n",
       "      <td>0</td>\n",
       "      <td>0</td>\n",
       "      <td>0</td>\n",
       "      <td>{'PTR'}</td>\n",
       "      <td>0</td>\n",
       "      <td>3.146084</td>\n",
       "      <td>25</td>\n",
       "      <td>0</td>\n",
       "      <td>set()</td>\n",
       "      <td>set()</td>\n",
       "      <td>set()</td>\n",
       "      <td>{}</td>\n",
       "      <td>unknown</td>\n",
       "      <td>0</td>\n",
       "      <td>[1, 1, 1, 1, 1, 1]</td>\n",
       "      <td>1.0</td>\n",
       "      <td>0.0</td>\n",
       "    </tr>\n",
       "    <tr>\n",
       "      <th>2</th>\n",
       "      <td>0.0</td>\n",
       "      <td>0</td>\n",
       "      <td>0</td>\n",
       "      <td>0</td>\n",
       "      <td>0</td>\n",
       "      <td>0</td>\n",
       "      <td>6</td>\n",
       "      <td>0</td>\n",
       "      <td>0</td>\n",
       "      <td>0</td>\n",
       "      <td>0</td>\n",
       "      <td>0</td>\n",
       "      <td>0</td>\n",
       "      <td>{'PTR'}</td>\n",
       "      <td>0</td>\n",
       "      <td>3.223294</td>\n",
       "      <td>27</td>\n",
       "      <td>0</td>\n",
       "      <td>set()</td>\n",
       "      <td>set()</td>\n",
       "      <td>set()</td>\n",
       "      <td>{}</td>\n",
       "      <td>unknown</td>\n",
       "      <td>0</td>\n",
       "      <td>[1, 1, 1, 1, 1, 1]</td>\n",
       "      <td>1.0</td>\n",
       "      <td>0.0</td>\n",
       "    </tr>\n",
       "    <tr>\n",
       "      <th>3</th>\n",
       "      <td>0.0</td>\n",
       "      <td>0</td>\n",
       "      <td>0</td>\n",
       "      <td>0</td>\n",
       "      <td>0</td>\n",
       "      <td>0</td>\n",
       "      <td>6</td>\n",
       "      <td>0</td>\n",
       "      <td>0</td>\n",
       "      <td>0</td>\n",
       "      <td>0</td>\n",
       "      <td>0</td>\n",
       "      <td>0</td>\n",
       "      <td>{'PTR'}</td>\n",
       "      <td>0</td>\n",
       "      <td>3.222463</td>\n",
       "      <td>27</td>\n",
       "      <td>0</td>\n",
       "      <td>set()</td>\n",
       "      <td>set()</td>\n",
       "      <td>set()</td>\n",
       "      <td>{}</td>\n",
       "      <td>unknown</td>\n",
       "      <td>0</td>\n",
       "      <td>[1, 1, 1, 1, 1, 1]</td>\n",
       "      <td>1.0</td>\n",
       "      <td>0.0</td>\n",
       "    </tr>\n",
       "    <tr>\n",
       "      <th>4</th>\n",
       "      <td>0.0</td>\n",
       "      <td>0</td>\n",
       "      <td>0</td>\n",
       "      <td>0</td>\n",
       "      <td>0</td>\n",
       "      <td>0</td>\n",
       "      <td>10</td>\n",
       "      <td>0</td>\n",
       "      <td>0</td>\n",
       "      <td>0</td>\n",
       "      <td>0</td>\n",
       "      <td>0</td>\n",
       "      <td>0</td>\n",
       "      <td>{'PTR'}</td>\n",
       "      <td>0</td>\n",
       "      <td>3.102731</td>\n",
       "      <td>24</td>\n",
       "      <td>0</td>\n",
       "      <td>set()</td>\n",
       "      <td>set()</td>\n",
       "      <td>set()</td>\n",
       "      <td>{}</td>\n",
       "      <td>unknown</td>\n",
       "      <td>0</td>\n",
       "      <td>[1, 1, 1, 1, 1, 1, 1, 1, 1, 1]</td>\n",
       "      <td>1.0</td>\n",
       "      <td>0.0</td>\n",
       "    </tr>\n",
       "  </tbody>\n",
       "</table>\n",
       "</div>"
      ],
      "text/plain": [
       "    rr  A_frequency  NS_frequency  CNAME_frequency  SOA_frequency  \\\n",
       "0  0.0            0             0                0              0   \n",
       "1  0.0            0             0                0              0   \n",
       "2  0.0            0             0                0              0   \n",
       "3  0.0            0             0                0              0   \n",
       "4  0.0            0             0                0              0   \n",
       "\n",
       "   NULL_frequency  PTR_frequency  HINFO_frequency  MX_frequency  \\\n",
       "0               0              1                0             0   \n",
       "1               0              6                0             0   \n",
       "2               0              6                0             0   \n",
       "3               0              6                0             0   \n",
       "4               0             10                0             0   \n",
       "\n",
       "   TXT_frequency  AAAA_frequency  SRV_frequency  OPT_frequency  rr_type  \\\n",
       "0              0               0              0              0  {'PTR'}   \n",
       "1              0               0              0              0  {'PTR'}   \n",
       "2              0               0              0              0  {'PTR'}   \n",
       "3              0               0              0              0  {'PTR'}   \n",
       "4              0               0              0              0  {'PTR'}   \n",
       "\n",
       "   rr_count  rr_name_entropy  rr_name_length  distinct_ns distinct_ip  \\\n",
       "0         0         3.222243              27            0       set()   \n",
       "1         0         3.146084              25            0       set()   \n",
       "2         0         3.223294              27            0       set()   \n",
       "3         0         3.222463              27            0       set()   \n",
       "4         0         3.102731              24            0       set()   \n",
       "\n",
       "  unique_country unique_asn distinct_domains reverse_dns  a_records  \\\n",
       "0          set()      set()               {}     unknown          0   \n",
       "1          set()      set()               {}     unknown          0   \n",
       "2          set()      set()               {}     unknown          0   \n",
       "3          set()      set()               {}     unknown          0   \n",
       "4          set()      set()               {}     unknown          0   \n",
       "\n",
       "                       unique_ttl  ttl_mean  ttl_variance  \n",
       "0                             [1]       1.0           0.0  \n",
       "1              [1, 1, 1, 1, 1, 1]       1.0           0.0  \n",
       "2              [1, 1, 1, 1, 1, 1]       1.0           0.0  \n",
       "3              [1, 1, 1, 1, 1, 1]       1.0           0.0  \n",
       "4  [1, 1, 1, 1, 1, 1, 1, 1, 1, 1]       1.0           0.0  "
      ]
     },
     "execution_count": 40,
     "metadata": {},
     "output_type": "execute_result"
    }
   ],
   "source": [
    "stateful_light_benign.head()"
   ]
  },
  {
   "cell_type": "code",
   "execution_count": 41,
   "id": "42a1b879",
   "metadata": {
    "execution": {
     "iopub.execute_input": "2023-01-30T17:17:25.783295Z",
     "iopub.status.busy": "2023-01-30T17:17:25.782518Z",
     "iopub.status.idle": "2023-01-30T17:17:25.834302Z",
     "shell.execute_reply": "2023-01-30T17:17:25.832730Z"
    },
    "papermill": {
     "duration": 0.082032,
     "end_time": "2023-01-30T17:17:25.837120",
     "exception": false,
     "start_time": "2023-01-30T17:17:25.755088",
     "status": "completed"
    },
    "tags": []
   },
   "outputs": [
    {
     "name": "stdout",
     "output_type": "stream",
     "text": [
      "<class 'pandas.core.frame.DataFrame'>\n",
      "Int64Index: 109766 entries, 0 to 34559\n",
      "Data columns (total 27 columns):\n",
      " #   Column            Non-Null Count   Dtype  \n",
      "---  ------            --------------   -----  \n",
      " 0   rr                109766 non-null  float64\n",
      " 1   A_frequency       109766 non-null  int64  \n",
      " 2   NS_frequency      109766 non-null  int64  \n",
      " 3   CNAME_frequency   109766 non-null  int64  \n",
      " 4   SOA_frequency     109766 non-null  int64  \n",
      " 5   NULL_frequency    109766 non-null  int64  \n",
      " 6   PTR_frequency     109766 non-null  int64  \n",
      " 7   HINFO_frequency   109766 non-null  int64  \n",
      " 8   MX_frequency      109766 non-null  int64  \n",
      " 9   TXT_frequency     109766 non-null  int64  \n",
      " 10  AAAA_frequency    109766 non-null  int64  \n",
      " 11  SRV_frequency     109766 non-null  int64  \n",
      " 12  OPT_frequency     109766 non-null  int64  \n",
      " 13  rr_type           109766 non-null  object \n",
      " 14  rr_count          109766 non-null  int64  \n",
      " 15  rr_name_entropy   109766 non-null  float64\n",
      " 16  rr_name_length    109766 non-null  int64  \n",
      " 17  distinct_ns       109766 non-null  int64  \n",
      " 18  distinct_ip       109766 non-null  object \n",
      " 19  unique_country    109766 non-null  object \n",
      " 20  unique_asn        109766 non-null  object \n",
      " 21  distinct_domains  109766 non-null  object \n",
      " 22  reverse_dns       109766 non-null  object \n",
      " 23  a_records         109766 non-null  int64  \n",
      " 24  unique_ttl        109766 non-null  object \n",
      " 25  ttl_mean          109766 non-null  float64\n",
      " 26  ttl_variance      109766 non-null  float64\n",
      "dtypes: float64(4), int64(16), object(7)\n",
      "memory usage: 23.4+ MB\n"
     ]
    }
   ],
   "source": [
    "stateful_light_benign.info()"
   ]
  },
  {
   "cell_type": "code",
   "execution_count": 42,
   "id": "78cd33cd",
   "metadata": {
    "execution": {
     "iopub.execute_input": "2023-01-30T17:17:25.889929Z",
     "iopub.status.busy": "2023-01-30T17:17:25.889168Z",
     "iopub.status.idle": "2023-01-30T17:17:25.934183Z",
     "shell.execute_reply": "2023-01-30T17:17:25.933232Z"
    },
    "papermill": {
     "duration": 0.073954,
     "end_time": "2023-01-30T17:17:25.936767",
     "exception": false,
     "start_time": "2023-01-30T17:17:25.862813",
     "status": "completed"
    },
    "tags": []
   },
   "outputs": [],
   "source": [
    "numeric_columns = stateful_light_benign.select_dtypes(exclude=[object]).columns\n",
    "object_columns =  stateful_light_benign.select_dtypes(include=[object]).columns"
   ]
  },
  {
   "cell_type": "code",
   "execution_count": 43,
   "id": "1038e6e2",
   "metadata": {
    "execution": {
     "iopub.execute_input": "2023-01-30T17:17:25.989273Z",
     "iopub.status.busy": "2023-01-30T17:17:25.988875Z",
     "iopub.status.idle": "2023-01-30T17:17:26.009153Z",
     "shell.execute_reply": "2023-01-30T17:17:26.008031Z"
    },
    "papermill": {
     "duration": 0.050111,
     "end_time": "2023-01-30T17:17:26.012240",
     "exception": false,
     "start_time": "2023-01-30T17:17:25.962129",
     "status": "completed"
    },
    "tags": []
   },
   "outputs": [
    {
     "name": "stdout",
     "output_type": "stream",
     "text": [
      "<class 'pandas.core.frame.DataFrame'>\n",
      "Int64Index: 109766 entries, 0 to 34559\n",
      "Data columns (total 20 columns):\n",
      " #   Column           Non-Null Count   Dtype  \n",
      "---  ------           --------------   -----  \n",
      " 0   rr               109766 non-null  float64\n",
      " 1   A_frequency      109766 non-null  int64  \n",
      " 2   NS_frequency     109766 non-null  int64  \n",
      " 3   CNAME_frequency  109766 non-null  int64  \n",
      " 4   SOA_frequency    109766 non-null  int64  \n",
      " 5   NULL_frequency   109766 non-null  int64  \n",
      " 6   PTR_frequency    109766 non-null  int64  \n",
      " 7   HINFO_frequency  109766 non-null  int64  \n",
      " 8   MX_frequency     109766 non-null  int64  \n",
      " 9   TXT_frequency    109766 non-null  int64  \n",
      " 10  AAAA_frequency   109766 non-null  int64  \n",
      " 11  SRV_frequency    109766 non-null  int64  \n",
      " 12  OPT_frequency    109766 non-null  int64  \n",
      " 13  rr_count         109766 non-null  int64  \n",
      " 14  rr_name_entropy  109766 non-null  float64\n",
      " 15  rr_name_length   109766 non-null  int64  \n",
      " 16  distinct_ns      109766 non-null  int64  \n",
      " 17  a_records        109766 non-null  int64  \n",
      " 18  ttl_mean         109766 non-null  float64\n",
      " 19  ttl_variance     109766 non-null  float64\n",
      "dtypes: float64(4), int64(16)\n",
      "memory usage: 17.6 MB\n"
     ]
    }
   ],
   "source": [
    "stateful_light_benign[numeric_columns].info()"
   ]
  },
  {
   "cell_type": "code",
   "execution_count": 44,
   "id": "daa7c64f",
   "metadata": {
    "execution": {
     "iopub.execute_input": "2023-01-30T17:17:26.069319Z",
     "iopub.status.busy": "2023-01-30T17:17:26.068753Z",
     "iopub.status.idle": "2023-01-30T17:17:26.123393Z",
     "shell.execute_reply": "2023-01-30T17:17:26.122334Z"
    },
    "papermill": {
     "duration": 0.085139,
     "end_time": "2023-01-30T17:17:26.126547",
     "exception": false,
     "start_time": "2023-01-30T17:17:26.041408",
     "status": "completed"
    },
    "tags": []
   },
   "outputs": [
    {
     "name": "stdout",
     "output_type": "stream",
     "text": [
      "<class 'pandas.core.frame.DataFrame'>\n",
      "Int64Index: 109766 entries, 0 to 34559\n",
      "Data columns (total 7 columns):\n",
      " #   Column            Non-Null Count   Dtype \n",
      "---  ------            --------------   ----- \n",
      " 0   rr_type           109766 non-null  object\n",
      " 1   distinct_ip       109766 non-null  object\n",
      " 2   unique_country    109766 non-null  object\n",
      " 3   unique_asn        109766 non-null  object\n",
      " 4   distinct_domains  109766 non-null  object\n",
      " 5   reverse_dns       109766 non-null  object\n",
      " 6   unique_ttl        109766 non-null  object\n",
      "dtypes: object(7)\n",
      "memory usage: 6.7+ MB\n"
     ]
    }
   ],
   "source": [
    "stateful_light_benign[object_columns].info()"
   ]
  },
  {
   "cell_type": "code",
   "execution_count": 45,
   "id": "18b5a127",
   "metadata": {
    "execution": {
     "iopub.execute_input": "2023-01-30T17:17:26.180728Z",
     "iopub.status.busy": "2023-01-30T17:17:26.180155Z",
     "iopub.status.idle": "2023-01-30T17:17:26.211759Z",
     "shell.execute_reply": "2023-01-30T17:17:26.210682Z"
    },
    "papermill": {
     "duration": 0.061217,
     "end_time": "2023-01-30T17:17:26.214194",
     "exception": false,
     "start_time": "2023-01-30T17:17:26.152977",
     "status": "completed"
    },
    "tags": []
   },
   "outputs": [
    {
     "data": {
      "text/plain": [
       "rr                    1.874918\n",
       "A_frequency           1.874905\n",
       "NS_frequency          0.000000\n",
       "CNAME_frequency       0.000000\n",
       "SOA_frequency         0.000000\n",
       "NULL_frequency        0.000000\n",
       "PTR_frequency         4.143794\n",
       "HINFO_frequency       0.000000\n",
       "MX_frequency          0.000000\n",
       "TXT_frequency         0.000009\n",
       "AAAA_frequency        0.000073\n",
       "SRV_frequency         0.000000\n",
       "OPT_frequency         0.000000\n",
       "rr_count              0.627047\n",
       "rr_name_entropy       0.154295\n",
       "rr_name_length       43.240511\n",
       "distinct_ns           0.239664\n",
       "a_records             0.000000\n",
       "ttl_mean           3360.945784\n",
       "ttl_variance         27.915706\n",
       "dtype: float64"
      ]
     },
     "execution_count": 45,
     "metadata": {},
     "output_type": "execute_result"
    }
   ],
   "source": [
    "stateful_light_benign[numeric_columns].var()"
   ]
  },
  {
   "cell_type": "code",
   "execution_count": 46,
   "id": "8762b15d",
   "metadata": {
    "execution": {
     "iopub.execute_input": "2023-01-30T17:17:26.267690Z",
     "iopub.status.busy": "2023-01-30T17:17:26.267329Z",
     "iopub.status.idle": "2023-01-30T17:17:26.336033Z",
     "shell.execute_reply": "2023-01-30T17:17:26.335046Z"
    },
    "papermill": {
     "duration": 0.098774,
     "end_time": "2023-01-30T17:17:26.339220",
     "exception": false,
     "start_time": "2023-01-30T17:17:26.240446",
     "status": "completed"
    },
    "tags": []
   },
   "outputs": [
    {
     "name": "stdout",
     "output_type": "stream",
     "text": [
      "rr_type : \n",
      " [\"{'PTR'}\" \"{'A'}\" '{None}' 'set()' \"{'AAAA', 'A'}\" \"{'TXT'}\"] \n",
      "\n",
      "\n",
      "\n",
      "distinct_ip : \n",
      " ['set()'] \n",
      "\n",
      "\n",
      "\n",
      "unique_country : \n",
      " ['set()' \"{'DE'}\" \"{'US'}\" \"{'CH'}\" \"{'NL'}\" \"{'FR'}\" \"{'RU'}\" \"{'TR'}\"\n",
      " \"{'CY'}\" \"{'RO'}\" \"{'BY'}\" \"{'AT'}\" \"{'BE'}\" \"{'CZ'}\" \"{'UZ'}\" \"{'EE'}\"\n",
      " \"{'PL'}\" \"{'GB'}\" \"{'CA'}\" \"{'HU'}\" \"{'MK'}\" \"{'SE'}\" \"{'KZ'}\" \"{'UA'}\"\n",
      " \"{'AU'}\" \"{'AE'}\" \"{'IN'}\" \"{'KW'}\" \"{'IR'}\" \"{'CN'}\" \"{'ES'}\" \"{'MX'}\"\n",
      " \"{'PE'}\" \"{'LT'}\" \"{'TW'}\" \"{'IT'}\" \"{'MY'}\" \"{'KE'}\" \"{'GR'}\" \"{'BG'}\"\n",
      " \"{'VN'}\" \"{'IL'}\" \"{'BZ'}\" \"{'HK'}\" \"{'RS'}\" \"{'JP'}\" \"{'SC'}\" \"{'ID'}\"\n",
      " \"{'ZA'}\" \"{'US', 'DE'}\" \"{'TH'}\" \"{'AR'}\" \"{'NZ'}\" \"{'MD'}\" \"{'SG'}\"\n",
      " \"{'MZ'}\" \"{'NO'}\" \"{'CO'}\" \"{'NI'}\" \"{'EG'}\" \"{'PT'}\" \"{'DZ'}\" \"{'DK'}\"\n",
      " \"{'PR'}\" \"{'IE'}\" \"{'AZ'}\" \"{'VE'}\" \"{'OM'}\" \"{'CL'}\" \"{'SK'}\" \"{'BF'}\"\n",
      " \"{'GE'}\" \"{'ET'}\" \"{'EU'}\" \"{'KR'}\" \"{'TZ'}\" \"{'TJ'}\" \"{'FI'}\" \"{'AI'}\"\n",
      " \"{'MA'}\" \"{'PA'}\" \"{''}\" \"{'BA'}\" \"{'SA'}\" \"{'AM'}\" \"{'PK'}\" \"{'SI'}\"\n",
      " \"{'MT'}\" \"{'CW'}\" \"{'VG'}\" \"{'MN'}\" \"{'EC'}\" \"{'IM'}\" \"{'BD'}\" \"{'QA'}\"\n",
      " \"{'LV'}\" \"{'RU', 'KZ'}\" \"{'TN'}\" \"{'MM'}\" \"{'NG'}\" \"{'SV'}\" \"{'CR'}\"\n",
      " \"{'JO'}\" \"{'LY'}\" \"{'LU'}\" \"{'PS'}\" \"{'CU'}\" \"{'KG'}\" \"{'NL', 'US'}\"\n",
      " \"{'TL'}\" \"{'HR'}\" \"{'MU'}\" \"{'PH'}\" \"{'BN'}\" \"{'GH'}\" \"{'BR'}\" \"{'IS'}\"\n",
      " \"{'ZA', 'US'}\" \"{'NP'}\" \"{'MY', 'US'}\" \"{'AO'}\" \"{'SC', 'RU'}\"\n",
      " \"{'CA', 'US'}\" \"{'DE', 'FR'}\" \"{'NA'}\" \"{'KP'}\" \"{'GB', 'US'}\" \"{'TM'}\"\n",
      " \"{'US', 'NL'}\" \"{'CN', 'US'}\" \"{'HN'}\" \"{'BW'}\" \"{'JM'}\" \"{'SD'}\"\n",
      " \"{'GT'}\" \"{'LK'}\" \"{'DO'}\" \"{'VA'}\" \"{'UY'}\" \"{'PG'}\" \"{'AZ', 'US'}\"\n",
      " \"{'YE'}\" \"{'GI'}\" \"{'BO'}\" \"{'IR', 'DE'}\" \"{'SM'}\" \"{'SG', 'KR'}\"\n",
      " \"{'SY'}\" \"{'RW'}\" \"{'IQ'}\" \"{'AF'}\" \"{'UG'}\" \"{'KY'}\"] \n",
      "\n",
      "\n",
      "\n",
      "unique_asn : \n",
      " ['set()' \"{'AS24940'}\" \"{'AS26496'}\" ... \"{'AS25058'}\" \"{'AS205496'}\"\n",
      " \"{'AS208508'}\"] \n",
      "\n",
      "\n",
      "\n",
      "distinct_domains : \n",
      " ['{}' \"{'88.198.28.40': {'dvg-gestalt.de'}}\"\n",
      " \"{'88.198.28.40': {'www.dvg-gestalt.de'}}\" ...\n",
      " \"{'172.64.95.174': {'www.pornoente.tv'}}\"\n",
      " \"{'172.64.95.254': {'premiumhentai.site'}}\"\n",
      " \"{'172.64.92.139': {'putlocker5movies.me'}}\"] \n",
      "\n",
      "\n",
      "\n",
      "reverse_dns : \n",
      " ['unknown' 'www299.your-server.de' 'ip-50-62-6-133.ip.secureserver.net'\n",
      " ... 'relaunch2018-en.hamburg-tourism.de'\n",
      " 'ec2-34-247-223-189.eu-west-1.compute.amazonaws.com'\n",
      " 'seavusprojectsolutions.com'] \n",
      "\n",
      "\n",
      "\n",
      "unique_ttl : \n",
      " ['[1]' '[1, 1, 1, 1, 1, 1]' '[1, 1, 1, 1, 1, 1, 1, 1, 1, 1]' '[1, 1]'\n",
      " '[1, 1, 1, 1]' '[1, 1, 1, 1, 1, 1, 1, 1]' '[128, 128, 122, 122]'\n",
      " '[128, 122]' '[128]' '[128, 128]' '[255]'\n",
      " '[1, 1, 1, 1, 1, 1, 1, 1, 1, 1, 1]' '[1, 1, 1, 1, 1, 1, 1, 1, 1]'\n",
      " '[1, 1, 1, 1, 1, 1, 1]' '[128, 128, 128]' '[1, 1, 1, 1, 1]'\n",
      " '[64, 64, 64, 64, 64, 64, 64]' '[64]' '[128, 122, 122]'\n",
      " '[128, 122, 128, 122]' '[1, 1, 1, 1, 1, 1, 1, 1, 1, 1, 1, 1]'\n",
      " '[64, 64, 64, 64]' '[128, 128, 128, 128, 128, 128]' '[122, 122]'\n",
      " '[64, 64, 64, 64, 64, 64]' '[64, 64]' '[122]'\n",
      " '[64, 64, 64, 64, 64, 64, 64, 64]' '[1, 1, 1]' '[128, 128, 122]'\n",
      " '[64, 64, 64]' '[128, 128, 128, 128, 128, 128, 128, 128]'\n",
      " '[128, 128, 128, 122]' '[128, 128, 128, 122, 122, 122]'\n",
      " '[128, 128, 128, 128, 128, 128, 128, 128, 128]'\n",
      " '[128, 128, 122, 122, 128, 122]' '[128, 128, 128, 128, 128, 128, 128]'\n",
      " '[122, 122, 122]' '[128, 128, 128, 122, 122]'\n",
      " '[128, 122, 128, 128, 122, 122]' '[128, 128, 128, 128]'\n",
      " '[128, 128, 128, 128, 122, 122, 122, 122]'\n",
      " '[128, 128, 128, 128, 122, 122, 122]'\n",
      " '[1, 1, 1, 1, 1, 1, 1, 1, 1, 1, 1, 1, 1, 1]' '[128, 128, 128, 128, 128]'\n",
      " '[64, 64, 64, 64, 64]' '[128, 128, 122, 128, 122, 122]'\n",
      " '[128, 122, 122, 122, 122]' '[255, 255, 255, 255]'\n",
      " '[64, 64, 128, 64, 128, 128, 64]' '[128, 128, 122, 122, 122]'\n",
      " '[1, 1, 1, 1, 1, 1, 1, 1, 1, 1, 1, 1, 1]'\n",
      " '[128, 128, 122, 122, 128, 128, 122, 122]' '[128, 122, 122, 122]'\n",
      " '[122, 122, 128, 122]' '[122, 122, 122, 122]' '[255, 255]'\n",
      " '[128, 128, 128, 128, 122, 122]' '[128, 128, 128, 128, 122]'\n",
      " '[255, 255, 255]' '[128, 128, 122, 122, 128, 128]'\n",
      " '[1, 1, 1, 1, 1, 1, 1, 1, 1, 1, 1, 1, 1, 1, 1, 1]'\n",
      " '[128, 128, 128, 128, 128, 122]'\n",
      " '[128, 128, 122, 128, 122, 128, 122, 122]'\n",
      " '[128, 128, 122, 122, 122, 122]' '[122, 122, 128, 128, 122, 122]'\n",
      " '[1, 1, 1, 1, 1, 1, 1, 1, 1, 1, 1, 1, 1, 1, 1]'\n",
      " '[1, 1, 1, 1, 1, 1, 1, 1, 1, 1, 1, 1, 1, 1, 1, 1, 1, 1]'\n",
      " '[1, 1, 1, 1, 1, 1, 1, 1, 1, 1, 1, 1, 1, 1, 1, 1, 1]' '[122, 128, 122]'\n",
      " '[128, 122, 128, 128, 122]'] \n",
      "\n",
      "\n",
      "\n"
     ]
    }
   ],
   "source": [
    "for obj_col in object_columns:\n",
    "    print(obj_col, ':', '\\n', stateful_light_benign[obj_col].unique(), '\\n\\n\\n')"
   ]
  },
  {
   "cell_type": "markdown",
   "id": "9a2452bc",
   "metadata": {
    "papermill": {
     "duration": 0.025641,
     "end_time": "2023-01-30T17:17:26.391753",
     "exception": false,
     "start_time": "2023-01-30T17:17:26.366112",
     "status": "completed"
    },
    "tags": []
   },
   "source": [
    "## Stateless Heavy Attack"
   ]
  },
  {
   "cell_type": "code",
   "execution_count": 47,
   "id": "dcaa4d50",
   "metadata": {
    "execution": {
     "iopub.execute_input": "2023-01-30T17:17:26.445381Z",
     "iopub.status.busy": "2023-01-30T17:17:26.444798Z",
     "iopub.status.idle": "2023-01-30T17:17:27.480511Z",
     "shell.execute_reply": "2023-01-30T17:17:27.479043Z"
    },
    "papermill": {
     "duration": 1.065138,
     "end_time": "2023-01-30T17:17:27.482899",
     "exception": false,
     "start_time": "2023-01-30T17:17:26.417761",
     "status": "completed"
    },
    "tags": []
   },
   "outputs": [
    {
     "name": "stdout",
     "output_type": "stream",
     "text": [
      "Total Stateless Heavy Attacks: 251670\n"
     ]
    }
   ],
   "source": [
    "# stateless_heavy_attack\n",
    "PATH = '/kaggle/input/cicbelldnsexf2021/Attack_heavy_Benign/Attacks/'\n",
    "stateless_heavy_attack_audio = pd.read_csv(PATH+'stateless_features-heavy_audio.pcap.csv')\n",
    "stateless_heavy_attack_compressed = pd.read_csv(PATH+'stateless_features-heavy_compressed.pcap.csv')\n",
    "stateless_heavy_attack_exe = pd.read_csv(PATH+'stateless_features-heavy_exe.pcap.csv')\n",
    "stateless_heavy_attack_image = pd.read_csv(PATH+'stateless_features-heavy_image.pcap.csv')\n",
    "stateless_heavy_attack_text = pd.read_csv(PATH+'stateless_features-heavy_text.pcap.csv')\n",
    "stateless_heavy_attack_video = pd.read_csv(PATH+'stateless_features-heavy_video.pcap.csv')\n",
    "\n",
    "number_of_records = len(stateless_heavy_attack_audio)+len(stateless_heavy_attack_compressed)+\\\n",
    "                         len(stateless_heavy_attack_exe)+len(stateless_heavy_attack_image)+\\\n",
    "                         len(stateless_heavy_attack_text)+len(stateless_heavy_attack_video)\n",
    "\n",
    "# verifying number of stateless heavy attack records\n",
    "# https://www.unb.ca/cic/datasets/dns-exf-2021.html\n",
    "print('Total Stateless Heavy Attacks:', number_of_records)"
   ]
  },
  {
   "cell_type": "code",
   "execution_count": 48,
   "id": "acfd1152",
   "metadata": {
    "execution": {
     "iopub.execute_input": "2023-01-30T17:17:27.535974Z",
     "iopub.status.busy": "2023-01-30T17:17:27.535579Z",
     "iopub.status.idle": "2023-01-30T17:17:27.544575Z",
     "shell.execute_reply": "2023-01-30T17:17:27.543385Z"
    },
    "papermill": {
     "duration": 0.038186,
     "end_time": "2023-01-30T17:17:27.547111",
     "exception": false,
     "start_time": "2023-01-30T17:17:27.508925",
     "status": "completed"
    },
    "tags": []
   },
   "outputs": [
    {
     "name": "stdout",
     "output_type": "stream",
     "text": [
      " True\n",
      " True\n",
      " True\n",
      " True\n",
      " True\n"
     ]
    }
   ],
   "source": [
    "# ----------------------\n",
    "# stateless_heavy_attack\n",
    "# ----------------------\n",
    "\n",
    "dfs = [stateless_heavy_attack_audio, stateless_heavy_attack_compressed, \n",
    "      stateless_heavy_attack_exe, stateless_heavy_attack_image, \n",
    "      stateless_heavy_attack_text, stateless_heavy_attack_video]\n",
    "\n",
    "columns = stateless_heavy_attack_audio.columns\n",
    "\n",
    "# checking if all dataframes, of stateful heavy attack type, have same column names\n",
    "columns_stateless_heavy_attack_audio = stateless_heavy_attack_audio.columns\n",
    "columns_stateless_heavy_attack_compressed = stateless_heavy_attack_compressed.columns\n",
    "columns_stateless_heavy_attack_exe = stateless_heavy_attack_exe.columns\n",
    "columns_stateless_heavy_attack_image = stateless_heavy_attack_image.columns\n",
    "columns_stateless_heavy_attack_text = stateless_heavy_attack_text.columns\n",
    "columns_stateless_heavy_attack_video = stateless_heavy_attack_video.columns\n",
    "\n",
    "dfs_columns = [ columns_stateless_heavy_attack_compressed,\n",
    "            columns_stateless_heavy_attack_exe,\n",
    "            columns_stateless_heavy_attack_image,\n",
    "            columns_stateless_heavy_attack_text,\n",
    "            columns_stateless_heavy_attack_video ]\n",
    "\n",
    "for cols in dfs_columns:\n",
    "    print('', columns_stateless_heavy_attack_audio.isin(cols).all())"
   ]
  },
  {
   "cell_type": "code",
   "execution_count": 49,
   "id": "cce634dc",
   "metadata": {
    "execution": {
     "iopub.execute_input": "2023-01-30T17:17:27.601165Z",
     "iopub.status.busy": "2023-01-30T17:17:27.600418Z",
     "iopub.status.idle": "2023-01-30T17:17:27.639171Z",
     "shell.execute_reply": "2023-01-30T17:17:27.638155Z"
    },
    "papermill": {
     "duration": 0.068245,
     "end_time": "2023-01-30T17:17:27.641431",
     "exception": false,
     "start_time": "2023-01-30T17:17:27.573186",
     "status": "completed"
    },
    "tags": []
   },
   "outputs": [
    {
     "data": {
      "text/plain": [
       "251670"
      ]
     },
     "execution_count": 49,
     "metadata": {},
     "output_type": "execute_result"
    }
   ],
   "source": [
    "# ----------------------\n",
    "# stateless_heavy_attack\n",
    "# ----------------------\n",
    "\n",
    "# merging dataframes \n",
    "\n",
    "stateless_heavy_attack = pd.concat([stateless_heavy_attack_audio, \n",
    "                                   stateless_heavy_attack_compressed,\n",
    "                                   stateless_heavy_attack_exe,\n",
    "                                   stateless_heavy_attack_image,\n",
    "                                   stateless_heavy_attack_text,\n",
    "                                   stateless_heavy_attack_video])\n",
    "\n",
    "# verifying number of stateless heavy attack records after concatenation\n",
    "# https://www.unb.ca/cic/datasets/dns-exf-2021.html\n",
    "len(stateless_heavy_attack)"
   ]
  },
  {
   "cell_type": "code",
   "execution_count": 50,
   "id": "07c310b9",
   "metadata": {
    "execution": {
     "iopub.execute_input": "2023-01-30T17:17:27.695260Z",
     "iopub.status.busy": "2023-01-30T17:17:27.694881Z",
     "iopub.status.idle": "2023-01-30T17:17:27.763222Z",
     "shell.execute_reply": "2023-01-30T17:17:27.762036Z"
    },
    "papermill": {
     "duration": 0.098073,
     "end_time": "2023-01-30T17:17:27.765634",
     "exception": false,
     "start_time": "2023-01-30T17:17:27.667561",
     "status": "completed"
    },
    "tags": []
   },
   "outputs": [
    {
     "name": "stdout",
     "output_type": "stream",
     "text": [
      "timestamp :  [ True]\n",
      "FQDN_count :  [ True]\n",
      "subdomain_length :  [ True]\n",
      "upper :  [ True]\n",
      "lower :  [ True]\n",
      "numeric :  [ True]\n",
      "entropy :  [ True]\n",
      "special :  [ True]\n",
      "labels :  [ True]\n",
      "labels_max :  [ True]\n",
      "labels_average :  [ True]\n",
      "longest_word :  [ True]\n",
      "sld :  [ True]\n",
      "len :  [ True]\n",
      "subdomain :  [ True]\n"
     ]
    }
   ],
   "source": [
    "for column in columns:\n",
    "    print(column, ': ', stateless_heavy_attack[column].notnull().unique())"
   ]
  },
  {
   "cell_type": "code",
   "execution_count": 51,
   "id": "35897974",
   "metadata": {
    "execution": {
     "iopub.execute_input": "2023-01-30T17:17:27.821338Z",
     "iopub.status.busy": "2023-01-30T17:17:27.820598Z",
     "iopub.status.idle": "2023-01-30T17:17:27.837228Z",
     "shell.execute_reply": "2023-01-30T17:17:27.836214Z"
    },
    "papermill": {
     "duration": 0.046731,
     "end_time": "2023-01-30T17:17:27.839617",
     "exception": false,
     "start_time": "2023-01-30T17:17:27.792886",
     "status": "completed"
    },
    "tags": []
   },
   "outputs": [
    {
     "data": {
      "text/html": [
       "<div>\n",
       "<style scoped>\n",
       "    .dataframe tbody tr th:only-of-type {\n",
       "        vertical-align: middle;\n",
       "    }\n",
       "\n",
       "    .dataframe tbody tr th {\n",
       "        vertical-align: top;\n",
       "    }\n",
       "\n",
       "    .dataframe thead th {\n",
       "        text-align: right;\n",
       "    }\n",
       "</style>\n",
       "<table border=\"1\" class=\"dataframe\">\n",
       "  <thead>\n",
       "    <tr style=\"text-align: right;\">\n",
       "      <th></th>\n",
       "      <th>timestamp</th>\n",
       "      <th>FQDN_count</th>\n",
       "      <th>subdomain_length</th>\n",
       "      <th>upper</th>\n",
       "      <th>lower</th>\n",
       "      <th>numeric</th>\n",
       "      <th>entropy</th>\n",
       "      <th>special</th>\n",
       "      <th>labels</th>\n",
       "      <th>labels_max</th>\n",
       "      <th>labels_average</th>\n",
       "      <th>longest_word</th>\n",
       "      <th>sld</th>\n",
       "      <th>len</th>\n",
       "      <th>subdomain</th>\n",
       "    </tr>\n",
       "  </thead>\n",
       "  <tbody>\n",
       "    <tr>\n",
       "      <th>0</th>\n",
       "      <td>2020-11-22 14:52:31.248351</td>\n",
       "      <td>25</td>\n",
       "      <td>8</td>\n",
       "      <td>0</td>\n",
       "      <td>10</td>\n",
       "      <td>9</td>\n",
       "      <td>2.556642</td>\n",
       "      <td>6</td>\n",
       "      <td>6</td>\n",
       "      <td>7</td>\n",
       "      <td>3.333333</td>\n",
       "      <td>2</td>\n",
       "      <td>192</td>\n",
       "      <td>12</td>\n",
       "      <td>1</td>\n",
       "    </tr>\n",
       "    <tr>\n",
       "      <th>1</th>\n",
       "      <td>2020-11-22 14:52:31.658668</td>\n",
       "      <td>25</td>\n",
       "      <td>8</td>\n",
       "      <td>0</td>\n",
       "      <td>10</td>\n",
       "      <td>9</td>\n",
       "      <td>2.556642</td>\n",
       "      <td>6</td>\n",
       "      <td>6</td>\n",
       "      <td>7</td>\n",
       "      <td>3.333333</td>\n",
       "      <td>2</td>\n",
       "      <td>192</td>\n",
       "      <td>12</td>\n",
       "      <td>1</td>\n",
       "    </tr>\n",
       "    <tr>\n",
       "      <th>2</th>\n",
       "      <td>2020-11-22 14:52:31.898872</td>\n",
       "      <td>15</td>\n",
       "      <td>0</td>\n",
       "      <td>11</td>\n",
       "      <td>0</td>\n",
       "      <td>3</td>\n",
       "      <td>3.625000</td>\n",
       "      <td>1</td>\n",
       "      <td>1</td>\n",
       "      <td>15</td>\n",
       "      <td>15.000000</td>\n",
       "      <td>C</td>\n",
       "      <td>DESKTOP-3JF04TC</td>\n",
       "      <td>16</td>\n",
       "      <td>0</td>\n",
       "    </tr>\n",
       "    <tr>\n",
       "      <th>3</th>\n",
       "      <td>2020-11-22 14:52:32.071032</td>\n",
       "      <td>24</td>\n",
       "      <td>7</td>\n",
       "      <td>0</td>\n",
       "      <td>10</td>\n",
       "      <td>8</td>\n",
       "      <td>2.054029</td>\n",
       "      <td>6</td>\n",
       "      <td>6</td>\n",
       "      <td>7</td>\n",
       "      <td>3.166667</td>\n",
       "      <td>4</td>\n",
       "      <td>224</td>\n",
       "      <td>11</td>\n",
       "      <td>1</td>\n",
       "    </tr>\n",
       "    <tr>\n",
       "      <th>4</th>\n",
       "      <td>2020-11-22 14:52:32.481373</td>\n",
       "      <td>24</td>\n",
       "      <td>7</td>\n",
       "      <td>0</td>\n",
       "      <td>10</td>\n",
       "      <td>8</td>\n",
       "      <td>2.054029</td>\n",
       "      <td>6</td>\n",
       "      <td>6</td>\n",
       "      <td>7</td>\n",
       "      <td>3.166667</td>\n",
       "      <td>4</td>\n",
       "      <td>224</td>\n",
       "      <td>11</td>\n",
       "      <td>1</td>\n",
       "    </tr>\n",
       "  </tbody>\n",
       "</table>\n",
       "</div>"
      ],
      "text/plain": [
       "                    timestamp  FQDN_count  subdomain_length  upper  lower  \\\n",
       "0  2020-11-22 14:52:31.248351          25                 8      0     10   \n",
       "1  2020-11-22 14:52:31.658668          25                 8      0     10   \n",
       "2  2020-11-22 14:52:31.898872          15                 0     11      0   \n",
       "3  2020-11-22 14:52:32.071032          24                 7      0     10   \n",
       "4  2020-11-22 14:52:32.481373          24                 7      0     10   \n",
       "\n",
       "   numeric   entropy  special  labels  labels_max  labels_average  \\\n",
       "0        9  2.556642        6       6           7        3.333333   \n",
       "1        9  2.556642        6       6           7        3.333333   \n",
       "2        3  3.625000        1       1          15       15.000000   \n",
       "3        8  2.054029        6       6           7        3.166667   \n",
       "4        8  2.054029        6       6           7        3.166667   \n",
       "\n",
       "  longest_word              sld  len  subdomain  \n",
       "0            2              192   12          1  \n",
       "1            2              192   12          1  \n",
       "2            C  DESKTOP-3JF04TC   16          0  \n",
       "3            4              224   11          1  \n",
       "4            4              224   11          1  "
      ]
     },
     "execution_count": 51,
     "metadata": {},
     "output_type": "execute_result"
    }
   ],
   "source": [
    "stateless_heavy_attack.head()"
   ]
  },
  {
   "cell_type": "code",
   "execution_count": 52,
   "id": "88f8c391",
   "metadata": {
    "execution": {
     "iopub.execute_input": "2023-01-30T17:17:27.894444Z",
     "iopub.status.busy": "2023-01-30T17:17:27.894063Z",
     "iopub.status.idle": "2023-01-30T17:17:27.944481Z",
     "shell.execute_reply": "2023-01-30T17:17:27.942937Z"
    },
    "papermill": {
     "duration": 0.080863,
     "end_time": "2023-01-30T17:17:27.946989",
     "exception": false,
     "start_time": "2023-01-30T17:17:27.866126",
     "status": "completed"
    },
    "tags": []
   },
   "outputs": [
    {
     "name": "stdout",
     "output_type": "stream",
     "text": [
      "<class 'pandas.core.frame.DataFrame'>\n",
      "Int64Index: 251670 entries, 0 to 38011\n",
      "Data columns (total 15 columns):\n",
      " #   Column            Non-Null Count   Dtype  \n",
      "---  ------            --------------   -----  \n",
      " 0   timestamp         251670 non-null  object \n",
      " 1   FQDN_count        251670 non-null  int64  \n",
      " 2   subdomain_length  251670 non-null  int64  \n",
      " 3   upper             251670 non-null  int64  \n",
      " 4   lower             251670 non-null  int64  \n",
      " 5   numeric           251670 non-null  int64  \n",
      " 6   entropy           251670 non-null  float64\n",
      " 7   special           251670 non-null  int64  \n",
      " 8   labels            251670 non-null  int64  \n",
      " 9   labels_max        251670 non-null  int64  \n",
      " 10  labels_average    251670 non-null  float64\n",
      " 11  longest_word      251670 non-null  object \n",
      " 12  sld               251670 non-null  object \n",
      " 13  len               251670 non-null  int64  \n",
      " 14  subdomain         251670 non-null  int64  \n",
      "dtypes: float64(2), int64(10), object(3)\n",
      "memory usage: 30.7+ MB\n"
     ]
    }
   ],
   "source": [
    "stateless_heavy_attack.info()"
   ]
  },
  {
   "cell_type": "code",
   "execution_count": 53,
   "id": "14a38d32",
   "metadata": {
    "execution": {
     "iopub.execute_input": "2023-01-30T17:17:28.002461Z",
     "iopub.status.busy": "2023-01-30T17:17:28.001330Z",
     "iopub.status.idle": "2023-01-30T17:17:28.078661Z",
     "shell.execute_reply": "2023-01-30T17:17:28.077493Z"
    },
    "papermill": {
     "duration": 0.107595,
     "end_time": "2023-01-30T17:17:28.081368",
     "exception": false,
     "start_time": "2023-01-30T17:17:27.973773",
     "status": "completed"
    },
    "tags": []
   },
   "outputs": [],
   "source": [
    "numeric_columns = stateless_heavy_attack.select_dtypes(exclude=[object]).columns\n",
    "object_columns =  stateless_heavy_attack.select_dtypes(include=[object]).columns"
   ]
  },
  {
   "cell_type": "code",
   "execution_count": 54,
   "id": "13321891",
   "metadata": {
    "execution": {
     "iopub.execute_input": "2023-01-30T17:17:28.136727Z",
     "iopub.status.busy": "2023-01-30T17:17:28.136349Z",
     "iopub.status.idle": "2023-01-30T17:17:28.159442Z",
     "shell.execute_reply": "2023-01-30T17:17:28.158031Z"
    },
    "papermill": {
     "duration": 0.053971,
     "end_time": "2023-01-30T17:17:28.162373",
     "exception": false,
     "start_time": "2023-01-30T17:17:28.108402",
     "status": "completed"
    },
    "tags": []
   },
   "outputs": [
    {
     "name": "stdout",
     "output_type": "stream",
     "text": [
      "<class 'pandas.core.frame.DataFrame'>\n",
      "Int64Index: 251670 entries, 0 to 38011\n",
      "Data columns (total 12 columns):\n",
      " #   Column            Non-Null Count   Dtype  \n",
      "---  ------            --------------   -----  \n",
      " 0   FQDN_count        251670 non-null  int64  \n",
      " 1   subdomain_length  251670 non-null  int64  \n",
      " 2   upper             251670 non-null  int64  \n",
      " 3   lower             251670 non-null  int64  \n",
      " 4   numeric           251670 non-null  int64  \n",
      " 5   entropy           251670 non-null  float64\n",
      " 6   special           251670 non-null  int64  \n",
      " 7   labels            251670 non-null  int64  \n",
      " 8   labels_max        251670 non-null  int64  \n",
      " 9   labels_average    251670 non-null  float64\n",
      " 10  len               251670 non-null  int64  \n",
      " 11  subdomain         251670 non-null  int64  \n",
      "dtypes: float64(2), int64(10)\n",
      "memory usage: 25.0 MB\n"
     ]
    }
   ],
   "source": [
    "stateless_heavy_attack[numeric_columns].info()"
   ]
  },
  {
   "cell_type": "code",
   "execution_count": 55,
   "id": "638dedec",
   "metadata": {
    "execution": {
     "iopub.execute_input": "2023-01-30T17:17:28.219645Z",
     "iopub.status.busy": "2023-01-30T17:17:28.218908Z",
     "iopub.status.idle": "2023-01-30T17:17:28.272148Z",
     "shell.execute_reply": "2023-01-30T17:17:28.270939Z"
    },
    "papermill": {
     "duration": 0.084317,
     "end_time": "2023-01-30T17:17:28.274635",
     "exception": false,
     "start_time": "2023-01-30T17:17:28.190318",
     "status": "completed"
    },
    "tags": []
   },
   "outputs": [
    {
     "name": "stdout",
     "output_type": "stream",
     "text": [
      "<class 'pandas.core.frame.DataFrame'>\n",
      "Int64Index: 251670 entries, 0 to 38011\n",
      "Data columns (total 3 columns):\n",
      " #   Column        Non-Null Count   Dtype \n",
      "---  ------        --------------   ----- \n",
      " 0   timestamp     251670 non-null  object\n",
      " 1   longest_word  251670 non-null  object\n",
      " 2   sld           251670 non-null  object\n",
      "dtypes: object(3)\n",
      "memory usage: 7.7+ MB\n"
     ]
    }
   ],
   "source": [
    "stateless_heavy_attack[object_columns].info()"
   ]
  },
  {
   "cell_type": "code",
   "execution_count": 56,
   "id": "1393acfa",
   "metadata": {
    "execution": {
     "iopub.execute_input": "2023-01-30T17:17:28.330463Z",
     "iopub.status.busy": "2023-01-30T17:17:28.330074Z",
     "iopub.status.idle": "2023-01-30T17:17:28.374836Z",
     "shell.execute_reply": "2023-01-30T17:17:28.373797Z"
    },
    "papermill": {
     "duration": 0.075311,
     "end_time": "2023-01-30T17:17:28.377151",
     "exception": false,
     "start_time": "2023-01-30T17:17:28.301840",
     "status": "completed"
    },
    "tags": []
   },
   "outputs": [
    {
     "data": {
      "text/plain": [
       "FQDN_count           8.673164\n",
       "subdomain_length     5.342062\n",
       "upper               33.330024\n",
       "lower                5.129758\n",
       "numeric              6.345085\n",
       "entropy              0.123122\n",
       "special              1.644210\n",
       "labels               1.261852\n",
       "labels_max          20.530816\n",
       "labels_average      27.023740\n",
       "len                 16.162201\n",
       "subdomain            0.047681\n",
       "dtype: float64"
      ]
     },
     "execution_count": 56,
     "metadata": {},
     "output_type": "execute_result"
    }
   ],
   "source": [
    "stateless_heavy_attack[numeric_columns].var()"
   ]
  },
  {
   "cell_type": "code",
   "execution_count": 57,
   "id": "aabfbbd6",
   "metadata": {
    "execution": {
     "iopub.execute_input": "2023-01-30T17:17:28.434481Z",
     "iopub.status.busy": "2023-01-30T17:17:28.434100Z",
     "iopub.status.idle": "2023-01-30T17:17:28.526044Z",
     "shell.execute_reply": "2023-01-30T17:17:28.524752Z"
    },
    "papermill": {
     "duration": 0.123915,
     "end_time": "2023-01-30T17:17:28.528739",
     "exception": false,
     "start_time": "2023-01-30T17:17:28.404824",
     "status": "completed"
    },
    "tags": []
   },
   "outputs": [
    {
     "name": "stdout",
     "output_type": "stream",
     "text": [
      "timestamp : \n",
      " ['2020-11-22 14:52:31.248351' '2020-11-22 14:52:31.658668'\n",
      " '2020-11-22 14:52:31.898872' ... '2020-11-24 23:16:25.531377'\n",
      " '2020-11-24 23:16:25.943739' '2020-11-24 23:16:26.353886'] \n",
      "\n",
      "\n",
      "\n",
      "longest_word : \n",
      " ['2' 'C' '4' 'local' 'dns' '9' 'A' 'ad' 'N' 'microsoft' 'L' 'live'\n",
      " 'windows' 'sfx' 'google' 'M' 'tap' 'bing' 'tic' 'skype' 'cert' 'onenote'\n",
      " 'tnc' 'edge' '1' 'rocket' 'client'] \n",
      "\n",
      "\n",
      "\n",
      "sld : \n",
      " ['192' 'DESKTOP-3JF04TC' '224' 'local' 'dns' '239' '172'\n",
      " 'FHFAEBEECACACACACACACACACACACAAA' 'wpad'\n",
      " 'FHEPFCELEHFCEPFFFACACACACACACABN' 'microsoft' 'DC'\n",
      " 'FHEPFCELEHFCEPFFFACACACACACACABL' 'live' 'windowsupdate' 'sfx'\n",
      " 'googleapis' 'EEEFFDELFEEPFACNDCEJECDIFGEDFFBM'\n",
      " 'EJFDEBFEEBFACACACACACACACACACAAA' 'isatap' 'bing' 'gstatic' 'skype'\n",
      " 'FHEPFCELEHFCEPFFFACACACACACACACA' 'digicert' 'onenote' 'msftncsi'\n",
      " 'msedge' 'windows' 'google' 'gvt1' 'logrocket'\n",
      " 'FEFDEDEMEJEFEOFECACACACACACACACA' 'tsclient'] \n",
      "\n",
      "\n",
      "\n"
     ]
    }
   ],
   "source": [
    "for obj_col in object_columns:\n",
    "    print(obj_col, ':', '\\n', stateless_heavy_attack[obj_col].unique(), '\\n\\n\\n')"
   ]
  },
  {
   "cell_type": "markdown",
   "id": "1957b52c",
   "metadata": {
    "papermill": {
     "duration": 0.026597,
     "end_time": "2023-01-30T17:17:28.582300",
     "exception": false,
     "start_time": "2023-01-30T17:17:28.555703",
     "status": "completed"
    },
    "tags": []
   },
   "source": [
    "## Stateless Heavy Benign"
   ]
  },
  {
   "cell_type": "code",
   "execution_count": 58,
   "id": "177fe21d",
   "metadata": {
    "execution": {
     "iopub.execute_input": "2023-01-30T17:17:28.637869Z",
     "iopub.status.busy": "2023-01-30T17:17:28.637176Z",
     "iopub.status.idle": "2023-01-30T17:17:30.163853Z",
     "shell.execute_reply": "2023-01-30T17:17:30.162960Z"
    },
    "papermill": {
     "duration": 1.557191,
     "end_time": "2023-01-30T17:17:30.166065",
     "exception": false,
     "start_time": "2023-01-30T17:17:28.608874",
     "status": "completed"
    },
    "tags": []
   },
   "outputs": [
    {
     "name": "stdout",
     "output_type": "stream",
     "text": [
      "Total Stateless Heavy Benign: 402767\n"
     ]
    }
   ],
   "source": [
    "# ---------------------\n",
    "# stateless_heavy_benign\n",
    "# ---------------------\n",
    "\n",
    "PATH = '/kaggle/input/cicbelldnsexf2021/Attack_heavy_Benign/Benign/'\n",
    "stateless_heavy_benign1 = pd.read_csv(PATH+'stateless_features-benign_heavy_1.pcap.csv')\n",
    "stateless_heavy_benign2 = pd.read_csv(PATH+'stateless_features-benign_heavy_2.pcap.csv')\n",
    "stateless_heavy_benign3 = pd.read_csv(PATH+'stateless_features-benign_heavy_3.pcap.csv')\n",
    "\n",
    "PATH = '/kaggle/input/cicbelldnsexf2021/Benign/'\n",
    "stateless_benign1 = pd.read_csv(PATH+'stateless_features-benign_1.pcap.csv')\n",
    "stateless_benign2 = pd.read_csv(PATH+'stateless_features-benign_2.pcap.csv')\n",
    "\n",
    "number_of_records = len(stateless_heavy_benign1)+len(stateless_heavy_benign2)+\\\n",
    "                        len(stateless_heavy_benign3)+\\\n",
    "                        len(stateless_benign1)+len(stateless_benign2)\n",
    "\n",
    "# verifying number of stateless heavy benign records\n",
    "# https://www.unb.ca/cic/datasets/dns-exf-2021.html\n",
    "print('Total Stateless Heavy Benign:', number_of_records)"
   ]
  },
  {
   "cell_type": "code",
   "execution_count": 59,
   "id": "4daa13c8",
   "metadata": {
    "execution": {
     "iopub.execute_input": "2023-01-30T17:17:30.222151Z",
     "iopub.status.busy": "2023-01-30T17:17:30.221540Z",
     "iopub.status.idle": "2023-01-30T17:17:30.229038Z",
     "shell.execute_reply": "2023-01-30T17:17:30.228250Z"
    },
    "papermill": {
     "duration": 0.038359,
     "end_time": "2023-01-30T17:17:30.231551",
     "exception": false,
     "start_time": "2023-01-30T17:17:30.193192",
     "status": "completed"
    },
    "tags": []
   },
   "outputs": [
    {
     "name": "stdout",
     "output_type": "stream",
     "text": [
      " True\n",
      " True\n",
      " True\n",
      " True\n"
     ]
    }
   ],
   "source": [
    "# ---------------------\n",
    "# stateless_heavy_benign\n",
    "# ---------------------\n",
    "\n",
    "dfs = [stateless_heavy_benign1, stateless_heavy_benign2, stateless_heavy_benign3,\n",
    "               stateless_benign1, stateless_benign2]\n",
    "\n",
    "columns = stateless_heavy_benign1.columns\n",
    "\n",
    "# checking if all dataframes, of stateless heavy benign type, have same column names\n",
    "columns_stateless_heavy_benign1 = stateless_heavy_benign1.columns\n",
    "columns_stateless_heavy_benign2 = stateless_heavy_benign2.columns\n",
    "columns_stateless_heavy_benign3 = stateless_heavy_benign3.columns\n",
    "columns_stateless_benign1 = stateless_benign1.columns\n",
    "columns_stateless_benign2 = stateless_benign2.columns\n",
    "\n",
    "\n",
    "dfs_columns = [ columns_stateless_heavy_benign2,\n",
    "                columns_stateless_heavy_benign3, \n",
    "                columns_stateless_benign1,\n",
    "                columns_stateless_benign2]\n",
    "\n",
    "for cols in dfs_columns:\n",
    "    print('', columns_stateless_heavy_benign1.isin(cols).all())"
   ]
  },
  {
   "cell_type": "code",
   "execution_count": 60,
   "id": "f2a0d844",
   "metadata": {
    "execution": {
     "iopub.execute_input": "2023-01-30T17:17:30.287650Z",
     "iopub.status.busy": "2023-01-30T17:17:30.286665Z",
     "iopub.status.idle": "2023-01-30T17:17:30.344563Z",
     "shell.execute_reply": "2023-01-30T17:17:30.343450Z"
    },
    "papermill": {
     "duration": 0.087969,
     "end_time": "2023-01-30T17:17:30.347026",
     "exception": false,
     "start_time": "2023-01-30T17:17:30.259057",
     "status": "completed"
    },
    "tags": []
   },
   "outputs": [
    {
     "data": {
      "text/plain": [
       "402767"
      ]
     },
     "execution_count": 60,
     "metadata": {},
     "output_type": "execute_result"
    }
   ],
   "source": [
    "# ----------------------\n",
    "# stateless_heavy_benign\n",
    "# ----------------------\n",
    "\n",
    "# merging dataframes \n",
    "\n",
    "stateless_heavy_benign = pd.concat([stateless_heavy_benign1, \n",
    "                                   stateless_heavy_benign2,\n",
    "                                   stateless_heavy_benign3,\n",
    "                                   stateless_benign1,\n",
    "                                   stateless_benign2\n",
    "                                   ])\n",
    "\n",
    "# verifying number of stateless heavy benign records after concatenation\n",
    "# https://www.unb.ca/cic/datasets/dns-exf-2021.html\n",
    "len(stateless_heavy_benign)"
   ]
  },
  {
   "cell_type": "code",
   "execution_count": 61,
   "id": "8ccf6841",
   "metadata": {
    "execution": {
     "iopub.execute_input": "2023-01-30T17:17:30.404406Z",
     "iopub.status.busy": "2023-01-30T17:17:30.403562Z",
     "iopub.status.idle": "2023-01-30T17:17:30.508850Z",
     "shell.execute_reply": "2023-01-30T17:17:30.507054Z"
    },
    "papermill": {
     "duration": 0.136921,
     "end_time": "2023-01-30T17:17:30.511750",
     "exception": false,
     "start_time": "2023-01-30T17:17:30.374829",
     "status": "completed"
    },
    "tags": []
   },
   "outputs": [
    {
     "name": "stdout",
     "output_type": "stream",
     "text": [
      "timestamp :  [ True]\n",
      "FQDN_count :  [ True]\n",
      "subdomain_length :  [ True]\n",
      "upper :  [ True]\n",
      "lower :  [ True]\n",
      "numeric :  [ True]\n",
      "entropy :  [ True]\n",
      "special :  [ True]\n",
      "labels :  [ True]\n",
      "labels_max :  [ True]\n",
      "labels_average :  [ True]\n",
      "longest_word :  [ True False]\n",
      "sld :  [ True]\n",
      "len :  [ True]\n",
      "subdomain :  [ True]\n"
     ]
    }
   ],
   "source": [
    "for column in columns:\n",
    "    print(column, ': ', stateless_heavy_benign[column].notnull().unique())"
   ]
  },
  {
   "cell_type": "code",
   "execution_count": 62,
   "id": "9b5326ff",
   "metadata": {
    "execution": {
     "iopub.execute_input": "2023-01-30T17:17:30.568477Z",
     "iopub.status.busy": "2023-01-30T17:17:30.568075Z",
     "iopub.status.idle": "2023-01-30T17:17:30.594876Z",
     "shell.execute_reply": "2023-01-30T17:17:30.593805Z"
    },
    "papermill": {
     "duration": 0.057759,
     "end_time": "2023-01-30T17:17:30.597443",
     "exception": false,
     "start_time": "2023-01-30T17:17:30.539684",
     "status": "completed"
    },
    "tags": []
   },
   "outputs": [
    {
     "name": "stdout",
     "output_type": "stream",
     "text": [
      "True     402740\n",
      "False        27\n",
      "Name: longest_word, dtype: int64\n"
     ]
    }
   ],
   "source": [
    "print(stateless_heavy_benign['longest_word'].notnull().value_counts())"
   ]
  },
  {
   "cell_type": "code",
   "execution_count": 63,
   "id": "5c047398",
   "metadata": {
    "execution": {
     "iopub.execute_input": "2023-01-30T17:17:30.652778Z",
     "iopub.status.busy": "2023-01-30T17:17:30.651966Z",
     "iopub.status.idle": "2023-01-30T17:17:30.667423Z",
     "shell.execute_reply": "2023-01-30T17:17:30.666650Z"
    },
    "papermill": {
     "duration": 0.045029,
     "end_time": "2023-01-30T17:17:30.669366",
     "exception": false,
     "start_time": "2023-01-30T17:17:30.624337",
     "status": "completed"
    },
    "tags": []
   },
   "outputs": [
    {
     "data": {
      "text/html": [
       "<div>\n",
       "<style scoped>\n",
       "    .dataframe tbody tr th:only-of-type {\n",
       "        vertical-align: middle;\n",
       "    }\n",
       "\n",
       "    .dataframe tbody tr th {\n",
       "        vertical-align: top;\n",
       "    }\n",
       "\n",
       "    .dataframe thead th {\n",
       "        text-align: right;\n",
       "    }\n",
       "</style>\n",
       "<table border=\"1\" class=\"dataframe\">\n",
       "  <thead>\n",
       "    <tr style=\"text-align: right;\">\n",
       "      <th></th>\n",
       "      <th>timestamp</th>\n",
       "      <th>FQDN_count</th>\n",
       "      <th>subdomain_length</th>\n",
       "      <th>upper</th>\n",
       "      <th>lower</th>\n",
       "      <th>numeric</th>\n",
       "      <th>entropy</th>\n",
       "      <th>special</th>\n",
       "      <th>labels</th>\n",
       "      <th>labels_max</th>\n",
       "      <th>labels_average</th>\n",
       "      <th>longest_word</th>\n",
       "      <th>sld</th>\n",
       "      <th>len</th>\n",
       "      <th>subdomain</th>\n",
       "    </tr>\n",
       "  </thead>\n",
       "  <tbody>\n",
       "    <tr>\n",
       "      <th>0</th>\n",
       "      <td>2020-11-22 10:52:54.331014</td>\n",
       "      <td>27</td>\n",
       "      <td>10</td>\n",
       "      <td>0</td>\n",
       "      <td>10</td>\n",
       "      <td>11</td>\n",
       "      <td>2.570417</td>\n",
       "      <td>6</td>\n",
       "      <td>6</td>\n",
       "      <td>7</td>\n",
       "      <td>3.666667</td>\n",
       "      <td>2</td>\n",
       "      <td>192</td>\n",
       "      <td>14</td>\n",
       "      <td>1</td>\n",
       "    </tr>\n",
       "    <tr>\n",
       "      <th>1</th>\n",
       "      <td>2020-11-22 10:52:54.743949</td>\n",
       "      <td>27</td>\n",
       "      <td>10</td>\n",
       "      <td>0</td>\n",
       "      <td>10</td>\n",
       "      <td>11</td>\n",
       "      <td>2.481480</td>\n",
       "      <td>6</td>\n",
       "      <td>6</td>\n",
       "      <td>7</td>\n",
       "      <td>3.666667</td>\n",
       "      <td>2</td>\n",
       "      <td>192</td>\n",
       "      <td>14</td>\n",
       "      <td>1</td>\n",
       "    </tr>\n",
       "    <tr>\n",
       "      <th>2</th>\n",
       "      <td>2020-11-22 10:52:55.154578</td>\n",
       "      <td>27</td>\n",
       "      <td>10</td>\n",
       "      <td>0</td>\n",
       "      <td>10</td>\n",
       "      <td>11</td>\n",
       "      <td>2.481480</td>\n",
       "      <td>6</td>\n",
       "      <td>6</td>\n",
       "      <td>7</td>\n",
       "      <td>3.666667</td>\n",
       "      <td>2</td>\n",
       "      <td>192</td>\n",
       "      <td>14</td>\n",
       "      <td>1</td>\n",
       "    </tr>\n",
       "    <tr>\n",
       "      <th>3</th>\n",
       "      <td>2020-11-22 10:52:55.566957</td>\n",
       "      <td>24</td>\n",
       "      <td>7</td>\n",
       "      <td>0</td>\n",
       "      <td>10</td>\n",
       "      <td>8</td>\n",
       "      <td>2.054029</td>\n",
       "      <td>6</td>\n",
       "      <td>6</td>\n",
       "      <td>7</td>\n",
       "      <td>3.166667</td>\n",
       "      <td>4</td>\n",
       "      <td>224</td>\n",
       "      <td>11</td>\n",
       "      <td>1</td>\n",
       "    </tr>\n",
       "    <tr>\n",
       "      <th>4</th>\n",
       "      <td>2020-11-22 10:52:55.927177</td>\n",
       "      <td>32</td>\n",
       "      <td>0</td>\n",
       "      <td>32</td>\n",
       "      <td>0</td>\n",
       "      <td>0</td>\n",
       "      <td>2.735132</td>\n",
       "      <td>0</td>\n",
       "      <td>1</td>\n",
       "      <td>32</td>\n",
       "      <td>32.000000</td>\n",
       "      <td>N</td>\n",
       "      <td>FHEPFCELEHFCEPFFFACACACACACACABN</td>\n",
       "      <td>33</td>\n",
       "      <td>0</td>\n",
       "    </tr>\n",
       "  </tbody>\n",
       "</table>\n",
       "</div>"
      ],
      "text/plain": [
       "                    timestamp  FQDN_count  subdomain_length  upper  lower  \\\n",
       "0  2020-11-22 10:52:54.331014          27                10      0     10   \n",
       "1  2020-11-22 10:52:54.743949          27                10      0     10   \n",
       "2  2020-11-22 10:52:55.154578          27                10      0     10   \n",
       "3  2020-11-22 10:52:55.566957          24                 7      0     10   \n",
       "4  2020-11-22 10:52:55.927177          32                 0     32      0   \n",
       "\n",
       "   numeric   entropy  special  labels  labels_max  labels_average  \\\n",
       "0       11  2.570417        6       6           7        3.666667   \n",
       "1       11  2.481480        6       6           7        3.666667   \n",
       "2       11  2.481480        6       6           7        3.666667   \n",
       "3        8  2.054029        6       6           7        3.166667   \n",
       "4        0  2.735132        0       1          32       32.000000   \n",
       "\n",
       "  longest_word                               sld  len  subdomain  \n",
       "0            2                               192   14          1  \n",
       "1            2                               192   14          1  \n",
       "2            2                               192   14          1  \n",
       "3            4                               224   11          1  \n",
       "4            N  FHEPFCELEHFCEPFFFACACACACACACABN   33          0  "
      ]
     },
     "execution_count": 63,
     "metadata": {},
     "output_type": "execute_result"
    }
   ],
   "source": [
    "stateless_heavy_benign.head()"
   ]
  },
  {
   "cell_type": "code",
   "execution_count": 64,
   "id": "ef7598f9",
   "metadata": {
    "execution": {
     "iopub.execute_input": "2023-01-30T17:17:30.726469Z",
     "iopub.status.busy": "2023-01-30T17:17:30.725772Z",
     "iopub.status.idle": "2023-01-30T17:17:30.795623Z",
     "shell.execute_reply": "2023-01-30T17:17:30.794643Z"
    },
    "papermill": {
     "duration": 0.10177,
     "end_time": "2023-01-30T17:17:30.798489",
     "exception": false,
     "start_time": "2023-01-30T17:17:30.696719",
     "status": "completed"
    },
    "tags": []
   },
   "outputs": [
    {
     "name": "stdout",
     "output_type": "stream",
     "text": [
      "<class 'pandas.core.frame.DataFrame'>\n",
      "Int64Index: 402767 entries, 0 to 88573\n",
      "Data columns (total 15 columns):\n",
      " #   Column            Non-Null Count   Dtype  \n",
      "---  ------            --------------   -----  \n",
      " 0   timestamp         402767 non-null  object \n",
      " 1   FQDN_count        402767 non-null  int64  \n",
      " 2   subdomain_length  402767 non-null  int64  \n",
      " 3   upper             402767 non-null  int64  \n",
      " 4   lower             402767 non-null  int64  \n",
      " 5   numeric           402767 non-null  int64  \n",
      " 6   entropy           402767 non-null  float64\n",
      " 7   special           402767 non-null  int64  \n",
      " 8   labels            402767 non-null  int64  \n",
      " 9   labels_max        402767 non-null  int64  \n",
      " 10  labels_average    402767 non-null  float64\n",
      " 11  longest_word      402740 non-null  object \n",
      " 12  sld               402767 non-null  object \n",
      " 13  len               402767 non-null  int64  \n",
      " 14  subdomain         402767 non-null  int64  \n",
      "dtypes: float64(2), int64(10), object(3)\n",
      "memory usage: 49.2+ MB\n"
     ]
    }
   ],
   "source": [
    "stateless_heavy_benign.info()"
   ]
  },
  {
   "cell_type": "code",
   "execution_count": 65,
   "id": "45154a79",
   "metadata": {
    "execution": {
     "iopub.execute_input": "2023-01-30T17:17:30.855851Z",
     "iopub.status.busy": "2023-01-30T17:17:30.855476Z",
     "iopub.status.idle": "2023-01-30T17:17:30.976317Z",
     "shell.execute_reply": "2023-01-30T17:17:30.975301Z"
    },
    "papermill": {
     "duration": 0.152451,
     "end_time": "2023-01-30T17:17:30.978935",
     "exception": false,
     "start_time": "2023-01-30T17:17:30.826484",
     "status": "completed"
    },
    "tags": []
   },
   "outputs": [],
   "source": [
    "numeric_columns = stateless_heavy_benign.select_dtypes(exclude=[object]).columns\n",
    "object_columns =  stateless_heavy_benign.select_dtypes(include=[object]).columns"
   ]
  },
  {
   "cell_type": "code",
   "execution_count": 66,
   "id": "34ff480e",
   "metadata": {
    "execution": {
     "iopub.execute_input": "2023-01-30T17:17:31.035723Z",
     "iopub.status.busy": "2023-01-30T17:17:31.035374Z",
     "iopub.status.idle": "2023-01-30T17:17:31.063937Z",
     "shell.execute_reply": "2023-01-30T17:17:31.062846Z"
    },
    "papermill": {
     "duration": 0.059894,
     "end_time": "2023-01-30T17:17:31.066312",
     "exception": false,
     "start_time": "2023-01-30T17:17:31.006418",
     "status": "completed"
    },
    "tags": []
   },
   "outputs": [
    {
     "name": "stdout",
     "output_type": "stream",
     "text": [
      "<class 'pandas.core.frame.DataFrame'>\n",
      "Int64Index: 402767 entries, 0 to 88573\n",
      "Data columns (total 12 columns):\n",
      " #   Column            Non-Null Count   Dtype  \n",
      "---  ------            --------------   -----  \n",
      " 0   FQDN_count        402767 non-null  int64  \n",
      " 1   subdomain_length  402767 non-null  int64  \n",
      " 2   upper             402767 non-null  int64  \n",
      " 3   lower             402767 non-null  int64  \n",
      " 4   numeric           402767 non-null  int64  \n",
      " 5   entropy           402767 non-null  float64\n",
      " 6   special           402767 non-null  int64  \n",
      " 7   labels            402767 non-null  int64  \n",
      " 8   labels_max        402767 non-null  int64  \n",
      " 9   labels_average    402767 non-null  float64\n",
      " 10  len               402767 non-null  int64  \n",
      " 11  subdomain         402767 non-null  int64  \n",
      "dtypes: float64(2), int64(10)\n",
      "memory usage: 39.9 MB\n"
     ]
    }
   ],
   "source": [
    "stateless_heavy_benign[numeric_columns].info()"
   ]
  },
  {
   "cell_type": "code",
   "execution_count": 67,
   "id": "5f44b62e",
   "metadata": {
    "execution": {
     "iopub.execute_input": "2023-01-30T17:17:31.122675Z",
     "iopub.status.busy": "2023-01-30T17:17:31.122321Z",
     "iopub.status.idle": "2023-01-30T17:17:31.204078Z",
     "shell.execute_reply": "2023-01-30T17:17:31.202810Z"
    },
    "papermill": {
     "duration": 0.11264,
     "end_time": "2023-01-30T17:17:31.206461",
     "exception": false,
     "start_time": "2023-01-30T17:17:31.093821",
     "status": "completed"
    },
    "tags": []
   },
   "outputs": [
    {
     "name": "stdout",
     "output_type": "stream",
     "text": [
      "<class 'pandas.core.frame.DataFrame'>\n",
      "Int64Index: 402767 entries, 0 to 88573\n",
      "Data columns (total 3 columns):\n",
      " #   Column        Non-Null Count   Dtype \n",
      "---  ------        --------------   ----- \n",
      " 0   timestamp     402767 non-null  object\n",
      " 1   longest_word  402740 non-null  object\n",
      " 2   sld           402767 non-null  object\n",
      "dtypes: object(3)\n",
      "memory usage: 12.3+ MB\n"
     ]
    }
   ],
   "source": [
    "stateless_heavy_benign[object_columns].info()"
   ]
  },
  {
   "cell_type": "code",
   "execution_count": 68,
   "id": "049c672d",
   "metadata": {
    "execution": {
     "iopub.execute_input": "2023-01-30T17:17:31.263743Z",
     "iopub.status.busy": "2023-01-30T17:17:31.263372Z",
     "iopub.status.idle": "2023-01-30T17:17:31.323214Z",
     "shell.execute_reply": "2023-01-30T17:17:31.322150Z"
    },
    "papermill": {
     "duration": 0.091312,
     "end_time": "2023-01-30T17:17:31.325631",
     "exception": false,
     "start_time": "2023-01-30T17:17:31.234319",
     "status": "completed"
    },
    "tags": []
   },
   "outputs": [
    {
     "data": {
      "text/plain": [
       "FQDN_count          46.031196\n",
       "subdomain_length    16.303479\n",
       "upper               13.681285\n",
       "lower               14.181049\n",
       "numeric             21.466613\n",
       "entropy              0.219152\n",
       "special              5.172049\n",
       "labels               3.375105\n",
       "labels_max          17.156227\n",
       "labels_average      13.203356\n",
       "len                 18.099550\n",
       "subdomain            0.248221\n",
       "dtype: float64"
      ]
     },
     "execution_count": 68,
     "metadata": {},
     "output_type": "execute_result"
    }
   ],
   "source": [
    "stateless_heavy_benign[numeric_columns].var()"
   ]
  },
  {
   "cell_type": "code",
   "execution_count": 69,
   "id": "42584af6",
   "metadata": {
    "execution": {
     "iopub.execute_input": "2023-01-30T17:17:31.384539Z",
     "iopub.status.busy": "2023-01-30T17:17:31.384157Z",
     "iopub.status.idle": "2023-01-30T17:17:31.571689Z",
     "shell.execute_reply": "2023-01-30T17:17:31.570040Z"
    },
    "papermill": {
     "duration": 0.220219,
     "end_time": "2023-01-30T17:17:31.574300",
     "exception": false,
     "start_time": "2023-01-30T17:17:31.354081",
     "status": "completed"
    },
    "tags": []
   },
   "outputs": [
    {
     "name": "stdout",
     "output_type": "stream",
     "text": [
      "timestamp : \n",
      " ['2020-11-22 10:52:54.331014' '2020-11-22 10:52:54.743949'\n",
      " '2020-11-22 10:52:55.154578' ... '2020-11-21 04:57:36.949071'\n",
      " '2020-11-21 04:57:37.359119' '2020-11-21 04:57:38.977982'] \n",
      "\n",
      "\n",
      "\n",
      "longest_word : \n",
      " ['2' '4' 'N' ... 'ceremony' 'bravi' 'dresden'] \n",
      "\n",
      "\n",
      "\n",
      "sld : \n",
      " ['192' '224' 'FHEPFCELEHFCEPFFFACACACACACACABN' ... 'pnftqrdk'\n",
      " 'dypbeabfcrkhj' 'gvt1'] \n",
      "\n",
      "\n",
      "\n"
     ]
    }
   ],
   "source": [
    "for obj_col in object_columns:\n",
    "    print(obj_col, ':', '\\n', stateless_heavy_benign[obj_col].unique(), '\\n\\n\\n')"
   ]
  },
  {
   "cell_type": "markdown",
   "id": "5871cc70",
   "metadata": {
    "papermill": {
     "duration": 0.028996,
     "end_time": "2023-01-30T17:17:31.637100",
     "exception": false,
     "start_time": "2023-01-30T17:17:31.608104",
     "status": "completed"
    },
    "tags": []
   },
   "source": [
    "## Stateless Light Attack"
   ]
  },
  {
   "cell_type": "code",
   "execution_count": 70,
   "id": "3aa4df0c",
   "metadata": {
    "execution": {
     "iopub.execute_input": "2023-01-30T17:17:31.696489Z",
     "iopub.status.busy": "2023-01-30T17:17:31.696116Z",
     "iopub.status.idle": "2023-01-30T17:17:31.915304Z",
     "shell.execute_reply": "2023-01-30T17:17:31.914063Z"
    },
    "papermill": {
     "duration": 0.251728,
     "end_time": "2023-01-30T17:17:31.917658",
     "exception": false,
     "start_time": "2023-01-30T17:17:31.665930",
     "status": "completed"
    },
    "tags": []
   },
   "outputs": [
    {
     "name": "stdout",
     "output_type": "stream",
     "text": [
      "Total Stateless Light Attack: 42683\n"
     ]
    }
   ],
   "source": [
    "# ----------------------\n",
    "# stateless_light_attack\n",
    "# ----------------------\n",
    "\n",
    "PATH = '/kaggle/input/cicbelldnsexf2021/Attack_Light_Benign/Attacks/'\n",
    "\n",
    "stateless_light_attack_audio = pd.read_csv(PATH+'stateless_features-light_audio.pcap.csv')\n",
    "stateless_light_attack_compressed = pd.read_csv(PATH+'stateless_features-light_compressed.pcap.csv')\n",
    "stateless_light_attack_exe = pd.read_csv(PATH+'stateless_features-light_exe.pcap.csv')\n",
    "stateless_light_attack_image = pd.read_csv(PATH+'stateless_features-light_image.pcap.csv')\n",
    "stateless_light_attack_text = pd.read_csv(PATH+'stateless_features-light_text.pcap.csv')\n",
    "stateless_light_attack_video = pd.read_csv(PATH+'stateless_features-light_video.pcap.csv')\n",
    "\n",
    "number_of_records = len(stateless_light_attack_audio)+len(stateless_light_attack_compressed)+\\\n",
    "                         len(stateless_light_attack_exe)+len(stateless_light_attack_image)+\\\n",
    "                         len(stateless_light_attack_text)+len(stateless_light_attack_video)\n",
    "\n",
    "# verifying number of stateless light attack records\n",
    "# https://www.unb.ca/cic/datasets/dns-exf-2021.html\n",
    "print('Total Stateless Light Attack:', number_of_records)"
   ]
  },
  {
   "cell_type": "code",
   "execution_count": 71,
   "id": "ce592e75",
   "metadata": {
    "execution": {
     "iopub.execute_input": "2023-01-30T17:17:31.980128Z",
     "iopub.status.busy": "2023-01-30T17:17:31.979681Z",
     "iopub.status.idle": "2023-01-30T17:17:31.988382Z",
     "shell.execute_reply": "2023-01-30T17:17:31.987534Z"
    },
    "papermill": {
     "duration": 0.04188,
     "end_time": "2023-01-30T17:17:31.990738",
     "exception": false,
     "start_time": "2023-01-30T17:17:31.948858",
     "status": "completed"
    },
    "tags": []
   },
   "outputs": [
    {
     "name": "stdout",
     "output_type": "stream",
     "text": [
      " True\n",
      " True\n",
      " True\n",
      " True\n",
      " True\n"
     ]
    }
   ],
   "source": [
    "# ---------------------\n",
    "# stateless_light_attack\n",
    "# ---------------------\n",
    "\n",
    "dfs = [stateless_light_attack_audio, stateless_light_attack_compressed, \n",
    "      stateless_light_attack_exe, stateless_light_attack_image, \n",
    "      stateless_light_attack_text, stateless_light_attack_video]\n",
    "\n",
    "columns = stateless_light_attack_audio.columns\n",
    "\n",
    "# checking if all dataframes, of stateful light attack type, have same column names\n",
    "columns_stateless_light_attack_audio = stateless_light_attack_audio.columns\n",
    "columns_stateless_light_attack_compressed = stateless_light_attack_compressed.columns\n",
    "columns_stateless_light_attack_exe = stateless_light_attack_exe.columns\n",
    "columns_stateless_light_attack_image = stateless_light_attack_image.columns\n",
    "columns_stateless_light_attack_text = stateless_light_attack_text.columns\n",
    "columns_stateless_light_attack_video = stateless_light_attack_video.columns\n",
    "\n",
    "dfs_columns = [ columns_stateless_light_attack_compressed,\n",
    "            columns_stateless_light_attack_exe,\n",
    "            columns_stateless_light_attack_image,\n",
    "            columns_stateless_light_attack_text,\n",
    "            columns_stateless_light_attack_video ]\n",
    "\n",
    "for cols in dfs_columns:\n",
    "    print('', columns_stateless_light_attack_audio.isin(cols).all())"
   ]
  },
  {
   "cell_type": "code",
   "execution_count": 72,
   "id": "2bf650b6",
   "metadata": {
    "execution": {
     "iopub.execute_input": "2023-01-30T17:17:32.051101Z",
     "iopub.status.busy": "2023-01-30T17:17:32.050496Z",
     "iopub.status.idle": "2023-01-30T17:17:32.066811Z",
     "shell.execute_reply": "2023-01-30T17:17:32.065774Z"
    },
    "papermill": {
     "duration": 0.048402,
     "end_time": "2023-01-30T17:17:32.069044",
     "exception": false,
     "start_time": "2023-01-30T17:17:32.020642",
     "status": "completed"
    },
    "tags": []
   },
   "outputs": [
    {
     "data": {
      "text/plain": [
       "42683"
      ]
     },
     "execution_count": 72,
     "metadata": {},
     "output_type": "execute_result"
    }
   ],
   "source": [
    "# ----------------------\n",
    "# stateless_light_attack\n",
    "# ----------------------\n",
    "\n",
    "# merging dataframes \n",
    "\n",
    "stateless_light_attack = pd.concat([stateless_light_attack_audio, \n",
    "                                   stateless_light_attack_compressed,\n",
    "                                   stateless_light_attack_exe,\n",
    "                                   stateless_light_attack_image,\n",
    "                                   stateless_light_attack_text,\n",
    "                                   stateless_light_attack_video])\n",
    "\n",
    "# verifying number of stateless light attack records after concatenation\n",
    "# https://www.unb.ca/cic/datasets/dns-exf-2021.html\n",
    "len(stateless_light_attack)"
   ]
  },
  {
   "cell_type": "code",
   "execution_count": 73,
   "id": "203a5a5e",
   "metadata": {
    "execution": {
     "iopub.execute_input": "2023-01-30T17:17:32.131159Z",
     "iopub.status.busy": "2023-01-30T17:17:32.130551Z",
     "iopub.status.idle": "2023-01-30T17:17:32.153446Z",
     "shell.execute_reply": "2023-01-30T17:17:32.152066Z"
    },
    "papermill": {
     "duration": 0.057079,
     "end_time": "2023-01-30T17:17:32.155872",
     "exception": false,
     "start_time": "2023-01-30T17:17:32.098793",
     "status": "completed"
    },
    "tags": []
   },
   "outputs": [
    {
     "name": "stdout",
     "output_type": "stream",
     "text": [
      "timestamp :  [ True]\n",
      "FQDN_count :  [ True]\n",
      "subdomain_length :  [ True]\n",
      "upper :  [ True]\n",
      "lower :  [ True]\n",
      "numeric :  [ True]\n",
      "entropy :  [ True]\n",
      "special :  [ True]\n",
      "labels :  [ True]\n",
      "labels_max :  [ True]\n",
      "labels_average :  [ True]\n",
      "longest_word :  [ True]\n",
      "sld :  [ True]\n",
      "len :  [ True]\n",
      "subdomain :  [ True]\n"
     ]
    }
   ],
   "source": [
    "for column in columns:\n",
    "    print(column, ': ', stateless_light_attack[column].notnull().unique())"
   ]
  },
  {
   "cell_type": "code",
   "execution_count": 74,
   "id": "a5ad30ed",
   "metadata": {
    "execution": {
     "iopub.execute_input": "2023-01-30T17:17:32.219628Z",
     "iopub.status.busy": "2023-01-30T17:17:32.218609Z",
     "iopub.status.idle": "2023-01-30T17:17:32.238558Z",
     "shell.execute_reply": "2023-01-30T17:17:32.237449Z"
    },
    "papermill": {
     "duration": 0.053932,
     "end_time": "2023-01-30T17:17:32.240862",
     "exception": false,
     "start_time": "2023-01-30T17:17:32.186930",
     "status": "completed"
    },
    "tags": []
   },
   "outputs": [
    {
     "data": {
      "text/html": [
       "<div>\n",
       "<style scoped>\n",
       "    .dataframe tbody tr th:only-of-type {\n",
       "        vertical-align: middle;\n",
       "    }\n",
       "\n",
       "    .dataframe tbody tr th {\n",
       "        vertical-align: top;\n",
       "    }\n",
       "\n",
       "    .dataframe thead th {\n",
       "        text-align: right;\n",
       "    }\n",
       "</style>\n",
       "<table border=\"1\" class=\"dataframe\">\n",
       "  <thead>\n",
       "    <tr style=\"text-align: right;\">\n",
       "      <th></th>\n",
       "      <th>timestamp</th>\n",
       "      <th>FQDN_count</th>\n",
       "      <th>subdomain_length</th>\n",
       "      <th>upper</th>\n",
       "      <th>lower</th>\n",
       "      <th>numeric</th>\n",
       "      <th>entropy</th>\n",
       "      <th>special</th>\n",
       "      <th>labels</th>\n",
       "      <th>labels_max</th>\n",
       "      <th>labels_average</th>\n",
       "      <th>longest_word</th>\n",
       "      <th>sld</th>\n",
       "      <th>len</th>\n",
       "      <th>subdomain</th>\n",
       "    </tr>\n",
       "  </thead>\n",
       "  <tbody>\n",
       "    <tr>\n",
       "      <th>0</th>\n",
       "      <td>2020-11-21 19:13:27.034607</td>\n",
       "      <td>27</td>\n",
       "      <td>10</td>\n",
       "      <td>0</td>\n",
       "      <td>10</td>\n",
       "      <td>11</td>\n",
       "      <td>2.570417</td>\n",
       "      <td>6</td>\n",
       "      <td>6</td>\n",
       "      <td>7</td>\n",
       "      <td>3.666667</td>\n",
       "      <td>2</td>\n",
       "      <td>192</td>\n",
       "      <td>14</td>\n",
       "      <td>1</td>\n",
       "    </tr>\n",
       "    <tr>\n",
       "      <th>1</th>\n",
       "      <td>2020-11-21 19:13:27.444721</td>\n",
       "      <td>27</td>\n",
       "      <td>10</td>\n",
       "      <td>0</td>\n",
       "      <td>10</td>\n",
       "      <td>11</td>\n",
       "      <td>2.570417</td>\n",
       "      <td>6</td>\n",
       "      <td>6</td>\n",
       "      <td>7</td>\n",
       "      <td>3.666667</td>\n",
       "      <td>2</td>\n",
       "      <td>192</td>\n",
       "      <td>14</td>\n",
       "      <td>1</td>\n",
       "    </tr>\n",
       "    <tr>\n",
       "      <th>2</th>\n",
       "      <td>2020-11-21 19:13:27.857202</td>\n",
       "      <td>24</td>\n",
       "      <td>7</td>\n",
       "      <td>0</td>\n",
       "      <td>10</td>\n",
       "      <td>8</td>\n",
       "      <td>2.054029</td>\n",
       "      <td>6</td>\n",
       "      <td>6</td>\n",
       "      <td>7</td>\n",
       "      <td>3.166667</td>\n",
       "      <td>4</td>\n",
       "      <td>224</td>\n",
       "      <td>11</td>\n",
       "      <td>1</td>\n",
       "    </tr>\n",
       "    <tr>\n",
       "      <th>3</th>\n",
       "      <td>2020-11-21 19:13:28.267312</td>\n",
       "      <td>24</td>\n",
       "      <td>7</td>\n",
       "      <td>0</td>\n",
       "      <td>10</td>\n",
       "      <td>8</td>\n",
       "      <td>2.054029</td>\n",
       "      <td>6</td>\n",
       "      <td>6</td>\n",
       "      <td>7</td>\n",
       "      <td>3.166667</td>\n",
       "      <td>4</td>\n",
       "      <td>224</td>\n",
       "      <td>11</td>\n",
       "      <td>1</td>\n",
       "    </tr>\n",
       "    <tr>\n",
       "      <th>4</th>\n",
       "      <td>2020-11-21 19:13:29.503346</td>\n",
       "      <td>25</td>\n",
       "      <td>8</td>\n",
       "      <td>0</td>\n",
       "      <td>10</td>\n",
       "      <td>9</td>\n",
       "      <td>2.556642</td>\n",
       "      <td>6</td>\n",
       "      <td>6</td>\n",
       "      <td>7</td>\n",
       "      <td>3.333333</td>\n",
       "      <td>2</td>\n",
       "      <td>192</td>\n",
       "      <td>12</td>\n",
       "      <td>1</td>\n",
       "    </tr>\n",
       "  </tbody>\n",
       "</table>\n",
       "</div>"
      ],
      "text/plain": [
       "                    timestamp  FQDN_count  subdomain_length  upper  lower  \\\n",
       "0  2020-11-21 19:13:27.034607          27                10      0     10   \n",
       "1  2020-11-21 19:13:27.444721          27                10      0     10   \n",
       "2  2020-11-21 19:13:27.857202          24                 7      0     10   \n",
       "3  2020-11-21 19:13:28.267312          24                 7      0     10   \n",
       "4  2020-11-21 19:13:29.503346          25                 8      0     10   \n",
       "\n",
       "   numeric   entropy  special  labels  labels_max  labels_average  \\\n",
       "0       11  2.570417        6       6           7        3.666667   \n",
       "1       11  2.570417        6       6           7        3.666667   \n",
       "2        8  2.054029        6       6           7        3.166667   \n",
       "3        8  2.054029        6       6           7        3.166667   \n",
       "4        9  2.556642        6       6           7        3.333333   \n",
       "\n",
       "  longest_word  sld  len  subdomain  \n",
       "0            2  192   14          1  \n",
       "1            2  192   14          1  \n",
       "2            4  224   11          1  \n",
       "3            4  224   11          1  \n",
       "4            2  192   12          1  "
      ]
     },
     "execution_count": 74,
     "metadata": {},
     "output_type": "execute_result"
    }
   ],
   "source": [
    "stateless_light_attack.head()"
   ]
  },
  {
   "cell_type": "code",
   "execution_count": 75,
   "id": "57b05673",
   "metadata": {
    "execution": {
     "iopub.execute_input": "2023-01-30T17:17:32.301316Z",
     "iopub.status.busy": "2023-01-30T17:17:32.300133Z",
     "iopub.status.idle": "2023-01-30T17:17:32.321466Z",
     "shell.execute_reply": "2023-01-30T17:17:32.319553Z"
    },
    "papermill": {
     "duration": 0.053697,
     "end_time": "2023-01-30T17:17:32.323742",
     "exception": false,
     "start_time": "2023-01-30T17:17:32.270045",
     "status": "completed"
    },
    "tags": []
   },
   "outputs": [
    {
     "name": "stdout",
     "output_type": "stream",
     "text": [
      "<class 'pandas.core.frame.DataFrame'>\n",
      "Int64Index: 42683 entries, 0 to 4370\n",
      "Data columns (total 15 columns):\n",
      " #   Column            Non-Null Count  Dtype  \n",
      "---  ------            --------------  -----  \n",
      " 0   timestamp         42683 non-null  object \n",
      " 1   FQDN_count        42683 non-null  int64  \n",
      " 2   subdomain_length  42683 non-null  int64  \n",
      " 3   upper             42683 non-null  int64  \n",
      " 4   lower             42683 non-null  int64  \n",
      " 5   numeric           42683 non-null  int64  \n",
      " 6   entropy           42683 non-null  float64\n",
      " 7   special           42683 non-null  int64  \n",
      " 8   labels            42683 non-null  int64  \n",
      " 9   labels_max        42683 non-null  int64  \n",
      " 10  labels_average    42683 non-null  float64\n",
      " 11  longest_word      42683 non-null  object \n",
      " 12  sld               42683 non-null  object \n",
      " 13  len               42683 non-null  int64  \n",
      " 14  subdomain         42683 non-null  int64  \n",
      "dtypes: float64(2), int64(10), object(3)\n",
      "memory usage: 5.2+ MB\n"
     ]
    }
   ],
   "source": [
    "stateless_light_attack.info()"
   ]
  },
  {
   "cell_type": "code",
   "execution_count": 76,
   "id": "7b6e2bb1",
   "metadata": {
    "execution": {
     "iopub.execute_input": "2023-01-30T17:17:32.384175Z",
     "iopub.status.busy": "2023-01-30T17:17:32.383697Z",
     "iopub.status.idle": "2023-01-30T17:17:32.398869Z",
     "shell.execute_reply": "2023-01-30T17:17:32.397593Z"
    },
    "papermill": {
     "duration": 0.048738,
     "end_time": "2023-01-30T17:17:32.401570",
     "exception": false,
     "start_time": "2023-01-30T17:17:32.352832",
     "status": "completed"
    },
    "tags": []
   },
   "outputs": [],
   "source": [
    "numeric_columns = stateless_light_attack.select_dtypes(exclude=[object]).columns\n",
    "object_columns =  stateless_light_attack.select_dtypes(include=[object]).columns"
   ]
  },
  {
   "cell_type": "code",
   "execution_count": 77,
   "id": "d93a6a0f",
   "metadata": {
    "execution": {
     "iopub.execute_input": "2023-01-30T17:17:32.460711Z",
     "iopub.status.busy": "2023-01-30T17:17:32.460259Z",
     "iopub.status.idle": "2023-01-30T17:17:32.476984Z",
     "shell.execute_reply": "2023-01-30T17:17:32.475603Z"
    },
    "papermill": {
     "duration": 0.048838,
     "end_time": "2023-01-30T17:17:32.479247",
     "exception": false,
     "start_time": "2023-01-30T17:17:32.430409",
     "status": "completed"
    },
    "tags": []
   },
   "outputs": [
    {
     "name": "stdout",
     "output_type": "stream",
     "text": [
      "<class 'pandas.core.frame.DataFrame'>\n",
      "Int64Index: 42683 entries, 0 to 4370\n",
      "Data columns (total 12 columns):\n",
      " #   Column            Non-Null Count  Dtype  \n",
      "---  ------            --------------  -----  \n",
      " 0   FQDN_count        42683 non-null  int64  \n",
      " 1   subdomain_length  42683 non-null  int64  \n",
      " 2   upper             42683 non-null  int64  \n",
      " 3   lower             42683 non-null  int64  \n",
      " 4   numeric           42683 non-null  int64  \n",
      " 5   entropy           42683 non-null  float64\n",
      " 6   special           42683 non-null  int64  \n",
      " 7   labels            42683 non-null  int64  \n",
      " 8   labels_max        42683 non-null  int64  \n",
      " 9   labels_average    42683 non-null  float64\n",
      " 10  len               42683 non-null  int64  \n",
      " 11  subdomain         42683 non-null  int64  \n",
      "dtypes: float64(2), int64(10)\n",
      "memory usage: 4.2 MB\n"
     ]
    }
   ],
   "source": [
    "stateless_light_attack[numeric_columns].info()"
   ]
  },
  {
   "cell_type": "code",
   "execution_count": 78,
   "id": "1e150dbd",
   "metadata": {
    "execution": {
     "iopub.execute_input": "2023-01-30T17:17:32.545836Z",
     "iopub.status.busy": "2023-01-30T17:17:32.544784Z",
     "iopub.status.idle": "2023-01-30T17:17:32.565308Z",
     "shell.execute_reply": "2023-01-30T17:17:32.563853Z"
    },
    "papermill": {
     "duration": 0.054851,
     "end_time": "2023-01-30T17:17:32.567502",
     "exception": false,
     "start_time": "2023-01-30T17:17:32.512651",
     "status": "completed"
    },
    "tags": []
   },
   "outputs": [
    {
     "name": "stdout",
     "output_type": "stream",
     "text": [
      "<class 'pandas.core.frame.DataFrame'>\n",
      "Int64Index: 42683 entries, 0 to 4370\n",
      "Data columns (total 3 columns):\n",
      " #   Column        Non-Null Count  Dtype \n",
      "---  ------        --------------  ----- \n",
      " 0   timestamp     42683 non-null  object\n",
      " 1   longest_word  42683 non-null  object\n",
      " 2   sld           42683 non-null  object\n",
      "dtypes: object(3)\n",
      "memory usage: 1.3+ MB\n"
     ]
    }
   ],
   "source": [
    "stateless_light_attack[object_columns].info()"
   ]
  },
  {
   "cell_type": "code",
   "execution_count": 79,
   "id": "9b73d081",
   "metadata": {
    "execution": {
     "iopub.execute_input": "2023-01-30T17:17:32.630398Z",
     "iopub.status.busy": "2023-01-30T17:17:32.629968Z",
     "iopub.status.idle": "2023-01-30T17:17:32.643948Z",
     "shell.execute_reply": "2023-01-30T17:17:32.642883Z"
    },
    "papermill": {
     "duration": 0.047523,
     "end_time": "2023-01-30T17:17:32.646317",
     "exception": false,
     "start_time": "2023-01-30T17:17:32.598794",
     "status": "completed"
    },
    "tags": []
   },
   "outputs": [
    {
     "data": {
      "text/plain": [
       "FQDN_count           8.299787\n",
       "subdomain_length     5.268947\n",
       "upper               33.389115\n",
       "lower                5.005458\n",
       "numeric              6.215458\n",
       "entropy              0.120786\n",
       "special              1.612241\n",
       "labels               1.238987\n",
       "labels_max          20.547299\n",
       "labels_average      27.060016\n",
       "len                 16.042261\n",
       "subdomain            0.046780\n",
       "dtype: float64"
      ]
     },
     "execution_count": 79,
     "metadata": {},
     "output_type": "execute_result"
    }
   ],
   "source": [
    "stateless_light_attack[numeric_columns].var()"
   ]
  },
  {
   "cell_type": "code",
   "execution_count": 80,
   "id": "432144c8",
   "metadata": {
    "execution": {
     "iopub.execute_input": "2023-01-30T17:17:32.707249Z",
     "iopub.status.busy": "2023-01-30T17:17:32.706419Z",
     "iopub.status.idle": "2023-01-30T17:17:32.727500Z",
     "shell.execute_reply": "2023-01-30T17:17:32.726084Z"
    },
    "papermill": {
     "duration": 0.053954,
     "end_time": "2023-01-30T17:17:32.729583",
     "exception": false,
     "start_time": "2023-01-30T17:17:32.675629",
     "status": "completed"
    },
    "tags": []
   },
   "outputs": [
    {
     "name": "stdout",
     "output_type": "stream",
     "text": [
      "timestamp : \n",
      " ['2020-11-21 19:13:27.034607' '2020-11-21 19:13:27.444721'\n",
      " '2020-11-21 19:13:27.857202' ... '2020-11-22 03:38:33.091830'\n",
      " '2020-11-22 03:38:33.575700' '2020-11-22 03:38:33.985499'] \n",
      "\n",
      "\n",
      "\n",
      "longest_word : \n",
      " ['2' '4' 'C' 'local' 'N' '9' 'L' 'microsoft' 'A' 'ad' 'live' 'bing' 'cert'\n",
      " 'tap' 'windows' 'M' 'tnc' 'google' 'office' 'cres' 'shark'] \n",
      "\n",
      "\n",
      "\n",
      "sld : \n",
      " ['192' '224' 'DESKTOP-3JF04TC' 'local' 'FHEPFCELEHFCEPFFFACACACACACACABN'\n",
      " '239' 'FHEPFCELEHFCEPFFFACACACACACACABL' '172' 'DC' 'microsoft'\n",
      " 'FHFAEBEECACACACACACACACACACACAAA' 'wpad' 'live' 'bing' 'digicert'\n",
      " 'EJFDEBFEEBFACACACACACACACACACAAA' 'isatap' 'windowsupdate'\n",
      " 'EEEFFDELFEEPFACNDEDBDDFCFBEIEBBM' 'msftncsi' 'googleapis' 'office'\n",
      " 'cicresearch' 'wireshark'] \n",
      "\n",
      "\n",
      "\n"
     ]
    }
   ],
   "source": [
    "for obj_col in object_columns:\n",
    "    print(obj_col, ':', '\\n', stateless_light_attack[obj_col].unique(), '\\n\\n\\n')"
   ]
  },
  {
   "cell_type": "markdown",
   "id": "63bc73ba",
   "metadata": {
    "papermill": {
     "duration": 0.029871,
     "end_time": "2023-01-30T17:17:32.790306",
     "exception": false,
     "start_time": "2023-01-30T17:17:32.760435",
     "status": "completed"
    },
    "tags": []
   },
   "source": [
    "## Stateless Light Benign"
   ]
  },
  {
   "cell_type": "code",
   "execution_count": 81,
   "id": "feb8a7b5",
   "metadata": {
    "execution": {
     "iopub.execute_input": "2023-01-30T17:17:32.853179Z",
     "iopub.status.busy": "2023-01-30T17:17:32.852113Z",
     "iopub.status.idle": "2023-01-30T17:17:33.534255Z",
     "shell.execute_reply": "2023-01-30T17:17:33.532976Z"
    },
    "papermill": {
     "duration": 0.716809,
     "end_time": "2023-01-30T17:17:33.537898",
     "exception": false,
     "start_time": "2023-01-30T17:17:32.821089",
     "status": "completed"
    },
    "tags": []
   },
   "outputs": [
    {
     "name": "stdout",
     "output_type": "stream",
     "text": [
      "Total Stateless Light Benign: 281164\n"
     ]
    }
   ],
   "source": [
    "# ----------------------\n",
    "# stateless_light_benign\n",
    "# ----------------------\n",
    "\n",
    "PATH = '/kaggle/input/cicbelldnsexf2021/Attack_Light_Benign/Benign/'\n",
    "stateless_light_benign = pd.read_csv(PATH+'stateless_features-light_benign.pcap.csv')\n",
    "\n",
    "PATH = '/kaggle/input/cicbelldnsexf2021/Benign/'\n",
    "stateless_benign1 = pd.read_csv(PATH+'stateless_features-benign_1.pcap.csv')\n",
    "stateless_benign2 = pd.read_csv(PATH+'stateless_features-benign_2.pcap.csv')\n",
    "\n",
    "number_of_records = len(stateless_light_benign)+len(stateless_benign1)+len(stateless_benign2)\n",
    "\n",
    "# verifying number of stateless light benign records\n",
    "# https://www.unb.ca/cic/datasets/dns-exf-2021.html\n",
    "print('Total Stateless Light Benign:', number_of_records)"
   ]
  },
  {
   "cell_type": "code",
   "execution_count": 82,
   "id": "a9611ac7",
   "metadata": {
    "execution": {
     "iopub.execute_input": "2023-01-30T17:17:33.599664Z",
     "iopub.status.busy": "2023-01-30T17:17:33.598711Z",
     "iopub.status.idle": "2023-01-30T17:17:33.607232Z",
     "shell.execute_reply": "2023-01-30T17:17:33.606211Z"
    },
    "papermill": {
     "duration": 0.041008,
     "end_time": "2023-01-30T17:17:33.609522",
     "exception": false,
     "start_time": "2023-01-30T17:17:33.568514",
     "status": "completed"
    },
    "tags": []
   },
   "outputs": [
    {
     "name": "stdout",
     "output_type": "stream",
     "text": [
      " True\n",
      " True\n"
     ]
    }
   ],
   "source": [
    "# ---------------------\n",
    "# stateless_light_benign\n",
    "# ---------------------\n",
    "\n",
    "dfs = [stateless_light_benign, stateless_benign1, stateless_benign2]\n",
    "\n",
    "columns = stateless_light_benign.columns\n",
    "\n",
    "# checking if all dataframes, of stateless light benign type, have same column names\n",
    "columns_stateless_light_benign = stateless_light_benign.columns\n",
    "columns_stateless_benign1 = stateless_benign1.columns\n",
    "columns_stateless_benign2 = stateless_benign2.columns\n",
    "\n",
    "\n",
    "dfs_columns = [ columns_stateless_benign1,\n",
    "                columns_stateless_benign2\n",
    "              ]\n",
    "\n",
    "for cols in dfs_columns:\n",
    "    print('', columns_stateless_light_benign.isin(cols).all())"
   ]
  },
  {
   "cell_type": "code",
   "execution_count": 83,
   "id": "798cb1e5",
   "metadata": {
    "execution": {
     "iopub.execute_input": "2023-01-30T17:17:33.670492Z",
     "iopub.status.busy": "2023-01-30T17:17:33.669726Z",
     "iopub.status.idle": "2023-01-30T17:17:33.713072Z",
     "shell.execute_reply": "2023-01-30T17:17:33.712269Z"
    },
    "papermill": {
     "duration": 0.076729,
     "end_time": "2023-01-30T17:17:33.715615",
     "exception": false,
     "start_time": "2023-01-30T17:17:33.638886",
     "status": "completed"
    },
    "tags": []
   },
   "outputs": [
    {
     "data": {
      "text/plain": [
       "281164"
      ]
     },
     "execution_count": 83,
     "metadata": {},
     "output_type": "execute_result"
    }
   ],
   "source": [
    "# ----------------------\n",
    "# stateless_light_benign\n",
    "# ----------------------\n",
    "\n",
    "# merging dataframes \n",
    "\n",
    "stateless_light_benign = pd.concat([stateless_light_benign, \n",
    "                                   stateless_benign1, \n",
    "                                   stateless_benign2\n",
    "                                  ])\n",
    "\n",
    "# verifying number of stateless light benign records after concatenation\n",
    "# https://www.unb.ca/cic/datasets/dns-exf-2021.html\n",
    "len(stateless_light_benign)"
   ]
  },
  {
   "cell_type": "code",
   "execution_count": 84,
   "id": "6384244c",
   "metadata": {
    "execution": {
     "iopub.execute_input": "2023-01-30T17:17:33.782276Z",
     "iopub.status.busy": "2023-01-30T17:17:33.781338Z",
     "iopub.status.idle": "2023-01-30T17:17:33.862084Z",
     "shell.execute_reply": "2023-01-30T17:17:33.860604Z"
    },
    "papermill": {
     "duration": 0.115265,
     "end_time": "2023-01-30T17:17:33.865346",
     "exception": false,
     "start_time": "2023-01-30T17:17:33.750081",
     "status": "completed"
    },
    "tags": []
   },
   "outputs": [
    {
     "name": "stdout",
     "output_type": "stream",
     "text": [
      "timestamp :  [ True]\n",
      "FQDN_count :  [ True]\n",
      "subdomain_length :  [ True]\n",
      "upper :  [ True]\n",
      "lower :  [ True]\n",
      "numeric :  [ True]\n",
      "entropy :  [ True]\n",
      "special :  [ True]\n",
      "labels :  [ True]\n",
      "labels_max :  [ True]\n",
      "labels_average :  [ True]\n",
      "longest_word :  [ True False]\n",
      "sld :  [ True]\n",
      "len :  [ True]\n",
      "subdomain :  [ True]\n"
     ]
    }
   ],
   "source": [
    "for column in columns:\n",
    "    print(column, ': ', stateless_light_benign[column].notnull().unique())"
   ]
  },
  {
   "cell_type": "code",
   "execution_count": 85,
   "id": "4f92eabc",
   "metadata": {
    "execution": {
     "iopub.execute_input": "2023-01-30T17:17:33.929142Z",
     "iopub.status.busy": "2023-01-30T17:17:33.928417Z",
     "iopub.status.idle": "2023-01-30T17:17:33.948993Z",
     "shell.execute_reply": "2023-01-30T17:17:33.947912Z"
    },
    "papermill": {
     "duration": 0.053489,
     "end_time": "2023-01-30T17:17:33.951611",
     "exception": false,
     "start_time": "2023-01-30T17:17:33.898122",
     "status": "completed"
    },
    "tags": []
   },
   "outputs": [
    {
     "name": "stdout",
     "output_type": "stream",
     "text": [
      "True     281143\n",
      "False        21\n",
      "Name: longest_word, dtype: int64\n"
     ]
    }
   ],
   "source": [
    "print(stateless_light_benign['longest_word'].notnull().value_counts())"
   ]
  },
  {
   "cell_type": "code",
   "execution_count": 86,
   "id": "9e392920",
   "metadata": {
    "execution": {
     "iopub.execute_input": "2023-01-30T17:17:34.012710Z",
     "iopub.status.busy": "2023-01-30T17:17:34.012333Z",
     "iopub.status.idle": "2023-01-30T17:17:34.028750Z",
     "shell.execute_reply": "2023-01-30T17:17:34.027691Z"
    },
    "papermill": {
     "duration": 0.049041,
     "end_time": "2023-01-30T17:17:34.031120",
     "exception": false,
     "start_time": "2023-01-30T17:17:33.982079",
     "status": "completed"
    },
    "tags": []
   },
   "outputs": [
    {
     "data": {
      "text/html": [
       "<div>\n",
       "<style scoped>\n",
       "    .dataframe tbody tr th:only-of-type {\n",
       "        vertical-align: middle;\n",
       "    }\n",
       "\n",
       "    .dataframe tbody tr th {\n",
       "        vertical-align: top;\n",
       "    }\n",
       "\n",
       "    .dataframe thead th {\n",
       "        text-align: right;\n",
       "    }\n",
       "</style>\n",
       "<table border=\"1\" class=\"dataframe\">\n",
       "  <thead>\n",
       "    <tr style=\"text-align: right;\">\n",
       "      <th></th>\n",
       "      <th>timestamp</th>\n",
       "      <th>FQDN_count</th>\n",
       "      <th>subdomain_length</th>\n",
       "      <th>upper</th>\n",
       "      <th>lower</th>\n",
       "      <th>numeric</th>\n",
       "      <th>entropy</th>\n",
       "      <th>special</th>\n",
       "      <th>labels</th>\n",
       "      <th>labels_max</th>\n",
       "      <th>labels_average</th>\n",
       "      <th>longest_word</th>\n",
       "      <th>sld</th>\n",
       "      <th>len</th>\n",
       "      <th>subdomain</th>\n",
       "    </tr>\n",
       "  </thead>\n",
       "  <tbody>\n",
       "    <tr>\n",
       "      <th>0</th>\n",
       "      <td>2020-11-21 14:18:54.998708</td>\n",
       "      <td>27</td>\n",
       "      <td>10</td>\n",
       "      <td>0</td>\n",
       "      <td>10</td>\n",
       "      <td>11</td>\n",
       "      <td>2.570417</td>\n",
       "      <td>6</td>\n",
       "      <td>6</td>\n",
       "      <td>7</td>\n",
       "      <td>3.666667</td>\n",
       "      <td>2</td>\n",
       "      <td>192</td>\n",
       "      <td>14</td>\n",
       "      <td>1</td>\n",
       "    </tr>\n",
       "    <tr>\n",
       "      <th>1</th>\n",
       "      <td>2020-11-21 14:18:55.411010</td>\n",
       "      <td>25</td>\n",
       "      <td>8</td>\n",
       "      <td>0</td>\n",
       "      <td>10</td>\n",
       "      <td>9</td>\n",
       "      <td>2.556642</td>\n",
       "      <td>6</td>\n",
       "      <td>6</td>\n",
       "      <td>7</td>\n",
       "      <td>3.333333</td>\n",
       "      <td>2</td>\n",
       "      <td>192</td>\n",
       "      <td>12</td>\n",
       "      <td>1</td>\n",
       "    </tr>\n",
       "    <tr>\n",
       "      <th>2</th>\n",
       "      <td>2020-11-21 14:18:55.821592</td>\n",
       "      <td>25</td>\n",
       "      <td>8</td>\n",
       "      <td>0</td>\n",
       "      <td>10</td>\n",
       "      <td>9</td>\n",
       "      <td>2.556642</td>\n",
       "      <td>6</td>\n",
       "      <td>6</td>\n",
       "      <td>7</td>\n",
       "      <td>3.333333</td>\n",
       "      <td>2</td>\n",
       "      <td>192</td>\n",
       "      <td>12</td>\n",
       "      <td>1</td>\n",
       "    </tr>\n",
       "    <tr>\n",
       "      <th>3</th>\n",
       "      <td>2020-11-21 14:18:56.234074</td>\n",
       "      <td>27</td>\n",
       "      <td>10</td>\n",
       "      <td>0</td>\n",
       "      <td>10</td>\n",
       "      <td>11</td>\n",
       "      <td>2.767195</td>\n",
       "      <td>6</td>\n",
       "      <td>6</td>\n",
       "      <td>7</td>\n",
       "      <td>3.666667</td>\n",
       "      <td>2</td>\n",
       "      <td>192</td>\n",
       "      <td>14</td>\n",
       "      <td>1</td>\n",
       "    </tr>\n",
       "    <tr>\n",
       "      <th>4</th>\n",
       "      <td>2020-11-21 14:18:56.644294</td>\n",
       "      <td>27</td>\n",
       "      <td>10</td>\n",
       "      <td>0</td>\n",
       "      <td>10</td>\n",
       "      <td>11</td>\n",
       "      <td>2.767195</td>\n",
       "      <td>6</td>\n",
       "      <td>6</td>\n",
       "      <td>7</td>\n",
       "      <td>3.666667</td>\n",
       "      <td>2</td>\n",
       "      <td>192</td>\n",
       "      <td>14</td>\n",
       "      <td>1</td>\n",
       "    </tr>\n",
       "  </tbody>\n",
       "</table>\n",
       "</div>"
      ],
      "text/plain": [
       "                    timestamp  FQDN_count  subdomain_length  upper  lower  \\\n",
       "0  2020-11-21 14:18:54.998708          27                10      0     10   \n",
       "1  2020-11-21 14:18:55.411010          25                 8      0     10   \n",
       "2  2020-11-21 14:18:55.821592          25                 8      0     10   \n",
       "3  2020-11-21 14:18:56.234074          27                10      0     10   \n",
       "4  2020-11-21 14:18:56.644294          27                10      0     10   \n",
       "\n",
       "   numeric   entropy  special  labels  labels_max  labels_average  \\\n",
       "0       11  2.570417        6       6           7        3.666667   \n",
       "1        9  2.556642        6       6           7        3.333333   \n",
       "2        9  2.556642        6       6           7        3.333333   \n",
       "3       11  2.767195        6       6           7        3.666667   \n",
       "4       11  2.767195        6       6           7        3.666667   \n",
       "\n",
       "  longest_word  sld  len  subdomain  \n",
       "0            2  192   14          1  \n",
       "1            2  192   12          1  \n",
       "2            2  192   12          1  \n",
       "3            2  192   14          1  \n",
       "4            2  192   14          1  "
      ]
     },
     "execution_count": 86,
     "metadata": {},
     "output_type": "execute_result"
    }
   ],
   "source": [
    "stateless_light_benign.head()"
   ]
  },
  {
   "cell_type": "code",
   "execution_count": 87,
   "id": "ce480a74",
   "metadata": {
    "execution": {
     "iopub.execute_input": "2023-01-30T17:17:34.092183Z",
     "iopub.status.busy": "2023-01-30T17:17:34.091127Z",
     "iopub.status.idle": "2023-01-30T17:17:34.145356Z",
     "shell.execute_reply": "2023-01-30T17:17:34.143428Z"
    },
    "papermill": {
     "duration": 0.086756,
     "end_time": "2023-01-30T17:17:34.147784",
     "exception": false,
     "start_time": "2023-01-30T17:17:34.061028",
     "status": "completed"
    },
    "tags": []
   },
   "outputs": [
    {
     "name": "stdout",
     "output_type": "stream",
     "text": [
      "<class 'pandas.core.frame.DataFrame'>\n",
      "Int64Index: 281164 entries, 0 to 88573\n",
      "Data columns (total 15 columns):\n",
      " #   Column            Non-Null Count   Dtype  \n",
      "---  ------            --------------   -----  \n",
      " 0   timestamp         281164 non-null  object \n",
      " 1   FQDN_count        281164 non-null  int64  \n",
      " 2   subdomain_length  281164 non-null  int64  \n",
      " 3   upper             281164 non-null  int64  \n",
      " 4   lower             281164 non-null  int64  \n",
      " 5   numeric           281164 non-null  int64  \n",
      " 6   entropy           281164 non-null  float64\n",
      " 7   special           281164 non-null  int64  \n",
      " 8   labels            281164 non-null  int64  \n",
      " 9   labels_max        281164 non-null  int64  \n",
      " 10  labels_average    281164 non-null  float64\n",
      " 11  longest_word      281143 non-null  object \n",
      " 12  sld               281164 non-null  object \n",
      " 13  len               281164 non-null  int64  \n",
      " 14  subdomain         281164 non-null  int64  \n",
      "dtypes: float64(2), int64(10), object(3)\n",
      "memory usage: 34.3+ MB\n"
     ]
    }
   ],
   "source": [
    "stateless_light_benign.info()"
   ]
  },
  {
   "cell_type": "code",
   "execution_count": 88,
   "id": "3f49e870",
   "metadata": {
    "execution": {
     "iopub.execute_input": "2023-01-30T17:17:34.210171Z",
     "iopub.status.busy": "2023-01-30T17:17:34.208985Z",
     "iopub.status.idle": "2023-01-30T17:17:34.280773Z",
     "shell.execute_reply": "2023-01-30T17:17:34.279760Z"
    },
    "papermill": {
     "duration": 0.105119,
     "end_time": "2023-01-30T17:17:34.283199",
     "exception": false,
     "start_time": "2023-01-30T17:17:34.178080",
     "status": "completed"
    },
    "tags": []
   },
   "outputs": [],
   "source": [
    "numeric_columns = stateless_light_benign.select_dtypes(exclude=[object]).columns\n",
    "object_columns =  stateless_light_benign.select_dtypes(include=[object]).columns"
   ]
  },
  {
   "cell_type": "code",
   "execution_count": 89,
   "id": "3c1d59d4",
   "metadata": {
    "execution": {
     "iopub.execute_input": "2023-01-30T17:17:34.344770Z",
     "iopub.status.busy": "2023-01-30T17:17:34.343874Z",
     "iopub.status.idle": "2023-01-30T17:17:34.367403Z",
     "shell.execute_reply": "2023-01-30T17:17:34.365984Z"
    },
    "papermill": {
     "duration": 0.05723,
     "end_time": "2023-01-30T17:17:34.370096",
     "exception": false,
     "start_time": "2023-01-30T17:17:34.312866",
     "status": "completed"
    },
    "tags": []
   },
   "outputs": [
    {
     "name": "stdout",
     "output_type": "stream",
     "text": [
      "<class 'pandas.core.frame.DataFrame'>\n",
      "Int64Index: 281164 entries, 0 to 88573\n",
      "Data columns (total 12 columns):\n",
      " #   Column            Non-Null Count   Dtype  \n",
      "---  ------            --------------   -----  \n",
      " 0   FQDN_count        281164 non-null  int64  \n",
      " 1   subdomain_length  281164 non-null  int64  \n",
      " 2   upper             281164 non-null  int64  \n",
      " 3   lower             281164 non-null  int64  \n",
      " 4   numeric           281164 non-null  int64  \n",
      " 5   entropy           281164 non-null  float64\n",
      " 6   special           281164 non-null  int64  \n",
      " 7   labels            281164 non-null  int64  \n",
      " 8   labels_max        281164 non-null  int64  \n",
      " 9   labels_average    281164 non-null  float64\n",
      " 10  len               281164 non-null  int64  \n",
      " 11  subdomain         281164 non-null  int64  \n",
      "dtypes: float64(2), int64(10)\n",
      "memory usage: 27.9 MB\n"
     ]
    }
   ],
   "source": [
    "stateless_light_benign[numeric_columns].info()"
   ]
  },
  {
   "cell_type": "code",
   "execution_count": 90,
   "id": "eabb508e",
   "metadata": {
    "execution": {
     "iopub.execute_input": "2023-01-30T17:17:34.433286Z",
     "iopub.status.busy": "2023-01-30T17:17:34.432875Z",
     "iopub.status.idle": "2023-01-30T17:17:34.494328Z",
     "shell.execute_reply": "2023-01-30T17:17:34.493046Z"
    },
    "papermill": {
     "duration": 0.097484,
     "end_time": "2023-01-30T17:17:34.499242",
     "exception": false,
     "start_time": "2023-01-30T17:17:34.401758",
     "status": "completed"
    },
    "tags": []
   },
   "outputs": [
    {
     "name": "stdout",
     "output_type": "stream",
     "text": [
      "<class 'pandas.core.frame.DataFrame'>\n",
      "Int64Index: 281164 entries, 0 to 88573\n",
      "Data columns (total 3 columns):\n",
      " #   Column        Non-Null Count   Dtype \n",
      "---  ------        --------------   ----- \n",
      " 0   timestamp     281164 non-null  object\n",
      " 1   longest_word  281143 non-null  object\n",
      " 2   sld           281164 non-null  object\n",
      "dtypes: object(3)\n",
      "memory usage: 8.6+ MB\n"
     ]
    }
   ],
   "source": [
    "stateless_light_benign[object_columns].info()"
   ]
  },
  {
   "cell_type": "code",
   "execution_count": 91,
   "id": "e2c47c39",
   "metadata": {
    "execution": {
     "iopub.execute_input": "2023-01-30T17:17:34.586000Z",
     "iopub.status.busy": "2023-01-30T17:17:34.585597Z",
     "iopub.status.idle": "2023-01-30T17:17:34.631310Z",
     "shell.execute_reply": "2023-01-30T17:17:34.630188Z"
    },
    "papermill": {
     "duration": 0.088869,
     "end_time": "2023-01-30T17:17:34.633701",
     "exception": false,
     "start_time": "2023-01-30T17:17:34.544832",
     "status": "completed"
    },
    "tags": []
   },
   "outputs": [
    {
     "data": {
      "text/plain": [
       "FQDN_count          46.848618\n",
       "subdomain_length    16.257019\n",
       "upper               13.786562\n",
       "lower               13.688014\n",
       "numeric             21.492431\n",
       "entropy              0.220245\n",
       "special              5.146893\n",
       "labels               3.368047\n",
       "labels_max          16.904929\n",
       "labels_average      13.166181\n",
       "len                 18.124606\n",
       "subdomain            0.247775\n",
       "dtype: float64"
      ]
     },
     "execution_count": 91,
     "metadata": {},
     "output_type": "execute_result"
    }
   ],
   "source": [
    "stateless_light_benign[numeric_columns].var()"
   ]
  },
  {
   "cell_type": "markdown",
   "id": "704553ec",
   "metadata": {
    "execution": {
     "iopub.execute_input": "2023-01-28T09:47:19.712295Z",
     "iopub.status.busy": "2023-01-28T09:47:19.712066Z",
     "iopub.status.idle": "2023-01-28T09:47:19.818614Z",
     "shell.execute_reply": "2023-01-28T09:47:19.817061Z",
     "shell.execute_reply.started": "2023-01-28T09:47:19.712274Z"
    },
    "papermill": {
     "duration": 0.030586,
     "end_time": "2023-01-30T17:17:34.694245",
     "exception": false,
     "start_time": "2023-01-30T17:17:34.663659",
     "status": "completed"
    },
    "tags": []
   },
   "source": [
    "for obj_col in object_columns:\n",
    "    print(obj_col, ':', '\\n', stateless_light_benign[obj_col].unique(), '\\n\\n\\n')"
   ]
  }
 ],
 "metadata": {
  "kernelspec": {
   "display_name": "Python 3",
   "language": "python",
   "name": "python3"
  },
  "language_info": {
   "codemirror_mode": {
    "name": "ipython",
    "version": 3
   },
   "file_extension": ".py",
   "mimetype": "text/x-python",
   "name": "python",
   "nbconvert_exporter": "python",
   "pygments_lexer": "ipython3",
   "version": "3.7.12"
  },
  "papermill": {
   "default_parameters": {},
   "duration": 23.168883,
   "end_time": "2023-01-30T17:17:35.445812",
   "environment_variables": {},
   "exception": null,
   "input_path": "__notebook__.ipynb",
   "output_path": "__notebook__.ipynb",
   "parameters": {},
   "start_time": "2023-01-30T17:17:12.276929",
   "version": "2.3.4"
  }
 },
 "nbformat": 4,
 "nbformat_minor": 5
}

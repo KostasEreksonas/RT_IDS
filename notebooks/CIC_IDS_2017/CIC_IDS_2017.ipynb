{
 "cells": [
  {
   "cell_type": "markdown",
   "id": "907e836c-143f-4707-937c-2a7221738c14",
   "metadata": {},
   "source": [
    "# Network Intrusion Detection System - NIDS"
   ]
  },
  {
   "cell_type": "markdown",
   "id": "3551cc16-e95a-460d-b9f1-9298b2d13297",
   "metadata": {},
   "source": [
    "# 1. Prerequisites"
   ]
  },
  {
   "cell_type": "markdown",
   "id": "b96f30b8-2d0b-4825-a8f1-c3ad8faabaf5",
   "metadata": {},
   "source": [
    "## 1.1. Import Libraries"
   ]
  },
  {
   "cell_type": "code",
   "execution_count": 1,
   "id": "6f6907d9-cd7d-47f7-8d45-023bfc28c8fa",
   "metadata": {},
   "outputs": [
    {
     "name": "stderr",
     "output_type": "stream",
     "text": [
      "2025-10-24 18:08:20.475553: I external/local_xla/xla/tsl/cuda/cudart_stub.cc:31] Could not find cuda drivers on your machine, GPU will not be used.\n",
      "2025-10-24 18:08:20.525617: I tensorflow/core/platform/cpu_feature_guard.cc:210] This TensorFlow binary is optimized to use available CPU instructions in performance-critical operations.\n",
      "To enable the following instructions: AVX2 FMA, in other operations, rebuild TensorFlow with the appropriate compiler flags.\n",
      "2025-10-24 18:08:21.682548: I external/local_xla/xla/tsl/cuda/cudart_stub.cc:31] Could not find cuda drivers on your machine, GPU will not be used.\n"
     ]
    }
   ],
   "source": [
    "import os\n",
    "import gc\n",
    "import optuna\n",
    "import pickle\n",
    "import numpy as np\n",
    "import pandas as pd\n",
    "import seaborn as sns\n",
    "import matplotlib.pyplot as plt\n",
    "%matplotlib inline\n",
    "\n",
    "from sklearn.neighbors import KNeighborsClassifier\n",
    "from tensorflow import keras\n",
    "from prettytable import PrettyTable\n",
    "from sklearn.decomposition import PCA\n",
    "from sklearn.model_selection import train_test_split\n",
    "from sklearn.feature_selection import SelectKBest, f_classif\n",
    "from sklearn.preprocessing import StandardScaler, OneHotEncoder\n",
    "from sklearn.metrics import accuracy_score, root_mean_squared_error, mean_squared_error, mean_absolute_error, precision_score, confusion_matrix, multilabel_confusion_matrix, classification_report, f1_score, precision_score, recall_score\n",
    "from sklearn.ensemble import RandomForestClassifier\n",
    "import xgboost as xgb\n",
    "import lightgbm\n",
    "from sklearn.svm import LinearSVC"
   ]
  },
  {
   "cell_type": "markdown",
   "id": "5785eca8-23b6-4dd4-b571-ac425ab490d6",
   "metadata": {},
   "source": [
    "## 1.2. Define functions"
   ]
  },
  {
   "cell_type": "code",
   "execution_count": 2,
   "id": "474d962a-2743-4329-8341-8694a66bb706",
   "metadata": {},
   "outputs": [],
   "source": [
    "def visualize_CM(matrix):\n",
    "    \"\"\"\n",
    "    Visualize Correlation Matrix\n",
    "    \"\"\"\n",
    "    sns.heatmap(matrix,annot=True)\n",
    "\n",
    "def missing_values(df):\n",
    "    \"\"\"\n",
    "    Print a table with missing values\n",
    "    \"\"\"\n",
    "    table = PrettyTable([\"Column\", \"All Values\", \"Missing Values\", \"% of missing values\"])\n",
    "    NaN_columns = []\n",
    "    columns = df.columns\n",
    "    for column in columns:\n",
    "        all_values = df[column].count()\n",
    "        missing_values = df[column].isna().sum()\n",
    "        if missing_values > 0:\n",
    "            NaN_columns.append(column)\n",
    "        percentage = f'{(missing_values / all_values)*100:.2f}'\n",
    "        table.add_row([column, all_values, missing_values, f'{percentage}%'])\n",
    "    data = table.get_string()\n",
    "    #with open(f\"Missing_table.txt\", 'w') as f:\n",
    "    #    f.write(data)\n",
    "    print(table)\n",
    "    if len(NaN_columns) > 0:\n",
    "        print(f\"Columns with missing values: {NaN_columns}\")\n",
    "    #print(f\"Table saved as Missing_table.txt\")\n",
    "\n",
    "def hist_plot(label, count):\n",
    "    _dict = {}\n",
    "    for x in range(len(label)):\n",
    "        _dict[label[x]] = count.iloc[x]\n",
    "    fig, ax = plt.subplots(figsize=(10,10))\n",
    "    ax.bar(_dict.keys(), _dict.values())\n",
    "    ax.set_title('Network traffic type distribution', fontsize=16, fontweight=\"bold\")\n",
    "    ax.set_xlabel('Network traffic type')\n",
    "    ax.tick_params(axis='x', labelrotation=90)\n",
    "    ax.set_ylabel('Distribution')\n",
    "    ax.grid(which='Major', axis='both')\n",
    "    #plt.savefig(\"Traffic_type_distribution.png\")\n",
    "\n",
    "def attack_plot(label, count):\n",
    "    _dict = {}\n",
    "    label = [x for x in label if x != 'BENIGN']\n",
    "    count = count.iloc[1:len(count)]\n",
    "    for x in range(len(label)):\n",
    "        _dict[label[x]] = count.iloc[x]\n",
    "    fig, ax = plt.subplots(figsize=(10,10))\n",
    "    ax.bar(_dict.keys(), _dict.values())\n",
    "    ax.set_title('Attack type distribution', fontsize=16, fontweight=\"bold\")\n",
    "    ax.set_xlabel('Traffic type')\n",
    "    ax.tick_params(axis='x', labelrotation=90)\n",
    "    ax.set_ylabel('Distribution')\n",
    "    ax.grid(which='Major', axis='both')\n",
    "    #plt.savefig(\"attack_type_distribution.png\")\n",
    "\n",
    "def plotResults(df, columns_list, rows, columns):\n",
    "    \"\"\"\n",
    "    Plot results\n",
    "    \"\"\"\n",
    "    fig, axes = plt.subplots(rows, columns)\n",
    "    for ax, col in zip(axes.ravel(), columns_list):\n",
    "        df[col].plot(ax=ax,\n",
    "                     kind=\"bar\",\n",
    "                     figsize=(15,50),\n",
    "                     fontsize=12)\n",
    "        if col in [\"Accuracy\", \"Precision\", \"F1\", \"Recall\"]:\n",
    "            ax.set_title(f\"{col} (Higher is better)\", fontsize=20)\n",
    "        else:\n",
    "            ax.set_title(f\"{col} (Lower is better)\", fontsize=20)\n",
    "        ax.tick_params(axis='x', labelrotation=0)"
   ]
  },
  {
   "cell_type": "code",
   "execution_count": 3,
   "id": "30f6db93-1ed1-4a63-b4c3-f2854e5c6183",
   "metadata": {},
   "outputs": [],
   "source": [
    "for dirname, _, filenames in os.walk('../datasets/CIC_IDS_2017/'):\n",
    "    for filename in filenames:\n",
    "        print(os.path.join(dirname, filename))"
   ]
  },
  {
   "cell_type": "markdown",
   "id": "78110435-3032-46c9-bf56-0179f916b46b",
   "metadata": {},
   "source": [
    "# 2. Data Analysis"
   ]
  },
  {
   "cell_type": "code",
   "execution_count": 4,
   "id": "5a7e1871-943f-4887-98e9-4cc1b729c9b2",
   "metadata": {},
   "outputs": [],
   "source": [
    "monday = pd.read_csv('../../datasets/CIC_IDS_2017/MachineLearningCVE/Monday-WorkingHours.pcap_ISCX.csv', sep=\",\", encoding='utf-8')\n",
    "tuesday = pd.read_csv('../../datasets/CIC_IDS_2017/MachineLearningCVE/Tuesday-WorkingHours.pcap_ISCX.csv', sep=\",\", encoding='utf-8')\n",
    "wednesday = pd.read_csv('../../datasets/CIC_IDS_2017/MachineLearningCVE/Wednesday-workingHours.pcap_ISCX.csv', sep=\",\", encoding='utf-8')\n",
    "thursday_morning = pd.read_csv('../../datasets/CIC_IDS_2017/MachineLearningCVE/Thursday-WorkingHours-Morning-WebAttacks.pcap_ISCX.csv', sep=\",\", encoding='utf-8')\n",
    "thursday_afternoon = pd.read_csv('../../datasets/CIC_IDS_2017/MachineLearningCVE/Thursday-WorkingHours-Afternoon-Infilteration.pcap_ISCX.csv', sep=\",\", encoding='utf-8')\n",
    "friday_ddos = pd.read_csv('../../datasets/CIC_IDS_2017/MachineLearningCVE/Friday-WorkingHours-Afternoon-DDos.pcap_ISCX.csv', sep=\",\", encoding='utf-8')\n",
    "friday_pcap = pd.read_csv('../../datasets/CIC_IDS_2017/MachineLearningCVE/Friday-WorkingHours-Afternoon-PortScan.pcap_ISCX.csv', sep=\",\", encoding='utf-8')\n",
    "friday_morning = pd.read_csv('../../datasets/CIC_IDS_2017/MachineLearningCVE/Friday-WorkingHours-Morning.pcap_ISCX.csv', sep=\",\", encoding='utf-8')\n",
    "monday.name = 'Monday'\n",
    "tuesday.name = 'Tuesday'\n",
    "wednesday.name = 'Wednesday'\n",
    "thursday_morning.name = 'Thursday_Morning'\n",
    "thursday_afternoon.name = 'Thursday_Afternoon'\n",
    "friday_ddos.name = 'Friday_DDoS'\n",
    "friday_pcap.name = 'Friday_Pcap'\n",
    "friday_morning.name = 'Friday_Morning'"
   ]
  },
  {
   "cell_type": "code",
   "execution_count": 5,
   "id": "0a062489-b226-4766-8682-ba78c7c2098f",
   "metadata": {},
   "outputs": [],
   "source": [
    "dataframes = [monday, tuesday, wednesday, thursday_morning, thursday_afternoon, friday_ddos, friday_morning, friday_pcap]\n",
    "data = pd.concat(dataframes)"
   ]
  },
  {
   "cell_type": "code",
   "execution_count": 6,
   "id": "7eb05869-22d9-4a49-a2b3-69530059012e",
   "metadata": {},
   "outputs": [
    {
     "data": {
      "text/html": [
       "<div>\n",
       "<style scoped>\n",
       "    .dataframe tbody tr th:only-of-type {\n",
       "        vertical-align: middle;\n",
       "    }\n",
       "\n",
       "    .dataframe tbody tr th {\n",
       "        vertical-align: top;\n",
       "    }\n",
       "\n",
       "    .dataframe thead th {\n",
       "        text-align: right;\n",
       "    }\n",
       "</style>\n",
       "<table border=\"1\" class=\"dataframe\">\n",
       "  <thead>\n",
       "    <tr style=\"text-align: right;\">\n",
       "      <th></th>\n",
       "      <th>Destination Port</th>\n",
       "      <th>Flow Duration</th>\n",
       "      <th>Total Fwd Packets</th>\n",
       "      <th>Total Backward Packets</th>\n",
       "      <th>Total Length of Fwd Packets</th>\n",
       "      <th>Total Length of Bwd Packets</th>\n",
       "      <th>Fwd Packet Length Max</th>\n",
       "      <th>Fwd Packet Length Min</th>\n",
       "      <th>Fwd Packet Length Mean</th>\n",
       "      <th>Fwd Packet Length Std</th>\n",
       "      <th>...</th>\n",
       "      <th>min_seg_size_forward</th>\n",
       "      <th>Active Mean</th>\n",
       "      <th>Active Std</th>\n",
       "      <th>Active Max</th>\n",
       "      <th>Active Min</th>\n",
       "      <th>Idle Mean</th>\n",
       "      <th>Idle Std</th>\n",
       "      <th>Idle Max</th>\n",
       "      <th>Idle Min</th>\n",
       "      <th>Label</th>\n",
       "    </tr>\n",
       "  </thead>\n",
       "  <tbody>\n",
       "    <tr>\n",
       "      <th>0</th>\n",
       "      <td>49188</td>\n",
       "      <td>4</td>\n",
       "      <td>2</td>\n",
       "      <td>0</td>\n",
       "      <td>12</td>\n",
       "      <td>0</td>\n",
       "      <td>6</td>\n",
       "      <td>6</td>\n",
       "      <td>6.0</td>\n",
       "      <td>0.0</td>\n",
       "      <td>...</td>\n",
       "      <td>20</td>\n",
       "      <td>0.0</td>\n",
       "      <td>0.0</td>\n",
       "      <td>0</td>\n",
       "      <td>0</td>\n",
       "      <td>0.0</td>\n",
       "      <td>0.0</td>\n",
       "      <td>0</td>\n",
       "      <td>0</td>\n",
       "      <td>BENIGN</td>\n",
       "    </tr>\n",
       "    <tr>\n",
       "      <th>1</th>\n",
       "      <td>49188</td>\n",
       "      <td>1</td>\n",
       "      <td>2</td>\n",
       "      <td>0</td>\n",
       "      <td>12</td>\n",
       "      <td>0</td>\n",
       "      <td>6</td>\n",
       "      <td>6</td>\n",
       "      <td>6.0</td>\n",
       "      <td>0.0</td>\n",
       "      <td>...</td>\n",
       "      <td>20</td>\n",
       "      <td>0.0</td>\n",
       "      <td>0.0</td>\n",
       "      <td>0</td>\n",
       "      <td>0</td>\n",
       "      <td>0.0</td>\n",
       "      <td>0.0</td>\n",
       "      <td>0</td>\n",
       "      <td>0</td>\n",
       "      <td>BENIGN</td>\n",
       "    </tr>\n",
       "    <tr>\n",
       "      <th>2</th>\n",
       "      <td>49188</td>\n",
       "      <td>1</td>\n",
       "      <td>2</td>\n",
       "      <td>0</td>\n",
       "      <td>12</td>\n",
       "      <td>0</td>\n",
       "      <td>6</td>\n",
       "      <td>6</td>\n",
       "      <td>6.0</td>\n",
       "      <td>0.0</td>\n",
       "      <td>...</td>\n",
       "      <td>20</td>\n",
       "      <td>0.0</td>\n",
       "      <td>0.0</td>\n",
       "      <td>0</td>\n",
       "      <td>0</td>\n",
       "      <td>0.0</td>\n",
       "      <td>0.0</td>\n",
       "      <td>0</td>\n",
       "      <td>0</td>\n",
       "      <td>BENIGN</td>\n",
       "    </tr>\n",
       "    <tr>\n",
       "      <th>3</th>\n",
       "      <td>49188</td>\n",
       "      <td>1</td>\n",
       "      <td>2</td>\n",
       "      <td>0</td>\n",
       "      <td>12</td>\n",
       "      <td>0</td>\n",
       "      <td>6</td>\n",
       "      <td>6</td>\n",
       "      <td>6.0</td>\n",
       "      <td>0.0</td>\n",
       "      <td>...</td>\n",
       "      <td>20</td>\n",
       "      <td>0.0</td>\n",
       "      <td>0.0</td>\n",
       "      <td>0</td>\n",
       "      <td>0</td>\n",
       "      <td>0.0</td>\n",
       "      <td>0.0</td>\n",
       "      <td>0</td>\n",
       "      <td>0</td>\n",
       "      <td>BENIGN</td>\n",
       "    </tr>\n",
       "    <tr>\n",
       "      <th>4</th>\n",
       "      <td>49486</td>\n",
       "      <td>3</td>\n",
       "      <td>2</td>\n",
       "      <td>0</td>\n",
       "      <td>12</td>\n",
       "      <td>0</td>\n",
       "      <td>6</td>\n",
       "      <td>6</td>\n",
       "      <td>6.0</td>\n",
       "      <td>0.0</td>\n",
       "      <td>...</td>\n",
       "      <td>20</td>\n",
       "      <td>0.0</td>\n",
       "      <td>0.0</td>\n",
       "      <td>0</td>\n",
       "      <td>0</td>\n",
       "      <td>0.0</td>\n",
       "      <td>0.0</td>\n",
       "      <td>0</td>\n",
       "      <td>0</td>\n",
       "      <td>BENIGN</td>\n",
       "    </tr>\n",
       "  </tbody>\n",
       "</table>\n",
       "<p>5 rows × 79 columns</p>\n",
       "</div>"
      ],
      "text/plain": [
       "    Destination Port   Flow Duration   Total Fwd Packets  \\\n",
       "0              49188               4                   2   \n",
       "1              49188               1                   2   \n",
       "2              49188               1                   2   \n",
       "3              49188               1                   2   \n",
       "4              49486               3                   2   \n",
       "\n",
       "    Total Backward Packets  Total Length of Fwd Packets  \\\n",
       "0                        0                           12   \n",
       "1                        0                           12   \n",
       "2                        0                           12   \n",
       "3                        0                           12   \n",
       "4                        0                           12   \n",
       "\n",
       "    Total Length of Bwd Packets   Fwd Packet Length Max  \\\n",
       "0                             0                       6   \n",
       "1                             0                       6   \n",
       "2                             0                       6   \n",
       "3                             0                       6   \n",
       "4                             0                       6   \n",
       "\n",
       "    Fwd Packet Length Min   Fwd Packet Length Mean   Fwd Packet Length Std  \\\n",
       "0                       6                      6.0                     0.0   \n",
       "1                       6                      6.0                     0.0   \n",
       "2                       6                      6.0                     0.0   \n",
       "3                       6                      6.0                     0.0   \n",
       "4                       6                      6.0                     0.0   \n",
       "\n",
       "   ...   min_seg_size_forward  Active Mean   Active Std   Active Max  \\\n",
       "0  ...                     20          0.0          0.0            0   \n",
       "1  ...                     20          0.0          0.0            0   \n",
       "2  ...                     20          0.0          0.0            0   \n",
       "3  ...                     20          0.0          0.0            0   \n",
       "4  ...                     20          0.0          0.0            0   \n",
       "\n",
       "    Active Min  Idle Mean   Idle Std   Idle Max   Idle Min   Label  \n",
       "0            0        0.0        0.0          0          0  BENIGN  \n",
       "1            0        0.0        0.0          0          0  BENIGN  \n",
       "2            0        0.0        0.0          0          0  BENIGN  \n",
       "3            0        0.0        0.0          0          0  BENIGN  \n",
       "4            0        0.0        0.0          0          0  BENIGN  \n",
       "\n",
       "[5 rows x 79 columns]"
      ]
     },
     "execution_count": 6,
     "metadata": {},
     "output_type": "execute_result"
    }
   ],
   "source": [
    "data.head()"
   ]
  },
  {
   "cell_type": "code",
   "execution_count": 7,
   "id": "51b75923-c9c8-43d3-bf10-e5fbeb738254",
   "metadata": {},
   "outputs": [
    {
     "name": "stdout",
     "output_type": "stream",
     "text": [
      "<class 'pandas.core.frame.DataFrame'>\n",
      "Index: 2830743 entries, 0 to 286466\n",
      "Data columns (total 79 columns):\n",
      " #   Column                        Dtype  \n",
      "---  ------                        -----  \n",
      " 0    Destination Port             int64  \n",
      " 1    Flow Duration                int64  \n",
      " 2    Total Fwd Packets            int64  \n",
      " 3    Total Backward Packets       int64  \n",
      " 4   Total Length of Fwd Packets   int64  \n",
      " 5    Total Length of Bwd Packets  int64  \n",
      " 6    Fwd Packet Length Max        int64  \n",
      " 7    Fwd Packet Length Min        int64  \n",
      " 8    Fwd Packet Length Mean       float64\n",
      " 9    Fwd Packet Length Std        float64\n",
      " 10  Bwd Packet Length Max         int64  \n",
      " 11   Bwd Packet Length Min        int64  \n",
      " 12   Bwd Packet Length Mean       float64\n",
      " 13   Bwd Packet Length Std        float64\n",
      " 14  Flow Bytes/s                  float64\n",
      " 15   Flow Packets/s               float64\n",
      " 16   Flow IAT Mean                float64\n",
      " 17   Flow IAT Std                 float64\n",
      " 18   Flow IAT Max                 int64  \n",
      " 19   Flow IAT Min                 int64  \n",
      " 20  Fwd IAT Total                 int64  \n",
      " 21   Fwd IAT Mean                 float64\n",
      " 22   Fwd IAT Std                  float64\n",
      " 23   Fwd IAT Max                  int64  \n",
      " 24   Fwd IAT Min                  int64  \n",
      " 25  Bwd IAT Total                 int64  \n",
      " 26   Bwd IAT Mean                 float64\n",
      " 27   Bwd IAT Std                  float64\n",
      " 28   Bwd IAT Max                  int64  \n",
      " 29   Bwd IAT Min                  int64  \n",
      " 30  Fwd PSH Flags                 int64  \n",
      " 31   Bwd PSH Flags                int64  \n",
      " 32   Fwd URG Flags                int64  \n",
      " 33   Bwd URG Flags                int64  \n",
      " 34   Fwd Header Length            int64  \n",
      " 35   Bwd Header Length            int64  \n",
      " 36  Fwd Packets/s                 float64\n",
      " 37   Bwd Packets/s                float64\n",
      " 38   Min Packet Length            int64  \n",
      " 39   Max Packet Length            int64  \n",
      " 40   Packet Length Mean           float64\n",
      " 41   Packet Length Std            float64\n",
      " 42   Packet Length Variance       float64\n",
      " 43  FIN Flag Count                int64  \n",
      " 44   SYN Flag Count               int64  \n",
      " 45   RST Flag Count               int64  \n",
      " 46   PSH Flag Count               int64  \n",
      " 47   ACK Flag Count               int64  \n",
      " 48   URG Flag Count               int64  \n",
      " 49   CWE Flag Count               int64  \n",
      " 50   ECE Flag Count               int64  \n",
      " 51   Down/Up Ratio                int64  \n",
      " 52   Average Packet Size          float64\n",
      " 53   Avg Fwd Segment Size         float64\n",
      " 54   Avg Bwd Segment Size         float64\n",
      " 55   Fwd Header Length.1          int64  \n",
      " 56  Fwd Avg Bytes/Bulk            int64  \n",
      " 57   Fwd Avg Packets/Bulk         int64  \n",
      " 58   Fwd Avg Bulk Rate            int64  \n",
      " 59   Bwd Avg Bytes/Bulk           int64  \n",
      " 60   Bwd Avg Packets/Bulk         int64  \n",
      " 61  Bwd Avg Bulk Rate             int64  \n",
      " 62  Subflow Fwd Packets           int64  \n",
      " 63   Subflow Fwd Bytes            int64  \n",
      " 64   Subflow Bwd Packets          int64  \n",
      " 65   Subflow Bwd Bytes            int64  \n",
      " 66  Init_Win_bytes_forward        int64  \n",
      " 67   Init_Win_bytes_backward      int64  \n",
      " 68   act_data_pkt_fwd             int64  \n",
      " 69   min_seg_size_forward         int64  \n",
      " 70  Active Mean                   float64\n",
      " 71   Active Std                   float64\n",
      " 72   Active Max                   int64  \n",
      " 73   Active Min                   int64  \n",
      " 74  Idle Mean                     float64\n",
      " 75   Idle Std                     float64\n",
      " 76   Idle Max                     int64  \n",
      " 77   Idle Min                     int64  \n",
      " 78   Label                        object \n",
      "dtypes: float64(24), int64(54), object(1)\n",
      "memory usage: 1.7+ GB\n"
     ]
    }
   ],
   "source": [
    "data.info()"
   ]
  },
  {
   "cell_type": "code",
   "execution_count": 8,
   "id": "ec8899d7-4729-41c5-8926-f3cbe6c77ad4",
   "metadata": {},
   "outputs": [
    {
     "data": {
      "text/plain": [
       "Index([' Destination Port', ' Flow Duration', ' Total Fwd Packets',\n",
       "       ' Total Backward Packets', 'Total Length of Fwd Packets',\n",
       "       ' Total Length of Bwd Packets', ' Fwd Packet Length Max',\n",
       "       ' Fwd Packet Length Min', ' Fwd Packet Length Mean',\n",
       "       ' Fwd Packet Length Std', 'Bwd Packet Length Max',\n",
       "       ' Bwd Packet Length Min', ' Bwd Packet Length Mean',\n",
       "       ' Bwd Packet Length Std', 'Flow Bytes/s', ' Flow Packets/s',\n",
       "       ' Flow IAT Mean', ' Flow IAT Std', ' Flow IAT Max', ' Flow IAT Min',\n",
       "       'Fwd IAT Total', ' Fwd IAT Mean', ' Fwd IAT Std', ' Fwd IAT Max',\n",
       "       ' Fwd IAT Min', 'Bwd IAT Total', ' Bwd IAT Mean', ' Bwd IAT Std',\n",
       "       ' Bwd IAT Max', ' Bwd IAT Min', 'Fwd PSH Flags', ' Bwd PSH Flags',\n",
       "       ' Fwd URG Flags', ' Bwd URG Flags', ' Fwd Header Length',\n",
       "       ' Bwd Header Length', 'Fwd Packets/s', ' Bwd Packets/s',\n",
       "       ' Min Packet Length', ' Max Packet Length', ' Packet Length Mean',\n",
       "       ' Packet Length Std', ' Packet Length Variance', 'FIN Flag Count',\n",
       "       ' SYN Flag Count', ' RST Flag Count', ' PSH Flag Count',\n",
       "       ' ACK Flag Count', ' URG Flag Count', ' CWE Flag Count',\n",
       "       ' ECE Flag Count', ' Down/Up Ratio', ' Average Packet Size',\n",
       "       ' Avg Fwd Segment Size', ' Avg Bwd Segment Size',\n",
       "       ' Fwd Header Length.1', 'Fwd Avg Bytes/Bulk', ' Fwd Avg Packets/Bulk',\n",
       "       ' Fwd Avg Bulk Rate', ' Bwd Avg Bytes/Bulk', ' Bwd Avg Packets/Bulk',\n",
       "       'Bwd Avg Bulk Rate', 'Subflow Fwd Packets', ' Subflow Fwd Bytes',\n",
       "       ' Subflow Bwd Packets', ' Subflow Bwd Bytes', 'Init_Win_bytes_forward',\n",
       "       ' Init_Win_bytes_backward', ' act_data_pkt_fwd',\n",
       "       ' min_seg_size_forward', 'Active Mean', ' Active Std', ' Active Max',\n",
       "       ' Active Min', 'Idle Mean', ' Idle Std', ' Idle Max', ' Idle Min',\n",
       "       ' Label'],\n",
       "      dtype='object')"
      ]
     },
     "execution_count": 8,
     "metadata": {},
     "output_type": "execute_result"
    }
   ],
   "source": [
    "data.columns"
   ]
  },
  {
   "cell_type": "code",
   "execution_count": 9,
   "id": "b266b3ec-8238-4b5f-a2cc-7c2c2954d5c8",
   "metadata": {},
   "outputs": [
    {
     "data": {
      "text/plain": [
       "array(['BENIGN', 'FTP-Patator', 'SSH-Patator', 'DoS slowloris',\n",
       "       'DoS Slowhttptest', 'DoS Hulk', 'DoS GoldenEye', 'Heartbleed',\n",
       "       'Web Attack � Brute Force', 'Web Attack � XSS',\n",
       "       'Web Attack � Sql Injection', 'Infiltration', 'DDoS', 'Bot',\n",
       "       'PortScan'], dtype=object)"
      ]
     },
     "execution_count": 9,
     "metadata": {},
     "output_type": "execute_result"
    }
   ],
   "source": [
    "data[' Label'].unique()"
   ]
  },
  {
   "cell_type": "code",
   "execution_count": 10,
   "id": "285b195b-f541-4fbd-ade2-73568a9c18fa",
   "metadata": {},
   "outputs": [
    {
     "data": {
      "text/plain": [
       " Label\n",
       "BENIGN                        2273097\n",
       "DoS Hulk                       231073\n",
       "PortScan                       158930\n",
       "DDoS                           128027\n",
       "DoS GoldenEye                   10293\n",
       "FTP-Patator                      7938\n",
       "SSH-Patator                      5897\n",
       "DoS slowloris                    5796\n",
       "DoS Slowhttptest                 5499\n",
       "Bot                              1966\n",
       "Web Attack � Brute Force         1507\n",
       "Web Attack � XSS                  652\n",
       "Infiltration                       36\n",
       "Web Attack � Sql Injection         21\n",
       "Heartbleed                         11\n",
       "Name: count, dtype: int64"
      ]
     },
     "execution_count": 10,
     "metadata": {},
     "output_type": "execute_result"
    }
   ],
   "source": [
    "data[' Label'].value_counts()"
   ]
  },
  {
   "cell_type": "code",
   "execution_count": 11,
   "id": "5c7bee3f-64f3-4f5d-a378-2fb2e60eecad",
   "metadata": {},
   "outputs": [
    {
     "name": "stdout",
     "output_type": "stream",
     "text": [
      "+------------------------------+------------+----------------+---------------------+\n",
      "|            Column            | All Values | Missing Values | % of missing values |\n",
      "+------------------------------+------------+----------------+---------------------+\n",
      "|       Destination Port       |  2830743   |       0        |        0.00%        |\n",
      "|         Flow Duration        |  2830743   |       0        |        0.00%        |\n",
      "|       Total Fwd Packets      |  2830743   |       0        |        0.00%        |\n",
      "|    Total Backward Packets    |  2830743   |       0        |        0.00%        |\n",
      "| Total Length of Fwd Packets  |  2830743   |       0        |        0.00%        |\n",
      "|  Total Length of Bwd Packets |  2830743   |       0        |        0.00%        |\n",
      "|     Fwd Packet Length Max    |  2830743   |       0        |        0.00%        |\n",
      "|     Fwd Packet Length Min    |  2830743   |       0        |        0.00%        |\n",
      "|    Fwd Packet Length Mean    |  2830743   |       0        |        0.00%        |\n",
      "|     Fwd Packet Length Std    |  2830743   |       0        |        0.00%        |\n",
      "|    Bwd Packet Length Max     |  2830743   |       0        |        0.00%        |\n",
      "|     Bwd Packet Length Min    |  2830743   |       0        |        0.00%        |\n",
      "|    Bwd Packet Length Mean    |  2830743   |       0        |        0.00%        |\n",
      "|     Bwd Packet Length Std    |  2830743   |       0        |        0.00%        |\n",
      "|         Flow Bytes/s         |  2827876   |      2867      |        0.10%        |\n",
      "|        Flow Packets/s        |  2827876   |      2867      |        0.10%        |\n",
      "|         Flow IAT Mean        |  2830743   |       0        |        0.00%        |\n",
      "|         Flow IAT Std         |  2830743   |       0        |        0.00%        |\n",
      "|         Flow IAT Max         |  2830743   |       0        |        0.00%        |\n",
      "|         Flow IAT Min         |  2830743   |       0        |        0.00%        |\n",
      "|        Fwd IAT Total         |  2830743   |       0        |        0.00%        |\n",
      "|         Fwd IAT Mean         |  2830743   |       0        |        0.00%        |\n",
      "|          Fwd IAT Std         |  2830743   |       0        |        0.00%        |\n",
      "|          Fwd IAT Max         |  2830743   |       0        |        0.00%        |\n",
      "|          Fwd IAT Min         |  2830743   |       0        |        0.00%        |\n",
      "|        Bwd IAT Total         |  2830743   |       0        |        0.00%        |\n",
      "|         Bwd IAT Mean         |  2830743   |       0        |        0.00%        |\n",
      "|          Bwd IAT Std         |  2830743   |       0        |        0.00%        |\n",
      "|          Bwd IAT Max         |  2830743   |       0        |        0.00%        |\n",
      "|          Bwd IAT Min         |  2830743   |       0        |        0.00%        |\n",
      "|        Fwd PSH Flags         |  2830743   |       0        |        0.00%        |\n",
      "|         Bwd PSH Flags        |  2830743   |       0        |        0.00%        |\n",
      "|         Fwd URG Flags        |  2830743   |       0        |        0.00%        |\n",
      "|         Bwd URG Flags        |  2830743   |       0        |        0.00%        |\n",
      "|       Fwd Header Length      |  2830743   |       0        |        0.00%        |\n",
      "|       Bwd Header Length      |  2830743   |       0        |        0.00%        |\n",
      "|        Fwd Packets/s         |  2830743   |       0        |        0.00%        |\n",
      "|         Bwd Packets/s        |  2830743   |       0        |        0.00%        |\n",
      "|       Min Packet Length      |  2830743   |       0        |        0.00%        |\n",
      "|       Max Packet Length      |  2830743   |       0        |        0.00%        |\n",
      "|      Packet Length Mean      |  2830743   |       0        |        0.00%        |\n",
      "|       Packet Length Std      |  2830743   |       0        |        0.00%        |\n",
      "|    Packet Length Variance    |  2830743   |       0        |        0.00%        |\n",
      "|        FIN Flag Count        |  2830743   |       0        |        0.00%        |\n",
      "|        SYN Flag Count        |  2830743   |       0        |        0.00%        |\n",
      "|        RST Flag Count        |  2830743   |       0        |        0.00%        |\n",
      "|        PSH Flag Count        |  2830743   |       0        |        0.00%        |\n",
      "|        ACK Flag Count        |  2830743   |       0        |        0.00%        |\n",
      "|        URG Flag Count        |  2830743   |       0        |        0.00%        |\n",
      "|        CWE Flag Count        |  2830743   |       0        |        0.00%        |\n",
      "|        ECE Flag Count        |  2830743   |       0        |        0.00%        |\n",
      "|         Down/Up Ratio        |  2830743   |       0        |        0.00%        |\n",
      "|      Average Packet Size     |  2830743   |       0        |        0.00%        |\n",
      "|     Avg Fwd Segment Size     |  2830743   |       0        |        0.00%        |\n",
      "|     Avg Bwd Segment Size     |  2830743   |       0        |        0.00%        |\n",
      "|      Fwd Header Length.1     |  2830743   |       0        |        0.00%        |\n",
      "|      Fwd Avg Bytes/Bulk      |  2830743   |       0        |        0.00%        |\n",
      "|     Fwd Avg Packets/Bulk     |  2830743   |       0        |        0.00%        |\n",
      "|       Fwd Avg Bulk Rate      |  2830743   |       0        |        0.00%        |\n",
      "|      Bwd Avg Bytes/Bulk      |  2830743   |       0        |        0.00%        |\n",
      "|     Bwd Avg Packets/Bulk     |  2830743   |       0        |        0.00%        |\n",
      "|      Bwd Avg Bulk Rate       |  2830743   |       0        |        0.00%        |\n",
      "|     Subflow Fwd Packets      |  2830743   |       0        |        0.00%        |\n",
      "|       Subflow Fwd Bytes      |  2830743   |       0        |        0.00%        |\n",
      "|      Subflow Bwd Packets     |  2830743   |       0        |        0.00%        |\n",
      "|       Subflow Bwd Bytes      |  2830743   |       0        |        0.00%        |\n",
      "|    Init_Win_bytes_forward    |  2830743   |       0        |        0.00%        |\n",
      "|    Init_Win_bytes_backward   |  2830743   |       0        |        0.00%        |\n",
      "|       act_data_pkt_fwd       |  2830743   |       0        |        0.00%        |\n",
      "|     min_seg_size_forward     |  2830743   |       0        |        0.00%        |\n",
      "|         Active Mean          |  2830743   |       0        |        0.00%        |\n",
      "|          Active Std          |  2830743   |       0        |        0.00%        |\n",
      "|          Active Max          |  2830743   |       0        |        0.00%        |\n",
      "|          Active Min          |  2830743   |       0        |        0.00%        |\n",
      "|          Idle Mean           |  2830743   |       0        |        0.00%        |\n",
      "|           Idle Std           |  2830743   |       0        |        0.00%        |\n",
      "|           Idle Max           |  2830743   |       0        |        0.00%        |\n",
      "|           Idle Min           |  2830743   |       0        |        0.00%        |\n",
      "|             Label            |  2830743   |       0        |        0.00%        |\n",
      "+------------------------------+------------+----------------+---------------------+\n",
      "Columns with missing values: ['Flow Bytes/s', ' Flow Packets/s']\n"
     ]
    }
   ],
   "source": [
    "data = data.replace([-np.inf, np.inf], np.nan)\n",
    "missing_values(data)"
   ]
  },
  {
   "cell_type": "code",
   "execution_count": 12,
   "id": "399a7406-63ec-4593-91ea-dec37b9f7e61",
   "metadata": {},
   "outputs": [
    {
     "name": "stdout",
     "output_type": "stream",
     "text": [
      "+------------------------------+------------+----------------+---------------------+\n",
      "|            Column            | All Values | Missing Values | % of missing values |\n",
      "+------------------------------+------------+----------------+---------------------+\n",
      "|       Destination Port       |  2827876   |       0        |        0.00%        |\n",
      "|         Flow Duration        |  2827876   |       0        |        0.00%        |\n",
      "|       Total Fwd Packets      |  2827876   |       0        |        0.00%        |\n",
      "|    Total Backward Packets    |  2827876   |       0        |        0.00%        |\n",
      "| Total Length of Fwd Packets  |  2827876   |       0        |        0.00%        |\n",
      "|  Total Length of Bwd Packets |  2827876   |       0        |        0.00%        |\n",
      "|     Fwd Packet Length Max    |  2827876   |       0        |        0.00%        |\n",
      "|     Fwd Packet Length Min    |  2827876   |       0        |        0.00%        |\n",
      "|    Fwd Packet Length Mean    |  2827876   |       0        |        0.00%        |\n",
      "|     Fwd Packet Length Std    |  2827876   |       0        |        0.00%        |\n",
      "|    Bwd Packet Length Max     |  2827876   |       0        |        0.00%        |\n",
      "|     Bwd Packet Length Min    |  2827876   |       0        |        0.00%        |\n",
      "|    Bwd Packet Length Mean    |  2827876   |       0        |        0.00%        |\n",
      "|     Bwd Packet Length Std    |  2827876   |       0        |        0.00%        |\n",
      "|         Flow Bytes/s         |  2827876   |       0        |        0.00%        |\n",
      "|        Flow Packets/s        |  2827876   |       0        |        0.00%        |\n",
      "|         Flow IAT Mean        |  2827876   |       0        |        0.00%        |\n",
      "|         Flow IAT Std         |  2827876   |       0        |        0.00%        |\n",
      "|         Flow IAT Max         |  2827876   |       0        |        0.00%        |\n",
      "|         Flow IAT Min         |  2827876   |       0        |        0.00%        |\n",
      "|        Fwd IAT Total         |  2827876   |       0        |        0.00%        |\n",
      "|         Fwd IAT Mean         |  2827876   |       0        |        0.00%        |\n",
      "|          Fwd IAT Std         |  2827876   |       0        |        0.00%        |\n",
      "|          Fwd IAT Max         |  2827876   |       0        |        0.00%        |\n",
      "|          Fwd IAT Min         |  2827876   |       0        |        0.00%        |\n",
      "|        Bwd IAT Total         |  2827876   |       0        |        0.00%        |\n",
      "|         Bwd IAT Mean         |  2827876   |       0        |        0.00%        |\n",
      "|          Bwd IAT Std         |  2827876   |       0        |        0.00%        |\n",
      "|          Bwd IAT Max         |  2827876   |       0        |        0.00%        |\n",
      "|          Bwd IAT Min         |  2827876   |       0        |        0.00%        |\n",
      "|        Fwd PSH Flags         |  2827876   |       0        |        0.00%        |\n",
      "|         Bwd PSH Flags        |  2827876   |       0        |        0.00%        |\n",
      "|         Fwd URG Flags        |  2827876   |       0        |        0.00%        |\n",
      "|         Bwd URG Flags        |  2827876   |       0        |        0.00%        |\n",
      "|       Fwd Header Length      |  2827876   |       0        |        0.00%        |\n",
      "|       Bwd Header Length      |  2827876   |       0        |        0.00%        |\n",
      "|        Fwd Packets/s         |  2827876   |       0        |        0.00%        |\n",
      "|         Bwd Packets/s        |  2827876   |       0        |        0.00%        |\n",
      "|       Min Packet Length      |  2827876   |       0        |        0.00%        |\n",
      "|       Max Packet Length      |  2827876   |       0        |        0.00%        |\n",
      "|      Packet Length Mean      |  2827876   |       0        |        0.00%        |\n",
      "|       Packet Length Std      |  2827876   |       0        |        0.00%        |\n",
      "|    Packet Length Variance    |  2827876   |       0        |        0.00%        |\n",
      "|        FIN Flag Count        |  2827876   |       0        |        0.00%        |\n",
      "|        SYN Flag Count        |  2827876   |       0        |        0.00%        |\n",
      "|        RST Flag Count        |  2827876   |       0        |        0.00%        |\n",
      "|        PSH Flag Count        |  2827876   |       0        |        0.00%        |\n",
      "|        ACK Flag Count        |  2827876   |       0        |        0.00%        |\n",
      "|        URG Flag Count        |  2827876   |       0        |        0.00%        |\n",
      "|        CWE Flag Count        |  2827876   |       0        |        0.00%        |\n",
      "|        ECE Flag Count        |  2827876   |       0        |        0.00%        |\n",
      "|         Down/Up Ratio        |  2827876   |       0        |        0.00%        |\n",
      "|      Average Packet Size     |  2827876   |       0        |        0.00%        |\n",
      "|     Avg Fwd Segment Size     |  2827876   |       0        |        0.00%        |\n",
      "|     Avg Bwd Segment Size     |  2827876   |       0        |        0.00%        |\n",
      "|      Fwd Header Length.1     |  2827876   |       0        |        0.00%        |\n",
      "|      Fwd Avg Bytes/Bulk      |  2827876   |       0        |        0.00%        |\n",
      "|     Fwd Avg Packets/Bulk     |  2827876   |       0        |        0.00%        |\n",
      "|       Fwd Avg Bulk Rate      |  2827876   |       0        |        0.00%        |\n",
      "|      Bwd Avg Bytes/Bulk      |  2827876   |       0        |        0.00%        |\n",
      "|     Bwd Avg Packets/Bulk     |  2827876   |       0        |        0.00%        |\n",
      "|      Bwd Avg Bulk Rate       |  2827876   |       0        |        0.00%        |\n",
      "|     Subflow Fwd Packets      |  2827876   |       0        |        0.00%        |\n",
      "|       Subflow Fwd Bytes      |  2827876   |       0        |        0.00%        |\n",
      "|      Subflow Bwd Packets     |  2827876   |       0        |        0.00%        |\n",
      "|       Subflow Bwd Bytes      |  2827876   |       0        |        0.00%        |\n",
      "|    Init_Win_bytes_forward    |  2827876   |       0        |        0.00%        |\n",
      "|    Init_Win_bytes_backward   |  2827876   |       0        |        0.00%        |\n",
      "|       act_data_pkt_fwd       |  2827876   |       0        |        0.00%        |\n",
      "|     min_seg_size_forward     |  2827876   |       0        |        0.00%        |\n",
      "|         Active Mean          |  2827876   |       0        |        0.00%        |\n",
      "|          Active Std          |  2827876   |       0        |        0.00%        |\n",
      "|          Active Max          |  2827876   |       0        |        0.00%        |\n",
      "|          Active Min          |  2827876   |       0        |        0.00%        |\n",
      "|          Idle Mean           |  2827876   |       0        |        0.00%        |\n",
      "|           Idle Std           |  2827876   |       0        |        0.00%        |\n",
      "|           Idle Max           |  2827876   |       0        |        0.00%        |\n",
      "|           Idle Min           |  2827876   |       0        |        0.00%        |\n",
      "|             Label            |  2827876   |       0        |        0.00%        |\n",
      "+------------------------------+------------+----------------+---------------------+\n"
     ]
    }
   ],
   "source": [
    "data.dropna(inplace=True)\n",
    "missing_values(data)"
   ]
  },
  {
   "cell_type": "code",
   "execution_count": 13,
   "id": "f21198d9-c05f-4244-b3ab-5bdd2db486e2",
   "metadata": {},
   "outputs": [],
   "source": [
    "label = data[' Label'].value_counts().index.tolist()\n",
    "count = data[' Label'].value_counts()"
   ]
  },
  {
   "cell_type": "code",
   "execution_count": 14,
   "id": "2e69f1fc-379a-4a38-b6d6-d532a722631e",
   "metadata": {},
   "outputs": [
    {
     "data": {
      "text/plain": [
       "['BENIGN',\n",
       " 'DoS Hulk',\n",
       " 'PortScan',\n",
       " 'DDoS',\n",
       " 'DoS GoldenEye',\n",
       " 'FTP-Patator',\n",
       " 'SSH-Patator',\n",
       " 'DoS slowloris',\n",
       " 'DoS Slowhttptest',\n",
       " 'Bot',\n",
       " 'Web Attack � Brute Force',\n",
       " 'Web Attack � XSS',\n",
       " 'Infiltration',\n",
       " 'Web Attack � Sql Injection',\n",
       " 'Heartbleed']"
      ]
     },
     "execution_count": 14,
     "metadata": {},
     "output_type": "execute_result"
    }
   ],
   "source": [
    "label"
   ]
  },
  {
   "cell_type": "code",
   "execution_count": 15,
   "id": "2a8b9c2c-7574-42df-ab08-8135c16669be",
   "metadata": {},
   "outputs": [
    {
     "data": {
      "text/plain": [
       " Label\n",
       "BENIGN                        2271320\n",
       "DoS Hulk                       230124\n",
       "PortScan                       158804\n",
       "DDoS                           128025\n",
       "DoS GoldenEye                   10293\n",
       "FTP-Patator                      7935\n",
       "SSH-Patator                      5897\n",
       "DoS slowloris                    5796\n",
       "DoS Slowhttptest                 5499\n",
       "Bot                              1956\n",
       "Web Attack � Brute Force         1507\n",
       "Web Attack � XSS                  652\n",
       "Infiltration                       36\n",
       "Web Attack � Sql Injection         21\n",
       "Heartbleed                         11\n",
       "Name: count, dtype: int64"
      ]
     },
     "execution_count": 15,
     "metadata": {},
     "output_type": "execute_result"
    }
   ],
   "source": [
    "count"
   ]
  },
  {
   "cell_type": "code",
   "execution_count": 16,
   "id": "2431301b-41c7-4597-ab2a-544d7e088b90",
   "metadata": {},
   "outputs": [
    {
     "data": {
      "image/png": "[encoded data removed]",
      "text/plain": [
       "<Figure size 1000x1000 with 1 Axes>"
      ]
     },
     "metadata": {},
     "output_type": "display_data"
    }
   ],
   "source": [
    "hist_plot(label, count)"
   ]
  },
  {
   "cell_type": "code",
   "execution_count": 17,
   "id": "a0dae5c2-c27d-4986-8e23-ae832c0e202c",
   "metadata": {},
   "outputs": [
    {
     "data": {
      "image/png": "[encoded data removed]",
      "text/plain": [
       "<Figure size 1000x1000 with 1 Axes>"
      ]
     },
     "metadata": {},
     "output_type": "display_data"
    }
   ],
   "source": [
    "attack_plot(label, count)"
   ]
  },
  {
   "cell_type": "markdown",
   "id": "7b72b4c9-abf3-4a4a-80db-385bb30ee721",
   "metadata": {},
   "source": [
    "# 4. Prepare data"
   ]
  },
  {
   "cell_type": "code",
   "execution_count": 18,
   "id": "67ee977d-f73a-4629-ace8-604fb16b3c48",
   "metadata": {},
   "outputs": [],
   "source": [
    "X = data.drop([' Label'], axis=1)\n",
    "y = data[' Label']"
   ]
  },
  {
   "cell_type": "code",
   "execution_count": 19,
   "id": "b2340347-5273-4dbc-be5d-e280a6e81f70",
   "metadata": {},
   "outputs": [
    {
     "data": {
      "text/html": [
       "<div>\n",
       "<style scoped>\n",
       "    .dataframe tbody tr th:only-of-type {\n",
       "        vertical-align: middle;\n",
       "    }\n",
       "\n",
       "    .dataframe tbody tr th {\n",
       "        vertical-align: top;\n",
       "    }\n",
       "\n",
       "    .dataframe thead th {\n",
       "        text-align: right;\n",
       "    }\n",
       "</style>\n",
       "<table border=\"1\" class=\"dataframe\">\n",
       "  <thead>\n",
       "    <tr style=\"text-align: right;\">\n",
       "      <th></th>\n",
       "      <th>Destination Port</th>\n",
       "      <th>Flow Duration</th>\n",
       "      <th>Total Fwd Packets</th>\n",
       "      <th>Total Backward Packets</th>\n",
       "      <th>Total Length of Fwd Packets</th>\n",
       "      <th>Total Length of Bwd Packets</th>\n",
       "      <th>Fwd Packet Length Max</th>\n",
       "      <th>Fwd Packet Length Min</th>\n",
       "      <th>Fwd Packet Length Mean</th>\n",
       "      <th>Fwd Packet Length Std</th>\n",
       "      <th>...</th>\n",
       "      <th>act_data_pkt_fwd</th>\n",
       "      <th>min_seg_size_forward</th>\n",
       "      <th>Active Mean</th>\n",
       "      <th>Active Std</th>\n",
       "      <th>Active Max</th>\n",
       "      <th>Active Min</th>\n",
       "      <th>Idle Mean</th>\n",
       "      <th>Idle Std</th>\n",
       "      <th>Idle Max</th>\n",
       "      <th>Idle Min</th>\n",
       "    </tr>\n",
       "  </thead>\n",
       "  <tbody>\n",
       "    <tr>\n",
       "      <th>0</th>\n",
       "      <td>49188</td>\n",
       "      <td>4</td>\n",
       "      <td>2</td>\n",
       "      <td>0</td>\n",
       "      <td>12</td>\n",
       "      <td>0</td>\n",
       "      <td>6</td>\n",
       "      <td>6</td>\n",
       "      <td>6.0</td>\n",
       "      <td>0.0</td>\n",
       "      <td>...</td>\n",
       "      <td>1</td>\n",
       "      <td>20</td>\n",
       "      <td>0.0</td>\n",
       "      <td>0.0</td>\n",
       "      <td>0</td>\n",
       "      <td>0</td>\n",
       "      <td>0.0</td>\n",
       "      <td>0.0</td>\n",
       "      <td>0</td>\n",
       "      <td>0</td>\n",
       "    </tr>\n",
       "    <tr>\n",
       "      <th>1</th>\n",
       "      <td>49188</td>\n",
       "      <td>1</td>\n",
       "      <td>2</td>\n",
       "      <td>0</td>\n",
       "      <td>12</td>\n",
       "      <td>0</td>\n",
       "      <td>6</td>\n",
       "      <td>6</td>\n",
       "      <td>6.0</td>\n",
       "      <td>0.0</td>\n",
       "      <td>...</td>\n",
       "      <td>1</td>\n",
       "      <td>20</td>\n",
       "      <td>0.0</td>\n",
       "      <td>0.0</td>\n",
       "      <td>0</td>\n",
       "      <td>0</td>\n",
       "      <td>0.0</td>\n",
       "      <td>0.0</td>\n",
       "      <td>0</td>\n",
       "      <td>0</td>\n",
       "    </tr>\n",
       "    <tr>\n",
       "      <th>2</th>\n",
       "      <td>49188</td>\n",
       "      <td>1</td>\n",
       "      <td>2</td>\n",
       "      <td>0</td>\n",
       "      <td>12</td>\n",
       "      <td>0</td>\n",
       "      <td>6</td>\n",
       "      <td>6</td>\n",
       "      <td>6.0</td>\n",
       "      <td>0.0</td>\n",
       "      <td>...</td>\n",
       "      <td>1</td>\n",
       "      <td>20</td>\n",
       "      <td>0.0</td>\n",
       "      <td>0.0</td>\n",
       "      <td>0</td>\n",
       "      <td>0</td>\n",
       "      <td>0.0</td>\n",
       "      <td>0.0</td>\n",
       "      <td>0</td>\n",
       "      <td>0</td>\n",
       "    </tr>\n",
       "    <tr>\n",
       "      <th>3</th>\n",
       "      <td>49188</td>\n",
       "      <td>1</td>\n",
       "      <td>2</td>\n",
       "      <td>0</td>\n",
       "      <td>12</td>\n",
       "      <td>0</td>\n",
       "      <td>6</td>\n",
       "      <td>6</td>\n",
       "      <td>6.0</td>\n",
       "      <td>0.0</td>\n",
       "      <td>...</td>\n",
       "      <td>1</td>\n",
       "      <td>20</td>\n",
       "      <td>0.0</td>\n",
       "      <td>0.0</td>\n",
       "      <td>0</td>\n",
       "      <td>0</td>\n",
       "      <td>0.0</td>\n",
       "      <td>0.0</td>\n",
       "      <td>0</td>\n",
       "      <td>0</td>\n",
       "    </tr>\n",
       "    <tr>\n",
       "      <th>4</th>\n",
       "      <td>49486</td>\n",
       "      <td>3</td>\n",
       "      <td>2</td>\n",
       "      <td>0</td>\n",
       "      <td>12</td>\n",
       "      <td>0</td>\n",
       "      <td>6</td>\n",
       "      <td>6</td>\n",
       "      <td>6.0</td>\n",
       "      <td>0.0</td>\n",
       "      <td>...</td>\n",
       "      <td>1</td>\n",
       "      <td>20</td>\n",
       "      <td>0.0</td>\n",
       "      <td>0.0</td>\n",
       "      <td>0</td>\n",
       "      <td>0</td>\n",
       "      <td>0.0</td>\n",
       "      <td>0.0</td>\n",
       "      <td>0</td>\n",
       "      <td>0</td>\n",
       "    </tr>\n",
       "  </tbody>\n",
       "</table>\n",
       "<p>5 rows × 78 columns</p>\n",
       "</div>"
      ],
      "text/plain": [
       "    Destination Port   Flow Duration   Total Fwd Packets  \\\n",
       "0              49188               4                   2   \n",
       "1              49188               1                   2   \n",
       "2              49188               1                   2   \n",
       "3              49188               1                   2   \n",
       "4              49486               3                   2   \n",
       "\n",
       "    Total Backward Packets  Total Length of Fwd Packets  \\\n",
       "0                        0                           12   \n",
       "1                        0                           12   \n",
       "2                        0                           12   \n",
       "3                        0                           12   \n",
       "4                        0                           12   \n",
       "\n",
       "    Total Length of Bwd Packets   Fwd Packet Length Max  \\\n",
       "0                             0                       6   \n",
       "1                             0                       6   \n",
       "2                             0                       6   \n",
       "3                             0                       6   \n",
       "4                             0                       6   \n",
       "\n",
       "    Fwd Packet Length Min   Fwd Packet Length Mean   Fwd Packet Length Std  \\\n",
       "0                       6                      6.0                     0.0   \n",
       "1                       6                      6.0                     0.0   \n",
       "2                       6                      6.0                     0.0   \n",
       "3                       6                      6.0                     0.0   \n",
       "4                       6                      6.0                     0.0   \n",
       "\n",
       "   ...   act_data_pkt_fwd   min_seg_size_forward  Active Mean   Active Std  \\\n",
       "0  ...                  1                     20          0.0          0.0   \n",
       "1  ...                  1                     20          0.0          0.0   \n",
       "2  ...                  1                     20          0.0          0.0   \n",
       "3  ...                  1                     20          0.0          0.0   \n",
       "4  ...                  1                     20          0.0          0.0   \n",
       "\n",
       "    Active Max   Active Min  Idle Mean   Idle Std   Idle Max   Idle Min  \n",
       "0            0            0        0.0        0.0          0          0  \n",
       "1            0            0        0.0        0.0          0          0  \n",
       "2            0            0        0.0        0.0          0          0  \n",
       "3            0            0        0.0        0.0          0          0  \n",
       "4            0            0        0.0        0.0          0          0  \n",
       "\n",
       "[5 rows x 78 columns]"
      ]
     },
     "execution_count": 19,
     "metadata": {},
     "output_type": "execute_result"
    }
   ],
   "source": [
    "X.head()"
   ]
  },
  {
   "cell_type": "code",
   "execution_count": 20,
   "id": "0f28b752-cba0-40a8-b6f3-40cfb9c48ba0",
   "metadata": {},
   "outputs": [],
   "source": [
    "X.drop([' Fwd Header Length.1', 'Fwd Avg Bytes/Bulk', ' Fwd Avg Packets/Bulk',\n",
    "       ' Fwd Avg Bulk Rate', ' Bwd Avg Bytes/Bulk', ' Bwd Avg Packets/Bulk',\n",
    "       'Bwd Avg Bulk Rate', 'Subflow Fwd Packets', ' Subflow Fwd Bytes',\n",
    "       ' Subflow Bwd Packets', ' Subflow Bwd Bytes', 'Init_Win_bytes_forward',\n",
    "       ' Init_Win_bytes_backward', ' act_data_pkt_fwd',\n",
    "       ' min_seg_size_forward', 'Active Mean', ' Active Std', ' Active Max',\n",
    "       ' Active Min', 'Idle Mean', ' Idle Std', ' Idle Max', ' Idle Min'], axis=1, inplace=True)"
   ]
  },
  {
   "cell_type": "code",
   "execution_count": 21,
   "id": "a6e87e7b-f715-43b7-a879-2611358e663e",
   "metadata": {},
   "outputs": [
    {
     "data": {
      "text/plain": [
       "array(['BENIGN', 'FTP-Patator', 'SSH-Patator', 'DoS slowloris',\n",
       "       'DoS Slowhttptest', 'DoS Hulk', 'DoS GoldenEye', 'Heartbleed',\n",
       "       'Web Attack � Brute Force', 'Web Attack � XSS',\n",
       "       'Web Attack � Sql Injection', 'Infiltration', 'DDoS', 'Bot',\n",
       "       'PortScan'], dtype=object)"
      ]
     },
     "execution_count": 21,
     "metadata": {},
     "output_type": "execute_result"
    }
   ],
   "source": [
    "y.unique()"
   ]
  },
  {
   "cell_type": "code",
   "execution_count": 22,
   "id": "9557e1ec-6d00-44f0-81df-7adf4cc5256e",
   "metadata": {},
   "outputs": [
    {
     "data": {
      "text/plain": [
       "15"
      ]
     },
     "execution_count": 22,
     "metadata": {},
     "output_type": "execute_result"
    }
   ],
   "source": [
    "len(y.unique())"
   ]
  },
  {
   "cell_type": "markdown",
   "id": "c286cd03-f18d-464f-a3ae-337905c47fb2",
   "metadata": {},
   "source": [
    "## 4.1 Data Normalization"
   ]
  },
  {
   "cell_type": "code",
   "execution_count": 23,
   "id": "063c7d91-e296-4416-ae99-c54ef3542fe2",
   "metadata": {},
   "outputs": [],
   "source": [
    "scaler = StandardScaler()\n",
    "X = scaler.fit_transform(X)"
   ]
  },
  {
   "cell_type": "code",
   "execution_count": 24,
   "id": "c71cb2e2-d0cd-4a3c-8c4b-e8b0ac8a3a7c",
   "metadata": {},
   "outputs": [
    {
     "data": {
      "text/plain": [
       "array([[ 2.25050642, -0.43961241, -0.00982461, ..., -0.55176329,\n",
       "        -0.28068619, -0.50580489],\n",
       "       [ 2.25050642, -0.4396125 , -0.00982461, ..., -0.55176329,\n",
       "        -0.28068619, -0.50580489],\n",
       "       [ 2.25050642, -0.4396125 , -0.00982461, ..., -0.55176329,\n",
       "        -0.28068619, -0.50580489],\n",
       "       ...,\n",
       "       [-0.41689841, -0.4348067 ,  0.08083571, ...,  3.20529322,\n",
       "        -0.20341564,  2.95612101],\n",
       "       [-0.41689841, -0.43536915,  0.05417091, ...,  2.42039836,\n",
       "        -0.16992918,  2.42932349],\n",
       "       [-0.41689841, -0.43406035,  0.04883795, ...,  2.38568705,\n",
       "        -0.15889691,  2.39310164]], shape=(2827876, 55))"
      ]
     },
     "execution_count": 24,
     "metadata": {},
     "output_type": "execute_result"
    }
   ],
   "source": [
    "X"
   ]
  },
  {
   "cell_type": "markdown",
   "id": "46c8dbcc-45a5-4eae-83de-d3525c826f20",
   "metadata": {},
   "source": [
    "## 4.2 Encode data"
   ]
  },
  {
   "cell_type": "code",
   "execution_count": 25,
   "id": "923df8e2-af4e-4064-aba5-9b2dcd8fb61a",
   "metadata": {},
   "outputs": [],
   "source": [
    "onehotencoder = OneHotEncoder()\n",
    "y = y.values.reshape(-1, 1)\n",
    "y = onehotencoder.fit_transform(y).toarray()\n",
    "y = y[:, 0]"
   ]
  },
  {
   "cell_type": "code",
   "execution_count": 26,
   "id": "c72543e2-5ce9-4308-9cc2-883fa8427045",
   "metadata": {},
   "outputs": [
    {
     "data": {
      "text/plain": [
       "array([1., 1., 1., ..., 1., 1., 1.], shape=(2827876,))"
      ]
     },
     "execution_count": 26,
     "metadata": {},
     "output_type": "execute_result"
    }
   ],
   "source": [
    "y"
   ]
  },
  {
   "cell_type": "markdown",
   "id": "2ef9086a-4a35-462c-88d6-7061de8a7102",
   "metadata": {},
   "source": [
    "## 4.3 Principal component analysis"
   ]
  },
  {
   "cell_type": "code",
   "execution_count": 26,
   "id": "fbe794ef-3174-4b51-aeaa-907f64c57619",
   "metadata": {},
   "outputs": [
    {
     "name": "stdout",
     "output_type": "stream",
     "text": [
      "CPU times: user 5.24 s, sys: 212 ms, total: 5.45 s\n",
      "Wall time: 1.36 s\n"
     ]
    }
   ],
   "source": [
    "%%time\n",
    "num_components = 10\n",
    "pca = PCA(n_components=num_components)\n",
    "X_pca = pca.fit_transform(X)\n",
    "feature_selector = SelectKBest(score_func=f_classif, k='all')\n",
    "X = feature_selector.fit_transform(X_pca, y)\n",
    "X = X.reshape(X.shape[0], num_components, 1)"
   ]
  },
  {
   "cell_type": "markdown",
   "id": "214f862c-8035-4795-82d2-c024fbaf070a",
   "metadata": {},
   "source": [
    "## 4.4 Save data"
   ]
  },
  {
   "cell_type": "code",
   "execution_count": 27,
   "id": "c9d53f1b-428b-42b1-bfc7-7d9880af4318",
   "metadata": {},
   "outputs": [],
   "source": [
    "np.save('../datasets/CIC_IDS_2017/prepared_train_data.npy', X)\n",
    "np.save('../datasets/CIC_IDS_2017/prepared_train_labels.npy', y)"
   ]
  },
  {
   "cell_type": "markdown",
   "id": "66b08a0b-f203-445b-9324-fd8092c555de",
   "metadata": {},
   "source": [
    "## 4.5 Load data"
   ]
  },
  {
   "cell_type": "code",
   "execution_count": 28,
   "id": "b10416a1-71b8-4df3-94f5-bb5ebfc51179",
   "metadata": {},
   "outputs": [],
   "source": [
    "X = np.load('../datasets/CIC_IDS_2017/prepared_train_data.npy')\n",
    "y = np.load('../datasets/CIC_IDS_2017/prepared_train_labels.npy')"
   ]
  },
  {
   "cell_type": "code",
   "execution_count": 41,
   "id": "ce7e46ce-014c-4b57-a30c-5e0002a79ba3",
   "metadata": {},
   "outputs": [
    {
     "data": {
      "text/plain": [
       "array([[ 2.25050642, -0.43961241, -0.00982461, ..., -0.55176329,\n",
       "        -0.28068619, -0.50580489],\n",
       "       [ 2.25050642, -0.4396125 , -0.00982461, ..., -0.55176329,\n",
       "        -0.28068619, -0.50580489],\n",
       "       [ 2.25050642, -0.4396125 , -0.00982461, ..., -0.55176329,\n",
       "        -0.28068619, -0.50580489],\n",
       "       ...,\n",
       "       [-0.41689841, -0.4348067 ,  0.08083571, ...,  3.20529322,\n",
       "        -0.20341564,  2.95612101],\n",
       "       [-0.41689841, -0.43536915,  0.05417091, ...,  2.42039836,\n",
       "        -0.16992918,  2.42932349],\n",
       "       [-0.41689841, -0.43406035,  0.04883795, ...,  2.38568705,\n",
       "        -0.15889691,  2.39310164]], shape=(2827876, 55))"
      ]
     },
     "execution_count": 41,
     "metadata": {},
     "output_type": "execute_result"
    }
   ],
   "source": [
    "X"
   ]
  },
  {
   "cell_type": "code",
   "execution_count": 42,
   "id": "89bf3564-fea8-4930-8391-36d59cd7fece",
   "metadata": {},
   "outputs": [
    {
     "data": {
      "text/plain": [
       "array([1., 1., 1., ..., 1., 1., 1.], shape=(2827876,))"
      ]
     },
     "execution_count": 42,
     "metadata": {},
     "output_type": "execute_result"
    }
   ],
   "source": [
    "y"
   ]
  },
  {
   "cell_type": "markdown",
   "id": "04d8ee6c-f2ad-4b8e-89f9-bd289a8061ef",
   "metadata": {},
   "source": [
    "# 5. Create a model\n",
    "\n",
    "Testing these models:\n",
    "1. K Nearest Neighbour\n",
    "2. Random Forest\n",
    "3. Gradient Boost:\n",
    "    * XGBoost;\n",
    "    * CatBoost;\n",
    "    * LightGBM.\n",
    "4. Support Vector Machine;\n",
    "5. Neural Network."
   ]
  },
  {
   "cell_type": "code",
   "execution_count": 27,
   "id": "0a8223e9-daf2-4a14-ae09-4eca3b6bfd25",
   "metadata": {},
   "outputs": [],
   "source": [
    "results_dict = {}"
   ]
  },
  {
   "cell_type": "code",
   "execution_count": 29,
   "id": "56e2c99c-4d7b-4600-8c27-4c29bbc85c38",
   "metadata": {},
   "outputs": [
    {
     "name": "stdout",
     "output_type": "stream",
     "text": [
      "CPU times: user 1.33 s, sys: 72.6 ms, total: 1.41 s\n",
      "Wall time: 1.41 s\n"
     ]
    },
    {
     "data": {
      "text/plain": [
       "((2403694, 55), (2403694,), (424182, 55), (424182,))"
      ]
     },
     "execution_count": 29,
     "metadata": {},
     "output_type": "execute_result"
    }
   ],
   "source": [
    "%%time\n",
    "\n",
    "X_train, X_test, y_train, y_test = train_test_split(X, y, test_size=0.15)\n",
    "X_train = X_train.reshape(X_train.shape[0], X_train.shape[1])\n",
    "X_test = X_test.reshape(X_test.shape[0], X_test.shape[1])\n",
    "X_train.shape, y_train.shape, X_test.shape, y_test.shape"
   ]
  },
  {
   "cell_type": "markdown",
   "id": "0a5ef2ec-0829-4b4b-9a11-5415cbfc1a59",
   "metadata": {},
   "source": [
    "## 5.1. K Nearest Neighbour"
   ]
  },
  {
   "cell_type": "code",
   "execution_count": null,
   "id": "113c32db-76f6-405b-8a75-8e40315422c3",
   "metadata": {},
   "outputs": [],
   "source": [
    "%%time\n",
    "\n",
    "knn_clf = KNeighborsClassifier()\n",
    "knn_clf.fit(X_train, y_train)\n",
    "y_pred = knn_clf.predict(X_test)"
   ]
  },
  {
   "cell_type": "code",
   "execution_count": null,
   "id": "493593bc-b14c-478d-9952-afeddd866aed",
   "metadata": {},
   "outputs": [],
   "source": [
    "visualize_CM(confusion_matrix(y_test, y_pred))"
   ]
  },
  {
   "cell_type": "code",
   "execution_count": null,
   "id": "14ae04a3-f47e-41b0-b3f2-f2b061f6a971",
   "metadata": {},
   "outputs": [],
   "source": [
    "accuracy = accuracy_score(y_true=y_test, y_pred=y_pred)\n",
    "precision = precision_score(y_true=y_test, y_pred=y_pred, average=\"weighted\")\n",
    "f1 = f1_score(y_true=y_test, y_pred=y_pred, average=\"weighted\")\n",
    "recall = recall_score(y_true=y_test, y_pred=y_pred, average=\"weighted\")\n",
    "mae = mean_absolute_error(y_true=y_test,y_pred=y_pred)\n",
    "mse = mean_squared_error(y_true=y_test,y_pred=y_pred) \n",
    "rmse = root_mean_squared_error(y_true=y_test,y_pred=y_pred)"
   ]
  },
  {
   "cell_type": "code",
   "execution_count": null,
   "id": "cca960b5-d323-40c1-9832-309485839208",
   "metadata": {},
   "outputs": [],
   "source": [
    "results = [accuracy, precision, f1, recall, mae, mse, rmse]\n",
    "results_dict[\"KNN\"] = results"
   ]
  },
  {
   "cell_type": "code",
   "execution_count": null,
   "id": "3f35c939-1163-48a7-8880-9664fe4e0813",
   "metadata": {},
   "outputs": [],
   "source": [
    "pd.DataFrame.from_dict(results_dict, orient=\"index\", columns=[\"Accuracy\", \"Precision\", \"F1\", \"Recall\", \"MAE\", \"MSE\", \"RMSE\"])"
   ]
  },
  {
   "cell_type": "code",
   "execution_count": 72,
   "id": "6e933547-c9ef-4a86-934f-87af535ddaa2",
   "metadata": {},
   "outputs": [],
   "source": [
    "with open('knn_clf.pkl', 'wb') as f:\n",
    "    pickle.dump(knn_clf, f)"
   ]
  },
  {
   "cell_type": "markdown",
   "id": "7b2e92a5-0035-4772-9922-79b876b262f6",
   "metadata": {},
   "source": [
    "## 5.2. Random Forest"
   ]
  },
  {
   "cell_type": "code",
   "execution_count": 38,
   "id": "c16114ba-5f32-496a-bfad-50b183a2d39f",
   "metadata": {},
   "outputs": [
    {
     "name": "stdout",
     "output_type": "stream",
     "text": [
      "CPU times: user 36min 30s, sys: 8.05 s, total: 36min 38s\n",
      "Wall time: 5min 16s\n"
     ]
    }
   ],
   "source": [
    "%%time\n",
    "\n",
    "rf_clf = RandomForestClassifier(n_jobs=8)\n",
    "rf_clf.fit(X_train, y_train)\n",
    "y_pred = rf_clf.predict(X_test)"
   ]
  },
  {
   "cell_type": "code",
   "execution_count": 39,
   "id": "a734b1d1-452a-4773-bf2f-7018121b2985",
   "metadata": {},
   "outputs": [
    {
     "data": {
      "image/png": "[encoded data removed]",
      "text/plain": [
       "<Figure size 640x480 with 2 Axes>"
      ]
     },
     "metadata": {},
     "output_type": "display_data"
    }
   ],
   "source": [
    "visualize_CM(confusion_matrix(y_test, y_pred))"
   ]
  },
  {
   "cell_type": "code",
   "execution_count": 40,
   "id": "e0757187-ba4c-4f9a-b0bb-965739d921d9",
   "metadata": {},
   "outputs": [],
   "source": [
    "accuracy = accuracy_score(y_true=y_test, y_pred=y_pred)\n",
    "precision = precision_score(y_true=y_test, y_pred=y_pred, average=\"weighted\")\n",
    "f1 = f1_score(y_true=y_test, y_pred=y_pred, average=\"weighted\")\n",
    "recall = recall_score(y_true=y_test, y_pred=y_pred, average=\"weighted\")\n",
    "mae = mean_absolute_error(y_true=y_test,y_pred=y_pred)\n",
    "mse = mean_squared_error(y_true=y_test,y_pred=y_pred) \n",
    "rmse = root_mean_squared_error(y_true=y_test,y_pred=y_pred)"
   ]
  },
  {
   "cell_type": "code",
   "execution_count": 41,
   "id": "5d092705-fa5b-4b9b-98e1-6b5dd27b4cca",
   "metadata": {},
   "outputs": [],
   "source": [
    "results = [accuracy, precision, f1, recall, mae, mse, rmse]\n",
    "results_dict[\"RF\"] = results"
   ]
  },
  {
   "cell_type": "code",
   "execution_count": 42,
   "id": "a26175bc-cc92-4af4-91a2-49f15fe79fb2",
   "metadata": {},
   "outputs": [
    {
     "data": {
      "text/html": [
       "<div>\n",
       "<style scoped>\n",
       "    .dataframe tbody tr th:only-of-type {\n",
       "        vertical-align: middle;\n",
       "    }\n",
       "\n",
       "    .dataframe tbody tr th {\n",
       "        vertical-align: top;\n",
       "    }\n",
       "\n",
       "    .dataframe thead th {\n",
       "        text-align: right;\n",
       "    }\n",
       "</style>\n",
       "<table border=\"1\" class=\"dataframe\">\n",
       "  <thead>\n",
       "    <tr style=\"text-align: right;\">\n",
       "      <th></th>\n",
       "      <th>Accuracy</th>\n",
       "      <th>Precision</th>\n",
       "      <th>F1</th>\n",
       "      <th>Recall</th>\n",
       "      <th>MAE</th>\n",
       "      <th>MSE</th>\n",
       "      <th>RMSE</th>\n",
       "    </tr>\n",
       "  </thead>\n",
       "  <tbody>\n",
       "    <tr>\n",
       "      <th>KNN</th>\n",
       "      <td>0.996900</td>\n",
       "      <td>0.996908</td>\n",
       "      <td>0.996903</td>\n",
       "      <td>0.996900</td>\n",
       "      <td>0.003100</td>\n",
       "      <td>0.003100</td>\n",
       "      <td>0.055678</td>\n",
       "    </tr>\n",
       "    <tr>\n",
       "      <th>RF</th>\n",
       "      <td>0.998677</td>\n",
       "      <td>0.998677</td>\n",
       "      <td>0.998677</td>\n",
       "      <td>0.998677</td>\n",
       "      <td>0.001323</td>\n",
       "      <td>0.001323</td>\n",
       "      <td>0.036367</td>\n",
       "    </tr>\n",
       "  </tbody>\n",
       "</table>\n",
       "</div>"
      ],
      "text/plain": [
       "     Accuracy  Precision        F1    Recall       MAE       MSE      RMSE\n",
       "KNN  0.996900   0.996908  0.996903  0.996900  0.003100  0.003100  0.055678\n",
       "RF   0.998677   0.998677  0.998677  0.998677  0.001323  0.001323  0.036367"
      ]
     },
     "execution_count": 42,
     "metadata": {},
     "output_type": "execute_result"
    }
   ],
   "source": [
    "pd.DataFrame.from_dict(results_dict, orient=\"index\", columns=[\"Accuracy\", \"Precision\", \"F1\", \"Recall\", \"MAE\", \"MSE\", \"RMSE\"])"
   ]
  },
  {
   "cell_type": "code",
   "execution_count": 71,
   "id": "736f0103-95ea-4ea1-b037-6f8b5e8ec8b8",
   "metadata": {},
   "outputs": [],
   "source": [
    "with open('rf_clf.pkl', 'wb') as f:\n",
    "    pickle.dump(rf_clf, f)"
   ]
  },
  {
   "cell_type": "markdown",
   "id": "6a070ede-87e9-423e-a485-f7e0d9abb5b9",
   "metadata": {},
   "source": [
    "## 5.3. XGBoost"
   ]
  },
  {
   "cell_type": "code",
   "execution_count": 30,
   "id": "73f9c0ea-6d78-4fbb-9604-03454d205d20",
   "metadata": {},
   "outputs": [
    {
     "name": "stdout",
     "output_type": "stream",
     "text": [
      "CPU times: user 1min 41s, sys: 256 ms, total: 1min 42s\n",
      "Wall time: 13.8 s\n"
     ]
    }
   ],
   "source": [
    "%%time\n",
    "\n",
    "xgb_clf = xgb.XGBClassifier()\n",
    "xgb_clf.fit(X_train, y_train)\n",
    "y_pred = xgb_clf.predict(X_test)"
   ]
  },
  {
   "cell_type": "code",
   "execution_count": 31,
   "id": "3d682997-f460-4b60-ae70-92a77f9d5fd8",
   "metadata": {},
   "outputs": [
    {
     "data": {
      "image/png": "[encoded data removed]",
      "text/plain": [
       "<Figure size 640x480 with 2 Axes>"
      ]
     },
     "metadata": {},
     "output_type": "display_data"
    }
   ],
   "source": [
    "visualize_CM(confusion_matrix(y_test, y_pred))"
   ]
  },
  {
   "cell_type": "code",
   "execution_count": 32,
   "id": "ca0eea4c-abc7-414c-b5a1-aae2e3df79d5",
   "metadata": {},
   "outputs": [],
   "source": [
    "accuracy = accuracy_score(y_true=y_test, y_pred=y_pred)\n",
    "precision = precision_score(y_true=y_test, y_pred=y_pred, average=\"weighted\")\n",
    "f1 = f1_score(y_true=y_test, y_pred=y_pred, average=\"weighted\")\n",
    "recall = recall_score(y_true=y_test, y_pred=y_pred, average=\"weighted\")\n",
    "mae = mean_absolute_error(y_true=y_test,y_pred=y_pred)\n",
    "mse = mean_squared_error(y_true=y_test,y_pred=y_pred) \n",
    "rmse = root_mean_squared_error(y_true=y_test,y_pred=y_pred)"
   ]
  },
  {
   "cell_type": "code",
   "execution_count": 33,
   "id": "a071c0a7-a9b6-4fbc-bece-b87f73de55b9",
   "metadata": {},
   "outputs": [],
   "source": [
    "results = [accuracy, precision, f1, recall, mae, mse, rmse]\n",
    "results_dict[\"XGBoost\"] = results"
   ]
  },
  {
   "cell_type": "code",
   "execution_count": 34,
   "id": "e7046f3c-a5c5-4682-811c-da0ed214c42d",
   "metadata": {},
   "outputs": [
    {
     "data": {
      "text/html": [
       "<div>\n",
       "<style scoped>\n",
       "    .dataframe tbody tr th:only-of-type {\n",
       "        vertical-align: middle;\n",
       "    }\n",
       "\n",
       "    .dataframe tbody tr th {\n",
       "        vertical-align: top;\n",
       "    }\n",
       "\n",
       "    .dataframe thead th {\n",
       "        text-align: right;\n",
       "    }\n",
       "</style>\n",
       "<table border=\"1\" class=\"dataframe\">\n",
       "  <thead>\n",
       "    <tr style=\"text-align: right;\">\n",
       "      <th></th>\n",
       "      <th>Accuracy</th>\n",
       "      <th>Precision</th>\n",
       "      <th>F1</th>\n",
       "      <th>Recall</th>\n",
       "      <th>MAE</th>\n",
       "      <th>MSE</th>\n",
       "      <th>RMSE</th>\n",
       "    </tr>\n",
       "  </thead>\n",
       "  <tbody>\n",
       "    <tr>\n",
       "      <th>XGBoost</th>\n",
       "      <td>0.9981</td>\n",
       "      <td>0.998102</td>\n",
       "      <td>0.998101</td>\n",
       "      <td>0.9981</td>\n",
       "      <td>0.0019</td>\n",
       "      <td>0.0019</td>\n",
       "      <td>0.04359</td>\n",
       "    </tr>\n",
       "  </tbody>\n",
       "</table>\n",
       "</div>"
      ],
      "text/plain": [
       "         Accuracy  Precision        F1  Recall     MAE     MSE     RMSE\n",
       "XGBoost    0.9981   0.998102  0.998101  0.9981  0.0019  0.0019  0.04359"
      ]
     },
     "execution_count": 34,
     "metadata": {},
     "output_type": "execute_result"
    }
   ],
   "source": [
    "pd.DataFrame.from_dict(results_dict, orient=\"index\", columns=[\"Accuracy\", \"Precision\", \"F1\", \"Recall\", \"MAE\", \"MSE\", \"RMSE\"])"
   ]
  },
  {
   "cell_type": "code",
   "execution_count": 37,
   "id": "3f1b81f5-bd8e-4cbd-b3bc-e376b1e480d0",
   "metadata": {},
   "outputs": [
    {
     "name": "stdout",
     "output_type": "stream",
     "text": [
      "README\txgb_clf.pkl\n"
     ]
    }
   ],
   "source": [
    "!ls ../../models/CIC_IDS_2017"
   ]
  },
  {
   "cell_type": "code",
   "execution_count": 38,
   "id": "d2bb9e4e-7068-48c7-abf4-51d5bbf3505f",
   "metadata": {},
   "outputs": [],
   "source": [
    "with open('../../models/CIC_IDS_2017/xgb_clf.pkl', 'wb') as f:\n",
    "    pickle.dump(xgb_clf, f)"
   ]
  },
  {
   "cell_type": "markdown",
   "id": "6fb11c7c-2d4a-44c8-8b0c-59108478e525",
   "metadata": {},
   "source": [
    "## 5.4. LightGBM"
   ]
  },
  {
   "cell_type": "code",
   "execution_count": 51,
   "id": "7134510a-212b-47a5-86fc-88be2f331466",
   "metadata": {},
   "outputs": [
    {
     "name": "stdout",
     "output_type": "stream",
     "text": [
      "[LightGBM] [Info] Number of positive: 1930312, number of negative: 473382\n",
      "[LightGBM] [Info] Auto-choosing col-wise multi-threading, the overhead of testing was 0.051339 seconds.\n",
      "You can set `force_col_wise=true` to remove the overhead.\n",
      "[LightGBM] [Info] Total Bins 2550\n",
      "[LightGBM] [Info] Number of data points in the train set: 2403694, number of used features: 10\n",
      "[LightGBM] [Info] [binary:BoostFromScore]: pavg=0.803061 -> initscore=1.405534\n",
      "[LightGBM] [Info] Start training from score 1.405534\n"
     ]
    },
    {
     "name": "stderr",
     "output_type": "stream",
     "text": [
      "/home/kostas/Documents/Programs/Python/RT_IDS/lib/python3.13/site-packages/sklearn/utils/validation.py:2749: UserWarning: X does not have valid feature names, but LGBMClassifier was fitted with feature names\n",
      "  warnings.warn(\n"
     ]
    },
    {
     "name": "stdout",
     "output_type": "stream",
     "text": [
      "CPU times: user 32.6 s, sys: 55.4 ms, total: 32.7 s\n",
      "Wall time: 8.36 s\n"
     ]
    }
   ],
   "source": [
    "%%time\n",
    "\n",
    "lgbm_clf = lightgbm.LGBMClassifier()\n",
    "lgbm_clf.fit(X_train, y_train)\n",
    "y_pred = lgbm_clf.predict(X_test)"
   ]
  },
  {
   "cell_type": "code",
   "execution_count": 52,
   "id": "cb0b0f53-cd01-4ff7-b04d-453465111ed3",
   "metadata": {},
   "outputs": [
    {
     "data": {
      "image/png": "[encoded data removed]",
      "text/plain": [
       "<Figure size 640x480 with 2 Axes>"
      ]
     },
     "metadata": {},
     "output_type": "display_data"
    }
   ],
   "source": [
    "visualize_CM(confusion_matrix(y_test, y_pred))"
   ]
  },
  {
   "cell_type": "code",
   "execution_count": 53,
   "id": "e6b0ac43-3850-4757-9e9f-af75f671fb5d",
   "metadata": {},
   "outputs": [],
   "source": [
    "accuracy = accuracy_score(y_true=y_test, y_pred=y_pred)\n",
    "precision = precision_score(y_true=y_test, y_pred=y_pred, average=\"weighted\")\n",
    "f1 = f1_score(y_true=y_test, y_pred=y_pred, average=\"weighted\")\n",
    "recall = recall_score(y_true=y_test, y_pred=y_pred, average=\"weighted\")\n",
    "mae = mean_absolute_error(y_true=y_test,y_pred=y_pred)\n",
    "mse = mean_squared_error(y_true=y_test,y_pred=y_pred) \n",
    "rmse = root_mean_squared_error(y_true=y_test,y_pred=y_pred)"
   ]
  },
  {
   "cell_type": "code",
   "execution_count": 54,
   "id": "ecce1050-ff49-40dd-9d6c-9498f0815012",
   "metadata": {},
   "outputs": [],
   "source": [
    "results = [accuracy, precision, f1, recall, mae, mse, rmse]\n",
    "results_dict[\"LightGBM\"] = results"
   ]
  },
  {
   "cell_type": "code",
   "execution_count": 55,
   "id": "662418a6-b533-4ec2-9153-1d345131d8e3",
   "metadata": {},
   "outputs": [
    {
     "data": {
      "text/html": [
       "<div>\n",
       "<style scoped>\n",
       "    .dataframe tbody tr th:only-of-type {\n",
       "        vertical-align: middle;\n",
       "    }\n",
       "\n",
       "    .dataframe tbody tr th {\n",
       "        vertical-align: top;\n",
       "    }\n",
       "\n",
       "    .dataframe thead th {\n",
       "        text-align: right;\n",
       "    }\n",
       "</style>\n",
       "<table border=\"1\" class=\"dataframe\">\n",
       "  <thead>\n",
       "    <tr style=\"text-align: right;\">\n",
       "      <th></th>\n",
       "      <th>Accuracy</th>\n",
       "      <th>Precision</th>\n",
       "      <th>F1</th>\n",
       "      <th>Recall</th>\n",
       "      <th>MAE</th>\n",
       "      <th>MSE</th>\n",
       "      <th>RMSE</th>\n",
       "    </tr>\n",
       "  </thead>\n",
       "  <tbody>\n",
       "    <tr>\n",
       "      <th>KNN</th>\n",
       "      <td>0.996900</td>\n",
       "      <td>0.996908</td>\n",
       "      <td>0.996903</td>\n",
       "      <td>0.996900</td>\n",
       "      <td>0.003100</td>\n",
       "      <td>0.003100</td>\n",
       "      <td>0.055678</td>\n",
       "    </tr>\n",
       "    <tr>\n",
       "      <th>RF</th>\n",
       "      <td>0.998677</td>\n",
       "      <td>0.998677</td>\n",
       "      <td>0.998677</td>\n",
       "      <td>0.998677</td>\n",
       "      <td>0.001323</td>\n",
       "      <td>0.001323</td>\n",
       "      <td>0.036367</td>\n",
       "    </tr>\n",
       "    <tr>\n",
       "      <th>XGBoost</th>\n",
       "      <td>0.996886</td>\n",
       "      <td>0.996885</td>\n",
       "      <td>0.996886</td>\n",
       "      <td>0.996886</td>\n",
       "      <td>0.003114</td>\n",
       "      <td>0.003114</td>\n",
       "      <td>0.055805</td>\n",
       "    </tr>\n",
       "    <tr>\n",
       "      <th>LightGBM</th>\n",
       "      <td>0.995089</td>\n",
       "      <td>0.995084</td>\n",
       "      <td>0.995086</td>\n",
       "      <td>0.995089</td>\n",
       "      <td>0.004911</td>\n",
       "      <td>0.004911</td>\n",
       "      <td>0.070076</td>\n",
       "    </tr>\n",
       "  </tbody>\n",
       "</table>\n",
       "</div>"
      ],
      "text/plain": [
       "          Accuracy  Precision        F1    Recall       MAE       MSE  \\\n",
       "KNN       0.996900   0.996908  0.996903  0.996900  0.003100  0.003100   \n",
       "RF        0.998677   0.998677  0.998677  0.998677  0.001323  0.001323   \n",
       "XGBoost   0.996886   0.996885  0.996886  0.996886  0.003114  0.003114   \n",
       "LightGBM  0.995089   0.995084  0.995086  0.995089  0.004911  0.004911   \n",
       "\n",
       "              RMSE  \n",
       "KNN       0.055678  \n",
       "RF        0.036367  \n",
       "XGBoost   0.055805  \n",
       "LightGBM  0.070076  "
      ]
     },
     "execution_count": 55,
     "metadata": {},
     "output_type": "execute_result"
    }
   ],
   "source": [
    "pd.DataFrame.from_dict(results_dict, orient=\"index\", columns=[\"Accuracy\", \"Precision\", \"F1\", \"Recall\", \"MAE\", \"MSE\", \"RMSE\"])"
   ]
  },
  {
   "cell_type": "code",
   "execution_count": 70,
   "id": "a00b0969-12c7-407c-bca7-0998fb825f35",
   "metadata": {},
   "outputs": [],
   "source": [
    "with open('lgbm_clf.pkl', 'wb') as f:\n",
    "    pickle.dump(lgbm_clf, f)"
   ]
  },
  {
   "cell_type": "markdown",
   "id": "501f8bf0-f18a-40c9-a735-144b47f859cb",
   "metadata": {},
   "source": [
    "## 5.5. Linear Support Vector Classifier"
   ]
  },
  {
   "cell_type": "code",
   "execution_count": 56,
   "id": "e28c4b40-1f74-43fc-94a6-6dea9333d4df",
   "metadata": {},
   "outputs": [
    {
     "name": "stdout",
     "output_type": "stream",
     "text": [
      "CPU times: user 4.56 s, sys: 60.3 ms, total: 4.62 s\n",
      "Wall time: 4.66 s\n"
     ]
    }
   ],
   "source": [
    "%%time\n",
    "\n",
    "svc_clf = LinearSVC()\n",
    "svc_clf.fit(X_train, y_train)\n",
    "y_pred = svc_clf.predict(X_test)"
   ]
  },
  {
   "cell_type": "code",
   "execution_count": 57,
   "id": "6bc29484-a552-41bb-b517-29d083061000",
   "metadata": {},
   "outputs": [
    {
     "data": {
      "image/png": "[encoded data removed]",
      "text/plain": [
       "<Figure size 640x480 with 2 Axes>"
      ]
     },
     "metadata": {},
     "output_type": "display_data"
    }
   ],
   "source": [
    "visualize_CM(confusion_matrix(y_test, y_pred))"
   ]
  },
  {
   "cell_type": "code",
   "execution_count": 58,
   "id": "0160ee7e-04d3-4d70-88fb-0c798112e00e",
   "metadata": {},
   "outputs": [],
   "source": [
    "accuracy = accuracy_score(y_true=y_test, y_pred=y_pred)\n",
    "precision = precision_score(y_true=y_test, y_pred=y_pred, average=\"weighted\")\n",
    "f1 = f1_score(y_true=y_test, y_pred=y_pred, average=\"weighted\")\n",
    "recall = recall_score(y_true=y_test, y_pred=y_pred, average=\"weighted\")\n",
    "mae = mean_absolute_error(y_true=y_test,y_pred=y_pred)\n",
    "mse = mean_squared_error(y_true=y_test,y_pred=y_pred) \n",
    "rmse = root_mean_squared_error(y_true=y_test,y_pred=y_pred)"
   ]
  },
  {
   "cell_type": "code",
   "execution_count": 59,
   "id": "b33b43a5-1840-414f-afc3-534a7de869b7",
   "metadata": {},
   "outputs": [],
   "source": [
    "results = [accuracy, precision, f1, recall, mae, mse, rmse]\n",
    "results_dict[\"LSVC\"] = results"
   ]
  },
  {
   "cell_type": "code",
   "execution_count": 60,
   "id": "fcd6cc62-7702-46f9-a51d-39ddfe01b19d",
   "metadata": {},
   "outputs": [
    {
     "data": {
      "text/html": [
       "<div>\n",
       "<style scoped>\n",
       "    .dataframe tbody tr th:only-of-type {\n",
       "        vertical-align: middle;\n",
       "    }\n",
       "\n",
       "    .dataframe tbody tr th {\n",
       "        vertical-align: top;\n",
       "    }\n",
       "\n",
       "    .dataframe thead th {\n",
       "        text-align: right;\n",
       "    }\n",
       "</style>\n",
       "<table border=\"1\" class=\"dataframe\">\n",
       "  <thead>\n",
       "    <tr style=\"text-align: right;\">\n",
       "      <th></th>\n",
       "      <th>KNN</th>\n",
       "      <th>RF</th>\n",
       "      <th>XGBoost</th>\n",
       "      <th>LightGBM</th>\n",
       "      <th>LSVC</th>\n",
       "    </tr>\n",
       "  </thead>\n",
       "  <tbody>\n",
       "    <tr>\n",
       "      <th>Accuracy</th>\n",
       "      <td>0.996900</td>\n",
       "      <td>0.998677</td>\n",
       "      <td>0.996886</td>\n",
       "      <td>0.995089</td>\n",
       "      <td>0.879521</td>\n",
       "    </tr>\n",
       "    <tr>\n",
       "      <th>Precision</th>\n",
       "      <td>0.996908</td>\n",
       "      <td>0.998677</td>\n",
       "      <td>0.996885</td>\n",
       "      <td>0.995084</td>\n",
       "      <td>0.884579</td>\n",
       "    </tr>\n",
       "    <tr>\n",
       "      <th>F1</th>\n",
       "      <td>0.996903</td>\n",
       "      <td>0.998677</td>\n",
       "      <td>0.996886</td>\n",
       "      <td>0.995086</td>\n",
       "      <td>0.860765</td>\n",
       "    </tr>\n",
       "    <tr>\n",
       "      <th>Recall</th>\n",
       "      <td>0.996900</td>\n",
       "      <td>0.998677</td>\n",
       "      <td>0.996886</td>\n",
       "      <td>0.995089</td>\n",
       "      <td>0.879521</td>\n",
       "    </tr>\n",
       "    <tr>\n",
       "      <th>MAE</th>\n",
       "      <td>0.003100</td>\n",
       "      <td>0.001323</td>\n",
       "      <td>0.003114</td>\n",
       "      <td>0.004911</td>\n",
       "      <td>0.120479</td>\n",
       "    </tr>\n",
       "    <tr>\n",
       "      <th>MSE</th>\n",
       "      <td>0.003100</td>\n",
       "      <td>0.001323</td>\n",
       "      <td>0.003114</td>\n",
       "      <td>0.004911</td>\n",
       "      <td>0.120479</td>\n",
       "    </tr>\n",
       "    <tr>\n",
       "      <th>RMSE</th>\n",
       "      <td>0.055678</td>\n",
       "      <td>0.036367</td>\n",
       "      <td>0.055805</td>\n",
       "      <td>0.070076</td>\n",
       "      <td>0.347101</td>\n",
       "    </tr>\n",
       "  </tbody>\n",
       "</table>\n",
       "</div>"
      ],
      "text/plain": [
       "                KNN        RF   XGBoost  LightGBM      LSVC\n",
       "Accuracy   0.996900  0.998677  0.996886  0.995089  0.879521\n",
       "Precision  0.996908  0.998677  0.996885  0.995084  0.884579\n",
       "F1         0.996903  0.998677  0.996886  0.995086  0.860765\n",
       "Recall     0.996900  0.998677  0.996886  0.995089  0.879521\n",
       "MAE        0.003100  0.001323  0.003114  0.004911  0.120479\n",
       "MSE        0.003100  0.001323  0.003114  0.004911  0.120479\n",
       "RMSE       0.055678  0.036367  0.055805  0.070076  0.347101"
      ]
     },
     "execution_count": 60,
     "metadata": {},
     "output_type": "execute_result"
    }
   ],
   "source": [
    "pd.DataFrame.from_dict(results_dict, orient=\"index\", columns=[\"Accuracy\", \"Precision\", \"F1\", \"Recall\", \"MAE\", \"MSE\", \"RMSE\"]).T"
   ]
  },
  {
   "cell_type": "code",
   "execution_count": 73,
   "id": "7b29d158-9488-4c1d-b85c-4884c1b87b68",
   "metadata": {},
   "outputs": [],
   "source": [
    "with open('svc_clf.pkl', 'wb') as f:\n",
    "    pickle.dump(svc_clf, f)"
   ]
  },
  {
   "cell_type": "markdown",
   "id": "96e50620-8081-48bc-b23d-e4bc5bbc8a7d",
   "metadata": {},
   "source": [
    "## 5.6. Neural Network"
   ]
  },
  {
   "cell_type": "code",
   "execution_count": 61,
   "id": "5bb38cbe-b40e-411e-b99b-2065fe16f2df",
   "metadata": {},
   "outputs": [
    {
     "data": {
      "text/plain": [
       "((1971029, 10, 1),\n",
       " (1971029,),\n",
       " (432665, 10, 1),\n",
       " (432665,),\n",
       " (424182, 10, 1),\n",
       " (424182,))"
      ]
     },
     "execution_count": 61,
     "metadata": {},
     "output_type": "execute_result"
    }
   ],
   "source": [
    "X_train, X_test, y_train, y_test = train_test_split(X, y, test_size=0.15)\n",
    "X_train, X_val, y_train, y_val = train_test_split(X_train, y_train, test_size=0.18)\n",
    "X_train.shape, y_train.shape, X_val.shape, y_val.shape, X_test.shape, y_test.shape"
   ]
  },
  {
   "cell_type": "code",
   "execution_count": 62,
   "id": "36e42ee9-dd58-4bd6-a23b-6fa5ece5b2e8",
   "metadata": {},
   "outputs": [
    {
     "name": "stderr",
     "output_type": "stream",
     "text": [
      "/home/kostas/Documents/Programs/Python/RT_IDS/lib/python3.13/site-packages/keras/src/layers/core/dense.py:92: UserWarning: Do not pass an `input_shape`/`input_dim` argument to a layer. When using Sequential models, prefer using an `Input(shape)` object as the first layer in the model instead.\n",
      "  super().__init__(activity_regularizer=activity_regularizer, **kwargs)\n",
      "WARNING: All log messages before absl::InitializeLog() is called are written to STDERR\n",
      "E0000 00:00:1759995452.684515   28596 cuda_executor.cc:1309] INTERNAL: CUDA Runtime error: Failed call to cudaGetRuntimeVersion: Error loading CUDA libraries. GPU will not be used.: Error loading CUDA libraries. GPU will not be used.\n",
      "W0000 00:00:1759995452.796997   28596 gpu_device.cc:2342] Cannot dlopen some GPU libraries. Please make sure the missing libraries mentioned above are installed properly if you would like to use GPU. Follow the guide at https://www.tensorflow.org/install/gpu for how to download and setup the required libraries for your platform.\n",
      "Skipping registering GPU devices...\n"
     ]
    }
   ],
   "source": [
    "def create_model(X_train, y_train):\n",
    "    model = keras.Sequential()\n",
    "    model.add(keras.layers.Dense(X_train.shape[1], activation='relu', input_shape=(X_train.shape[1],)))\n",
    "    model.add(keras.layers.Dense(256, activation='relu'))\n",
    "    model.add(keras.layers.Dense(256, activation='relu'))\n",
    "    model.add(keras.layers.Dense(len(np.unique(y_train)), activation='softmax'))\n",
    "    model.compile(optimizer='adam', loss='sparse_categorical_crossentropy', metrics=['accuracy'])\n",
    "    return model\n",
    "model = create_model(X_train, y_train)"
   ]
  },
  {
   "cell_type": "code",
   "execution_count": 63,
   "id": "20b33e75-2262-48e7-9e8c-8186d8726bf7",
   "metadata": {},
   "outputs": [
    {
     "data": {
      "text/html": [
       "<pre style=\"white-space:pre;overflow-x:auto;line-height:normal;font-family:Menlo,'DejaVu Sans Mono',consolas,'Courier New',monospace\"><span style=\"font-weight: bold\">Model: \"sequential\"</span>\n",
       "</pre>\n"
      ],
      "text/plain": [
       "\u001b[1mModel: \"sequential\"\u001b[0m\n"
      ]
     },
     "metadata": {},
     "output_type": "display_data"
    },
    {
     "data": {
      "text/html": [
       "<pre style=\"white-space:pre;overflow-x:auto;line-height:normal;font-family:Menlo,'DejaVu Sans Mono',consolas,'Courier New',monospace\">┏━━━━━━━━━━━━━━━━━━━━━━━━━━━━━━━━━┳━━━━━━━━━━━━━━━━━━━━━━━━┳━━━━━━━━━━━━━━━┓\n",
       "┃<span style=\"font-weight: bold\"> Layer (type)                    </span>┃<span style=\"font-weight: bold\"> Output Shape           </span>┃<span style=\"font-weight: bold\">       Param # </span>┃\n",
       "┡━━━━━━━━━━━━━━━━━━━━━━━━━━━━━━━━━╇━━━━━━━━━━━━━━━━━━━━━━━━╇━━━━━━━━━━━━━━━┩\n",
       "│ dense (<span style=\"color: #0087ff; text-decoration-color: #0087ff\">Dense</span>)                   │ (<span style=\"color: #00d7ff; text-decoration-color: #00d7ff\">None</span>, <span style=\"color: #00af00; text-decoration-color: #00af00\">10</span>)             │           <span style=\"color: #00af00; text-decoration-color: #00af00\">110</span> │\n",
       "├─────────────────────────────────┼────────────────────────┼───────────────┤\n",
       "│ dense_1 (<span style=\"color: #0087ff; text-decoration-color: #0087ff\">Dense</span>)                 │ (<span style=\"color: #00d7ff; text-decoration-color: #00d7ff\">None</span>, <span style=\"color: #00af00; text-decoration-color: #00af00\">256</span>)            │         <span style=\"color: #00af00; text-decoration-color: #00af00\">2,816</span> │\n",
       "├─────────────────────────────────┼────────────────────────┼───────────────┤\n",
       "│ dense_2 (<span style=\"color: #0087ff; text-decoration-color: #0087ff\">Dense</span>)                 │ (<span style=\"color: #00d7ff; text-decoration-color: #00d7ff\">None</span>, <span style=\"color: #00af00; text-decoration-color: #00af00\">256</span>)            │        <span style=\"color: #00af00; text-decoration-color: #00af00\">65,792</span> │\n",
       "├─────────────────────────────────┼────────────────────────┼───────────────┤\n",
       "│ dense_3 (<span style=\"color: #0087ff; text-decoration-color: #0087ff\">Dense</span>)                 │ (<span style=\"color: #00d7ff; text-decoration-color: #00d7ff\">None</span>, <span style=\"color: #00af00; text-decoration-color: #00af00\">2</span>)              │           <span style=\"color: #00af00; text-decoration-color: #00af00\">514</span> │\n",
       "└─────────────────────────────────┴────────────────────────┴───────────────┘\n",
       "</pre>\n"
      ],
      "text/plain": [
       "┏━━━━━━━━━━━━━━━━━━━━━━━━━━━━━━━━━┳━━━━━━━━━━━━━━━━━━━━━━━━┳━━━━━━━━━━━━━━━┓\n",
       "┃\u001b[1m \u001b[0m\u001b[1mLayer (type)                   \u001b[0m\u001b[1m \u001b[0m┃\u001b[1m \u001b[0m\u001b[1mOutput Shape          \u001b[0m\u001b[1m \u001b[0m┃\u001b[1m \u001b[0m\u001b[1m      Param #\u001b[0m\u001b[1m \u001b[0m┃\n",
       "┡━━━━━━━━━━━━━━━━━━━━━━━━━━━━━━━━━╇━━━━━━━━━━━━━━━━━━━━━━━━╇━━━━━━━━━━━━━━━┩\n",
       "│ dense (\u001b[38;5;33mDense\u001b[0m)                   │ (\u001b[38;5;45mNone\u001b[0m, \u001b[38;5;34m10\u001b[0m)             │           \u001b[38;5;34m110\u001b[0m │\n",
       "├─────────────────────────────────┼────────────────────────┼───────────────┤\n",
       "│ dense_1 (\u001b[38;5;33mDense\u001b[0m)                 │ (\u001b[38;5;45mNone\u001b[0m, \u001b[38;5;34m256\u001b[0m)            │         \u001b[38;5;34m2,816\u001b[0m │\n",
       "├─────────────────────────────────┼────────────────────────┼───────────────┤\n",
       "│ dense_2 (\u001b[38;5;33mDense\u001b[0m)                 │ (\u001b[38;5;45mNone\u001b[0m, \u001b[38;5;34m256\u001b[0m)            │        \u001b[38;5;34m65,792\u001b[0m │\n",
       "├─────────────────────────────────┼────────────────────────┼───────────────┤\n",
       "│ dense_3 (\u001b[38;5;33mDense\u001b[0m)                 │ (\u001b[38;5;45mNone\u001b[0m, \u001b[38;5;34m2\u001b[0m)              │           \u001b[38;5;34m514\u001b[0m │\n",
       "└─────────────────────────────────┴────────────────────────┴───────────────┘\n"
      ]
     },
     "metadata": {},
     "output_type": "display_data"
    },
    {
     "data": {
      "text/html": [
       "<pre style=\"white-space:pre;overflow-x:auto;line-height:normal;font-family:Menlo,'DejaVu Sans Mono',consolas,'Courier New',monospace\"><span style=\"font-weight: bold\"> Total params: </span><span style=\"color: #00af00; text-decoration-color: #00af00\">69,232</span> (270.44 KB)\n",
       "</pre>\n"
      ],
      "text/plain": [
       "\u001b[1m Total params: \u001b[0m\u001b[38;5;34m69,232\u001b[0m (270.44 KB)\n"
      ]
     },
     "metadata": {},
     "output_type": "display_data"
    },
    {
     "data": {
      "text/html": [
       "<pre style=\"white-space:pre;overflow-x:auto;line-height:normal;font-family:Menlo,'DejaVu Sans Mono',consolas,'Courier New',monospace\"><span style=\"font-weight: bold\"> Trainable params: </span><span style=\"color: #00af00; text-decoration-color: #00af00\">69,232</span> (270.44 KB)\n",
       "</pre>\n"
      ],
      "text/plain": [
       "\u001b[1m Trainable params: \u001b[0m\u001b[38;5;34m69,232\u001b[0m (270.44 KB)\n"
      ]
     },
     "metadata": {},
     "output_type": "display_data"
    },
    {
     "data": {
      "text/html": [
       "<pre style=\"white-space:pre;overflow-x:auto;line-height:normal;font-family:Menlo,'DejaVu Sans Mono',consolas,'Courier New',monospace\"><span style=\"font-weight: bold\"> Non-trainable params: </span><span style=\"color: #00af00; text-decoration-color: #00af00\">0</span> (0.00 B)\n",
       "</pre>\n"
      ],
      "text/plain": [
       "\u001b[1m Non-trainable params: \u001b[0m\u001b[38;5;34m0\u001b[0m (0.00 B)\n"
      ]
     },
     "metadata": {},
     "output_type": "display_data"
    }
   ],
   "source": [
    "model.summary()"
   ]
  },
  {
   "cell_type": "code",
   "execution_count": 64,
   "id": "bcc86e0f-e7eb-4227-96d4-434c7c9806fb",
   "metadata": {},
   "outputs": [
    {
     "name": "stdout",
     "output_type": "stream",
     "text": [
      "Epoch 1/20\n",
      "\u001b[1m61595/61595\u001b[0m \u001b[32m━━━━━━━━━━━━━━━━━━━━\u001b[0m\u001b[37m\u001b[0m \u001b[1m127s\u001b[0m 2ms/step - accuracy: 0.9681 - loss: 0.0739 - val_accuracy: 0.9762 - val_loss: 0.0579\n",
      "Epoch 2/20\n",
      "\u001b[1m61595/61595\u001b[0m \u001b[32m━━━━━━━━━━━━━━━━━━━━\u001b[0m\u001b[37m\u001b[0m \u001b[1m124s\u001b[0m 2ms/step - accuracy: 0.9747 - loss: 0.0574 - val_accuracy: 0.9754 - val_loss: 0.0568\n",
      "Epoch 3/20\n",
      "\u001b[1m61595/61595\u001b[0m \u001b[32m━━━━━━━━━━━━━━━━━━━━\u001b[0m\u001b[37m\u001b[0m \u001b[1m123s\u001b[0m 2ms/step - accuracy: 0.9763 - loss: 0.0542 - val_accuracy: 0.9805 - val_loss: 0.0502\n",
      "Epoch 4/20\n",
      "\u001b[1m61595/61595\u001b[0m \u001b[32m━━━━━━━━━━━━━━━━━━━━\u001b[0m\u001b[37m\u001b[0m \u001b[1m119s\u001b[0m 2ms/step - accuracy: 0.9774 - loss: 0.0517 - val_accuracy: 0.9785 - val_loss: 0.0492\n",
      "Epoch 5/20\n",
      "\u001b[1m61595/61595\u001b[0m \u001b[32m━━━━━━━━━━━━━━━━━━━━\u001b[0m\u001b[37m\u001b[0m \u001b[1m119s\u001b[0m 2ms/step - accuracy: 0.9785 - loss: 0.0492 - val_accuracy: 0.9778 - val_loss: 0.0522\n",
      "Epoch 6/20\n",
      "\u001b[1m61595/61595\u001b[0m \u001b[32m━━━━━━━━━━━━━━━━━━━━\u001b[0m\u001b[37m\u001b[0m \u001b[1m120s\u001b[0m 2ms/step - accuracy: 0.9804 - loss: 0.0461 - val_accuracy: 0.9807 - val_loss: 0.0425\n",
      "Epoch 7/20\n",
      "\u001b[1m61595/61595\u001b[0m \u001b[32m━━━━━━━━━━━━━━━━━━━━\u001b[0m\u001b[37m\u001b[0m \u001b[1m120s\u001b[0m 2ms/step - accuracy: 0.9824 - loss: 0.0434 - val_accuracy: 0.9830 - val_loss: 0.0416\n",
      "Epoch 8/20\n",
      "\u001b[1m61595/61595\u001b[0m \u001b[32m━━━━━━━━━━━━━━━━━━━━\u001b[0m\u001b[37m\u001b[0m \u001b[1m119s\u001b[0m 2ms/step - accuracy: 0.9828 - loss: 0.0423 - val_accuracy: 0.9782 - val_loss: 0.0455\n",
      "Epoch 9/20\n",
      "\u001b[1m61595/61595\u001b[0m \u001b[32m━━━━━━━━━━━━━━━━━━━━\u001b[0m\u001b[37m\u001b[0m \u001b[1m118s\u001b[0m 2ms/step - accuracy: 0.9845 - loss: 0.0388 - val_accuracy: 0.9831 - val_loss: 0.0410\n",
      "Epoch 10/20\n",
      "\u001b[1m61595/61595\u001b[0m \u001b[32m━━━━━━━━━━━━━━━━━━━━\u001b[0m\u001b[37m\u001b[0m \u001b[1m119s\u001b[0m 2ms/step - accuracy: 0.9841 - loss: 0.0409 - val_accuracy: 0.9879 - val_loss: 0.0313\n",
      "Epoch 11/20\n",
      "\u001b[1m61595/61595\u001b[0m \u001b[32m━━━━━━━━━━━━━━━━━━━━\u001b[0m\u001b[37m\u001b[0m \u001b[1m118s\u001b[0m 2ms/step - accuracy: 0.9856 - loss: 0.0374 - val_accuracy: 0.9866 - val_loss: 0.0498\n",
      "Epoch 12/20\n",
      "\u001b[1m61595/61595\u001b[0m \u001b[32m━━━━━━━━━━━━━━━━━━━━\u001b[0m\u001b[37m\u001b[0m \u001b[1m119s\u001b[0m 2ms/step - accuracy: 0.9865 - loss: 0.0356 - val_accuracy: 0.9885 - val_loss: 0.0286\n",
      "Epoch 13/20\n",
      "\u001b[1m61595/61595\u001b[0m \u001b[32m━━━━━━━━━━━━━━━━━━━━\u001b[0m\u001b[37m\u001b[0m \u001b[1m118s\u001b[0m 2ms/step - accuracy: 0.9863 - loss: 0.0354 - val_accuracy: 0.9788 - val_loss: 0.0451\n",
      "Epoch 14/20\n",
      "\u001b[1m61595/61595\u001b[0m \u001b[32m━━━━━━━━━━━━━━━━━━━━\u001b[0m\u001b[37m\u001b[0m \u001b[1m118s\u001b[0m 2ms/step - accuracy: 0.9871 - loss: 0.0336 - val_accuracy: 0.9789 - val_loss: 0.0567\n",
      "Epoch 15/20\n",
      "\u001b[1m61595/61595\u001b[0m \u001b[32m━━━━━━━━━━━━━━━━━━━━\u001b[0m\u001b[37m\u001b[0m \u001b[1m119s\u001b[0m 2ms/step - accuracy: 0.9873 - loss: 0.0333 - val_accuracy: 0.9895 - val_loss: 0.0235\n",
      "Epoch 16/20\n",
      "\u001b[1m61595/61595\u001b[0m \u001b[32m━━━━━━━━━━━━━━━━━━━━\u001b[0m\u001b[37m\u001b[0m \u001b[1m118s\u001b[0m 2ms/step - accuracy: 0.9879 - loss: 0.0325 - val_accuracy: 0.9884 - val_loss: 0.0374\n",
      "Epoch 17/20\n",
      "\u001b[1m61595/61595\u001b[0m \u001b[32m━━━━━━━━━━━━━━━━━━━━\u001b[0m\u001b[37m\u001b[0m \u001b[1m118s\u001b[0m 2ms/step - accuracy: 0.9882 - loss: 0.0325 - val_accuracy: 0.9760 - val_loss: 0.0604\n",
      "Epoch 18/20\n",
      "\u001b[1m61595/61595\u001b[0m \u001b[32m━━━━━━━━━━━━━━━━━━━━\u001b[0m\u001b[37m\u001b[0m \u001b[1m119s\u001b[0m 2ms/step - accuracy: 0.9877 - loss: 0.0323 - val_accuracy: 0.9807 - val_loss: 0.0436\n",
      "Epoch 19/20\n",
      "\u001b[1m61595/61595\u001b[0m \u001b[32m━━━━━━━━━━━━━━━━━━━━\u001b[0m\u001b[37m\u001b[0m \u001b[1m119s\u001b[0m 2ms/step - accuracy: 0.9885 - loss: 0.0310 - val_accuracy: 0.9933 - val_loss: 0.0221\n",
      "Epoch 20/20\n",
      "\u001b[1m61595/61595\u001b[0m \u001b[32m━━━━━━━━━━━━━━━━━━━━\u001b[0m\u001b[37m\u001b[0m \u001b[1m120s\u001b[0m 2ms/step - accuracy: 0.9888 - loss: 0.0300 - val_accuracy: 0.9826 - val_loss: 0.0450\n",
      "CPU times: user 1h 14min 26s, sys: 4min 24s, total: 1h 18min 50s\n",
      "Wall time: 39min 54s\n"
     ]
    }
   ],
   "source": [
    "%%time\n",
    "model.fit(X_train, y_train,\n",
    "          batch_size=32,\n",
    "          epochs=20,\n",
    "          validation_data=(X_val, y_val))\n",
    "gc.collect();"
   ]
  },
  {
   "cell_type": "code",
   "execution_count": 65,
   "id": "f0c1b282-460e-4583-aa29-41e780d64d85",
   "metadata": {},
   "outputs": [
    {
     "name": "stdout",
     "output_type": "stream",
     "text": [
      "\u001b[1m13256/13256\u001b[0m \u001b[32m━━━━━━━━━━━━━━━━━━━━\u001b[0m\u001b[37m\u001b[0m \u001b[1m9s\u001b[0m 704us/step\n"
     ]
    }
   ],
   "source": [
    "y_pred = model.predict(X_test)\n",
    "y_pred = np.argmax(y_pred, axis=1)"
   ]
  },
  {
   "cell_type": "code",
   "execution_count": 66,
   "id": "41c539be-9a2c-46fd-aee3-863d7df4f5d1",
   "metadata": {},
   "outputs": [
    {
     "name": "stdout",
     "output_type": "stream",
     "text": [
      "\u001b[1m13256/13256\u001b[0m \u001b[32m━━━━━━━━━━━━━━━━━━━━\u001b[0m\u001b[37m\u001b[0m \u001b[1m14s\u001b[0m 1ms/step - accuracy: 0.9823 - loss: 0.0448\n"
     ]
    }
   ],
   "source": [
    "_, accuracy = model.evaluate(X_test, y_test)\n",
    "precision = precision_score(y_true=y_test, y_pred=y_pred, average=\"weighted\")\n",
    "f1 = f1_score(y_true=y_test, y_pred=y_pred, average=\"weighted\")\n",
    "recall = recall_score(y_true=y_test, y_pred=y_pred, average=\"weighted\")\n",
    "mae = mean_absolute_error(y_true=y_test,y_pred=y_pred)\n",
    "mse = mean_squared_error(y_true=y_test,y_pred=y_pred) \n",
    "rmse = root_mean_squared_error(y_true=y_test,y_pred=y_pred)"
   ]
  },
  {
   "cell_type": "code",
   "execution_count": 77,
   "id": "d5f37a69-9b3b-45a7-929e-5b519dbce7e2",
   "metadata": {},
   "outputs": [],
   "source": [
    "model.save('ANN.keras')"
   ]
  },
  {
   "cell_type": "code",
   "execution_count": 67,
   "id": "7d1c80a4-a52a-45cb-819a-1440f2aed8d6",
   "metadata": {},
   "outputs": [],
   "source": [
    "results = [accuracy, precision, f1, recall, mae, mse, rmse]\n",
    "results_dict[\"RNN\"] = results"
   ]
  },
  {
   "cell_type": "code",
   "execution_count": 68,
   "id": "d92c9ec8-8919-4290-ba26-b058bc533ce1",
   "metadata": {},
   "outputs": [],
   "source": [
    "results_df = pd.DataFrame.from_dict(results_dict, orient=\"index\", columns=[\"Accuracy\", \"Precision\", \"F1\", \"Recall\", \"MAE\", \"MSE\", \"RMSE\"])"
   ]
  },
  {
   "cell_type": "markdown",
   "id": "862a97b4-43cb-4a62-bc85-b04f12d37897",
   "metadata": {},
   "source": [
    "# 6. Plotting data"
   ]
  },
  {
   "cell_type": "code",
   "execution_count": 69,
   "id": "88a4fbb6-a99f-45e3-afb6-ed9de7d2a3ae",
   "metadata": {},
   "outputs": [
    {
     "data": {
      "image/png": "[encoded data removed]",
      "text/plain": [
       "<Figure size 1500x5000 with 7 Axes>"
      ]
     },
     "metadata": {},
     "output_type": "display_data"
    }
   ],
   "source": [
    "plotResults(results_df, results_df.columns, len(results_df.columns), 1)"
   ]
  },
  {
   "cell_type": "code",
   "execution_count": null,
   "id": "86dd3645-e937-4ffa-bcd0-683c0f20d7fe",
   "metadata": {},
   "outputs": [],
   "source": []
  },
  {
   "cell_type": "code",
   "execution_count": null,
   "id": "de51fd49-5a3a-4fad-b105-334945a49a00",
   "metadata": {},
   "outputs": [],
   "source": []
  }
 ],
 "metadata": {
  "kernelspec": {
   "display_name": "Python 3 (ipykernel)",
   "language": "python",
   "name": "python3"
  },
  "language_info": {
   "codemirror_mode": {
    "name": "ipython",
    "version": 3
   },
   "file_extension": ".py",
   "mimetype": "text/x-python",
   "name": "python",
   "nbconvert_exporter": "python",
   "pygments_lexer": "ipython3",
   "version": "3.13.7"
  }
 },
 "nbformat": 4,
 "nbformat_minor": 5
}
